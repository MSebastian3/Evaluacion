{
  "nbformat": 4,
  "nbformat_minor": 0,
  "metadata": {
    "colab": {
      "provenance": [],
      "collapsed_sections": [
        "0PLdUNlJoQd6",
        "D0rKjpBpzWYL",
        "xUg_to-R3nLW",
        "pUFVEG7Y3wNf",
        "BlFMECcP48Ro",
        "E6OxUA9lB0ty",
        "cKZPfZ67oYlM",
        "AByh4nZVoYlN",
        "Kp9SJMfdoY3M",
        "ggM_7KRroY3M"
      ],
      "authorship_tag": "ABX9TyMAB4mHZshOWiKDUEtQtXMu",
      "include_colab_link": true
    },
    "kernelspec": {
      "name": "python3",
      "display_name": "Python 3"
    },
    "language_info": {
      "name": "python"
    }
  },
  "cells": [
    {
      "cell_type": "markdown",
      "metadata": {
        "id": "view-in-github",
        "colab_type": "text"
      },
      "source": [
        "<a href=\"https://colab.research.google.com/github/MSebastian3/Evaluacion/blob/main/Actividad_5_(Evaluaci%C3%B3n).ipynb\" target=\"_parent\"><img src=\"https://colab.research.google.com/assets/colab-badge.svg\" alt=\"Open In Colab\"/></a>"
      ]
    },
    {
      "cell_type": "code",
      "source": [
        "#Instalamos librería para análisis de variables categóricas\n",
        "#%pip install funpymodeling"
      ],
      "metadata": {
        "id": "HkIMgdamBC-W"
      },
      "execution_count": null,
      "outputs": []
    },
    {
      "cell_type": "code",
      "execution_count": 30,
      "metadata": {
        "id": "FeIvJn6xxZWL"
      },
      "outputs": [],
      "source": [
        "#Importamos librerías requeridas\n",
        "import pandas as pd\n",
        "import numpy as np\n",
        "import matplotlib.pyplot as plt\n",
        "import seaborn as sns\n",
        "\n",
        "#from funpymodeling.exploratory import freq_tbl "
      ]
    },
    {
      "cell_type": "code",
      "source": [
        "#Cargar archivo csv desde equipo\n",
        "#from google.colab import files\n",
        "#files.upload()"
      ],
      "metadata": {
        "id": "DtgI_e7_xq82"
      },
      "execution_count": null,
      "outputs": []
    },
    {
      "cell_type": "markdown",
      "source": [
        "# ***California_EUA.csv***"
      ],
      "metadata": {
        "id": "0PLdUNlJoQd6"
      }
    },
    {
      "cell_type": "markdown",
      "source": [
        "## **ETAPA 1**"
      ],
      "metadata": {
        "id": "D0rKjpBpzWYL"
      }
    },
    {
      "cell_type": "code",
      "source": [
        "dfeua = pd.read_csv('California_EUA.csv', encoding = 'unicode_escape')\n",
        "dfeua.info()"
      ],
      "metadata": {
        "colab": {
          "base_uri": "https://localhost:8080/"
        },
        "id": "SBMQBZ03x2IQ",
        "outputId": "26c5a68b-5519-4c56-fbfd-5131de0f447e"
      },
      "execution_count": 31,
      "outputs": [
        {
          "output_type": "stream",
          "name": "stdout",
          "text": [
            "<class 'pandas.core.frame.DataFrame'>\n",
            "RangeIndex: 6936 entries, 0 to 6935\n",
            "Data columns (total 75 columns):\n",
            " #   Column                                        Non-Null Count  Dtype  \n",
            "---  ------                                        --------------  -----  \n",
            " 0   ï»¿id                                         6936 non-null   float64\n",
            " 1   listing_url                                   6936 non-null   object \n",
            " 2   scrape_id                                     6936 non-null   float64\n",
            " 3   last_scraped                                  6936 non-null   object \n",
            " 4   source                                        6936 non-null   object \n",
            " 5   name                                          6936 non-null   object \n",
            " 6   description                                   6889 non-null   object \n",
            " 7   neighborhood_overview                         4850 non-null   object \n",
            " 8   picture_url                                   6936 non-null   object \n",
            " 9   host_id                                       6936 non-null   int64  \n",
            " 10  host_url                                      6936 non-null   object \n",
            " 11  host_name                                     6936 non-null   object \n",
            " 12  host_since                                    6936 non-null   object \n",
            " 13  host_location                                 5715 non-null   object \n",
            " 14  host_about                                    4684 non-null   object \n",
            " 15  host_response_time                            5917 non-null   object \n",
            " 16  host_response_rate                            5917 non-null   object \n",
            " 17  host_acceptance_rate                          6135 non-null   object \n",
            " 18  host_is_superhost                             6927 non-null   object \n",
            " 19  host_thumbnail_url                            6936 non-null   object \n",
            " 20  host_picture_url                              6936 non-null   object \n",
            " 21  host_neighbourhood                            6635 non-null   object \n",
            " 22  host_listings_count                           6936 non-null   int64  \n",
            " 23  host_total_listings_count                     6936 non-null   int64  \n",
            " 24  host_verifications                            6936 non-null   object \n",
            " 25  host_has_profile_pic                          6936 non-null   object \n",
            " 26  host_identity_verified                        6936 non-null   object \n",
            " 27  neighbourhood                                 4850 non-null   object \n",
            " 28  neighbourhood_cleansed                        6936 non-null   object \n",
            " 29  neighbourhood_group_cleansed                  0 non-null      float64\n",
            " 30  latitude                                      6936 non-null   float64\n",
            " 31  longitude                                     6936 non-null   float64\n",
            " 32  property_type                                 6936 non-null   object \n",
            " 33  room_type                                     6936 non-null   object \n",
            " 34  accommodates                                  6936 non-null   int64  \n",
            " 35  bathrooms                                     0 non-null      float64\n",
            " 36  bathrooms_text                                6922 non-null   object \n",
            " 37  bedrooms                                      5991 non-null   float64\n",
            " 38  beds                                          6816 non-null   float64\n",
            " 39  amenities                                     6936 non-null   object \n",
            " 40  price                                         6936 non-null   object \n",
            " 41  minimum_nights                                6936 non-null   int64  \n",
            " 42  maximum_nights                                6936 non-null   int64  \n",
            " 43  minimum_minimum_nights                        6934 non-null   float64\n",
            " 44  maximum_minimum_nights                        6934 non-null   float64\n",
            " 45  minimum_maximum_nights                        6934 non-null   float64\n",
            " 46  maximum_maximum_nights                        6934 non-null   float64\n",
            " 47  minimum_nights_avg_ntm                        6934 non-null   float64\n",
            " 48  maximum_nights_avg_ntm                        6934 non-null   float64\n",
            " 49  calendar_updated                              0 non-null      float64\n",
            " 50  has_availability                              6936 non-null   object \n",
            " 51  availability_30                               6936 non-null   int64  \n",
            " 52  availability_60                               6936 non-null   int64  \n",
            " 53  availability_90                               6936 non-null   int64  \n",
            " 54  availability_365                              6936 non-null   int64  \n",
            " 55  calendar_last_scraped                         6936 non-null   object \n",
            " 56  number_of_reviews                             6936 non-null   int64  \n",
            " 57  number_of_reviews_ltm                         6936 non-null   int64  \n",
            " 58  number_of_reviews_l30d                        6936 non-null   int64  \n",
            " 59  first_review                                  5611 non-null   object \n",
            " 60  last_review                                   5611 non-null   object \n",
            " 61  review_scores_rating                          5611 non-null   float64\n",
            " 62  review_scores_accuracy                        5590 non-null   float64\n",
            " 63  review_scores_cleanliness                     5590 non-null   float64\n",
            " 64  review_scores_checkin                         5589 non-null   float64\n",
            " 65  review_scores_communication                   5590 non-null   float64\n",
            " 66  review_scores_location                        5589 non-null   float64\n",
            " 67  review_scores_value                           5589 non-null   float64\n",
            " 68  license                                       4178 non-null   object \n",
            " 69  instant_bookable                              6936 non-null   object \n",
            " 70  calculated_host_listings_count                6936 non-null   int64  \n",
            " 71  calculated_host_listings_count_entire_homes   6936 non-null   int64  \n",
            " 72  calculated_host_listings_count_private_rooms  6936 non-null   int64  \n",
            " 73  calculated_host_listings_count_shared_rooms   6936 non-null   int64  \n",
            " 74  reviews_per_month                             5611 non-null   float64\n",
            "dtypes: float64(23), int64(17), object(35)\n",
            "memory usage: 4.0+ MB\n"
          ]
        }
      ]
    },
    {
      "cell_type": "code",
      "source": [
        "#Checar si hay valores nulos por columna\n",
        "pd.set_option('display.max_rows', None)\n",
        "valores_nulos=dfeua.isnull().sum().sum()\n",
        "valores_nulos"
      ],
      "metadata": {
        "colab": {
          "base_uri": "https://localhost:8080/"
        },
        "id": "R_py5EZ-zogB",
        "outputId": "9201c59d-aa06-4717-f312-73e33d3f6280"
      },
      "execution_count": 32,
      "outputs": [
        {
          "output_type": "execute_result",
          "data": {
            "text/plain": [
              "48877"
            ]
          },
          "metadata": {},
          "execution_count": 32
        }
      ]
    },
    {
      "cell_type": "markdown",
      "source": [
        "### Filtros"
      ],
      "metadata": {
        "id": "xUg_to-R3nLW"
      }
    },
    {
      "cell_type": "code",
      "source": [
        "#Crear filtro numerico y no numerico\n",
        "filtroeuanumerico = dfeua.select_dtypes(include=['float64', 'int64'])\n",
        "#filtroeuanumerico.info()"
      ],
      "metadata": {
        "id": "fFI1DE3z3Yjz"
      },
      "execution_count": 33,
      "outputs": []
    },
    {
      "cell_type": "code",
      "source": [
        "filtroeua = dfeua.select_dtypes('object')\n",
        "#filtroeuanonumerico.info()"
      ],
      "metadata": {
        "id": "D49ff-2m20KR"
      },
      "execution_count": 34,
      "outputs": []
    },
    {
      "cell_type": "markdown",
      "source": [
        "### Nulos"
      ],
      "metadata": {
        "id": "pUFVEG7Y3wNf"
      }
    },
    {
      "cell_type": "code",
      "source": [
        "#sustituir los nulos por el promedio de la columna\n",
        "data1 = filtroeuanumerico.copy()\n",
        "filtroeuanumerico = data1.fillna(data1.mean())\n",
        "\n",
        "\n",
        "#sustituir los nulos por 'sin registro'\n",
        "filtroeua = filtroeua.fillna('sin registro')\n"
      ],
      "metadata": {
        "id": "HX1tbZq9z43-"
      },
      "execution_count": 35,
      "outputs": []
    },
    {
      "cell_type": "code",
      "source": [
        "#Checar si hay valores nulos por columna    NUMERICO\n",
        "pd.set_option('display.max_rows', None)\n",
        "valores_nulos=filtroeuanumerico.isnull().sum().sum()\n",
        "valores_nulos"
      ],
      "metadata": {
        "colab": {
          "base_uri": "https://localhost:8080/"
        },
        "id": "A9jJMu8G456u",
        "outputId": "69073e70-0f35-4bd8-952d-ae87c905d276"
      },
      "execution_count": 36,
      "outputs": [
        {
          "output_type": "execute_result",
          "data": {
            "text/plain": [
              "20808"
            ]
          },
          "metadata": {},
          "execution_count": 36
        }
      ]
    },
    {
      "cell_type": "code",
      "source": [
        "#Checar si hay valores nulos por columna    NO NUMERICO\n",
        "pd.set_option('display.max_rows', None)\n",
        "valores_nulos=filtroeua.isnull().sum().sum()\n",
        "valores_nulos"
      ],
      "metadata": {
        "colab": {
          "base_uri": "https://localhost:8080/"
        },
        "id": "8TEp7KUd9utT",
        "outputId": "e3220343-5b98-4eab-a75c-c45c2cb79d2b"
      },
      "execution_count": 37,
      "outputs": [
        {
          "output_type": "execute_result",
          "data": {
            "text/plain": [
              "0"
            ]
          },
          "metadata": {},
          "execution_count": 37
        }
      ]
    },
    {
      "cell_type": "code",
      "source": [
        "#NUMERICO\n",
        "#Se eliminaron las columnas 'neighbourhood_group_cleansed', 'bathrooms', 'calendar_updated'\n",
        "#ya que son numericas pero no tienen ningun registro y no aportan valor al análisis\n",
        "filtroeuanumerico = filtroeuanumerico.drop(['neighbourhood_group_cleansed', 'bathrooms', 'calendar_updated'], axis=1)\n",
        "\n",
        "#Checar si hay valores nulos por columna\n",
        "pd.set_option('display.max_rows', None)\n",
        "valores_nulos=filtroeuanumerico.isnull().sum().sum()\n",
        "valores_nulos"
      ],
      "metadata": {
        "colab": {
          "base_uri": "https://localhost:8080/"
        },
        "id": "1qpY8_y18SQP",
        "outputId": "66f869db-0ba7-4fc7-bed3-60aee7bb2b63"
      },
      "execution_count": 38,
      "outputs": [
        {
          "output_type": "execute_result",
          "data": {
            "text/plain": [
              "0"
            ]
          },
          "metadata": {},
          "execution_count": 38
        }
      ]
    },
    {
      "cell_type": "markdown",
      "source": [
        "### Outliers **MÉTODO DE IQR (RANGO INTER QUARTILICO)**"
      ],
      "metadata": {
        "id": "lxv99Mr681cj"
      }
    },
    {
      "cell_type": "code",
      "source": [
        "#Método aplicando Cuartiles. Encuentro cuartiles 0.25 y 0.75\n",
        "y=filtroeuanumerico\n",
        "\n",
        "percentile25=y.quantile(0.25) #Q1\n",
        "percentile75=y.quantile(0.75) #Q3\n",
        "iqr= percentile75 - percentile25\n",
        "\n",
        "Limite_Superior_iqr= percentile75 + 1.5*iqr\n",
        "Limite_Inferior_iqr= percentile25 - 1.5*iqr\n",
        "#print(\"Limite superior permitido\", Limite_Superior_iqr)\n",
        "#print(\"Limite inferior permitido\", Limite_Inferior_iqr)"
      ],
      "metadata": {
        "id": "h5qtQqiPE4am"
      },
      "execution_count": 39,
      "outputs": []
    },
    {
      "cell_type": "code",
      "source": [
        "#Encontramos Ouliers\n",
        "outliers_iqr= filtroeuanumerico[(y>Limite_Superior_iqr)|(y<Limite_Inferior_iqr)]\n",
        "#outliers_iqr.head()"
      ],
      "metadata": {
        "id": "rdXBRO36E-2R"
      },
      "execution_count": 40,
      "outputs": []
    },
    {
      "cell_type": "code",
      "source": [
        "#Obtenemos datos limpios\n",
        "data_clean_iqr1= filtroeuanumerico[(y<=Limite_Superior_iqr)&(y>=Limite_Inferior_iqr)]\n",
        "#data_clean_iqr1.head()"
      ],
      "metadata": {
        "id": "LDfCVealFE8j"
      },
      "execution_count": 41,
      "outputs": []
    },
    {
      "cell_type": "code",
      "source": [
        "#Checar si hay valores nulos por columna    NUMERICO\n",
        "pd.set_option('display.max_rows', None)\n",
        "valores_nulos=data_clean_iqr1.isnull().sum().sum()\n",
        "valores_nulos"
      ],
      "metadata": {
        "colab": {
          "base_uri": "https://localhost:8080/"
        },
        "id": "UoDIl_VG_6HZ",
        "outputId": "7112340f-fddd-41a8-c435-83b1797c1c0b"
      },
      "execution_count": 42,
      "outputs": [
        {
          "output_type": "execute_result",
          "data": {
            "text/plain": [
              "17526"
            ]
          },
          "metadata": {},
          "execution_count": 42
        }
      ]
    },
    {
      "cell_type": "code",
      "source": [
        "#Reemplazamos valores atípicos (nulos) del dataframe con \"mean\"\n",
        "#Realizamos una copia del dataframe\n",
        "data5_iqr=filtroeuanumerico.copy()\n",
        "data5_iqr=data5_iqr.fillna(round(filtroeuanumerico.mean(),1))\n",
        "#data5_iqr"
      ],
      "metadata": {
        "id": "N-eUWiyFNfZG"
      },
      "execution_count": 43,
      "outputs": []
    },
    {
      "cell_type": "code",
      "source": [
        "#Checar si hay valores nulos por columna    NUMERICO\n",
        "pd.set_option('display.max_rows', None)\n",
        "valores_nulos=data5_iqr.isnull().sum().sum()\n",
        "valores_nulos"
      ],
      "metadata": {
        "colab": {
          "base_uri": "https://localhost:8080/"
        },
        "id": "el3MYIyIOHxp",
        "outputId": "a0230830-b180-4c10-bfa1-c44a1b15682d"
      },
      "execution_count": 44,
      "outputs": [
        {
          "output_type": "execute_result",
          "data": {
            "text/plain": [
              "0"
            ]
          },
          "metadata": {},
          "execution_count": 44
        }
      ]
    },
    {
      "cell_type": "markdown",
      "source": [
        "### Concatenar"
      ],
      "metadata": {
        "id": "BlFMECcP48Ro"
      }
    },
    {
      "cell_type": "code",
      "source": [
        "concatenadoeua = pd.concat([data5_iqr, filtroeua], axis=1)\n",
        "concatenadoeua.head()"
      ],
      "metadata": {
        "colab": {
          "base_uri": "https://localhost:8080/",
          "height": 0
        },
        "id": "ltCK60Xg5SoF",
        "outputId": "c11f7f93-7465-4a34-b763-747550d904fe"
      },
      "execution_count": 45,
      "outputs": [
        {
          "output_type": "execute_result",
          "data": {
            "text/plain": [
              "    ï»¿id     scrape_id  host_id  host_listings_count  \\\n",
              "0   958.0  2.020000e+13     1169                    1   \n",
              "1  5858.0  2.020000e+13     8904                    2   \n",
              "2  8142.0  2.020000e+13    21994                   13   \n",
              "3  8339.0  2.020000e+13    24215                    2   \n",
              "4  8739.0  2.020000e+13     7149                    2   \n",
              "\n",
              "   host_total_listings_count  latitude  longitude  accommodates  bedrooms  \\\n",
              "0                          1  37.77028 -122.43317             3       1.0   \n",
              "1                          2  37.74474 -122.42089             4       2.0   \n",
              "2                         14  37.76555 -122.45213             1       1.0   \n",
              "3                          6  37.77564 -122.43642             4       2.0   \n",
              "4                          2  37.76030 -122.42197             3       1.0   \n",
              "\n",
              "   beds  ...        room_type  bathrooms_text  \\\n",
              "0   2.0  ...  Entire home/apt          1 bath   \n",
              "1   2.0  ...  Entire home/apt          1 bath   \n",
              "2   1.0  ...     Private room  4 shared baths   \n",
              "3   2.0  ...  Entire home/apt       1.5 baths   \n",
              "4   1.0  ...     Private room  1 private bath   \n",
              "\n",
              "                                           amenities    price  \\\n",
              "0  [\"Oven\", \"Self check-in\", \"Cooking basics\", \"L...  $202.00   \n",
              "1  [\"Essentials\", \"Carbon monoxide alarm\", \"Hange...  $235.00   \n",
              "2  [\"Security cameras on property\", \"Host greets ...   $56.00   \n",
              "3  [\"Oven\", \"Cooking basics\", \"TV\", \"Smoke alarm\"...  $575.00   \n",
              "4  [\"Paid parking garage off premises\", \"Luggage ...  $110.00   \n",
              "\n",
              "   has_availability  calendar_last_scraped  first_review  last_review  \\\n",
              "0                 t             06/03/2023    23/07/2009   19/02/2023   \n",
              "1                 t             06/03/2023    03/05/2009   06/08/2017   \n",
              "2                 t             06/03/2023    08/09/2014   27/10/2022   \n",
              "3                 t             06/03/2023    25/09/2009   28/06/2019   \n",
              "4                 t             06/03/2023    01/08/2009   25/02/2023   \n",
              "\n",
              "                     license  instant_bookable  \n",
              "0  City Registration Pending                 f  \n",
              "1               sin registro                 f  \n",
              "2               sin registro                 f  \n",
              "3                STR-0000264                 f  \n",
              "4                STR-0000028                 f  \n",
              "\n",
              "[5 rows x 72 columns]"
            ],
            "text/html": [
              "\n",
              "  <div id=\"df-31f69459-f411-4325-a2b9-767fe00b67a7\">\n",
              "    <div class=\"colab-df-container\">\n",
              "      <div>\n",
              "<style scoped>\n",
              "    .dataframe tbody tr th:only-of-type {\n",
              "        vertical-align: middle;\n",
              "    }\n",
              "\n",
              "    .dataframe tbody tr th {\n",
              "        vertical-align: top;\n",
              "    }\n",
              "\n",
              "    .dataframe thead th {\n",
              "        text-align: right;\n",
              "    }\n",
              "</style>\n",
              "<table border=\"1\" class=\"dataframe\">\n",
              "  <thead>\n",
              "    <tr style=\"text-align: right;\">\n",
              "      <th></th>\n",
              "      <th>ï»¿id</th>\n",
              "      <th>scrape_id</th>\n",
              "      <th>host_id</th>\n",
              "      <th>host_listings_count</th>\n",
              "      <th>host_total_listings_count</th>\n",
              "      <th>latitude</th>\n",
              "      <th>longitude</th>\n",
              "      <th>accommodates</th>\n",
              "      <th>bedrooms</th>\n",
              "      <th>beds</th>\n",
              "      <th>...</th>\n",
              "      <th>room_type</th>\n",
              "      <th>bathrooms_text</th>\n",
              "      <th>amenities</th>\n",
              "      <th>price</th>\n",
              "      <th>has_availability</th>\n",
              "      <th>calendar_last_scraped</th>\n",
              "      <th>first_review</th>\n",
              "      <th>last_review</th>\n",
              "      <th>license</th>\n",
              "      <th>instant_bookable</th>\n",
              "    </tr>\n",
              "  </thead>\n",
              "  <tbody>\n",
              "    <tr>\n",
              "      <th>0</th>\n",
              "      <td>958.0</td>\n",
              "      <td>2.020000e+13</td>\n",
              "      <td>1169</td>\n",
              "      <td>1</td>\n",
              "      <td>1</td>\n",
              "      <td>37.77028</td>\n",
              "      <td>-122.43317</td>\n",
              "      <td>3</td>\n",
              "      <td>1.0</td>\n",
              "      <td>2.0</td>\n",
              "      <td>...</td>\n",
              "      <td>Entire home/apt</td>\n",
              "      <td>1 bath</td>\n",
              "      <td>[\"Oven\", \"Self check-in\", \"Cooking basics\", \"L...</td>\n",
              "      <td>$202.00</td>\n",
              "      <td>t</td>\n",
              "      <td>06/03/2023</td>\n",
              "      <td>23/07/2009</td>\n",
              "      <td>19/02/2023</td>\n",
              "      <td>City Registration Pending</td>\n",
              "      <td>f</td>\n",
              "    </tr>\n",
              "    <tr>\n",
              "      <th>1</th>\n",
              "      <td>5858.0</td>\n",
              "      <td>2.020000e+13</td>\n",
              "      <td>8904</td>\n",
              "      <td>2</td>\n",
              "      <td>2</td>\n",
              "      <td>37.74474</td>\n",
              "      <td>-122.42089</td>\n",
              "      <td>4</td>\n",
              "      <td>2.0</td>\n",
              "      <td>2.0</td>\n",
              "      <td>...</td>\n",
              "      <td>Entire home/apt</td>\n",
              "      <td>1 bath</td>\n",
              "      <td>[\"Essentials\", \"Carbon monoxide alarm\", \"Hange...</td>\n",
              "      <td>$235.00</td>\n",
              "      <td>t</td>\n",
              "      <td>06/03/2023</td>\n",
              "      <td>03/05/2009</td>\n",
              "      <td>06/08/2017</td>\n",
              "      <td>sin registro</td>\n",
              "      <td>f</td>\n",
              "    </tr>\n",
              "    <tr>\n",
              "      <th>2</th>\n",
              "      <td>8142.0</td>\n",
              "      <td>2.020000e+13</td>\n",
              "      <td>21994</td>\n",
              "      <td>13</td>\n",
              "      <td>14</td>\n",
              "      <td>37.76555</td>\n",
              "      <td>-122.45213</td>\n",
              "      <td>1</td>\n",
              "      <td>1.0</td>\n",
              "      <td>1.0</td>\n",
              "      <td>...</td>\n",
              "      <td>Private room</td>\n",
              "      <td>4 shared baths</td>\n",
              "      <td>[\"Security cameras on property\", \"Host greets ...</td>\n",
              "      <td>$56.00</td>\n",
              "      <td>t</td>\n",
              "      <td>06/03/2023</td>\n",
              "      <td>08/09/2014</td>\n",
              "      <td>27/10/2022</td>\n",
              "      <td>sin registro</td>\n",
              "      <td>f</td>\n",
              "    </tr>\n",
              "    <tr>\n",
              "      <th>3</th>\n",
              "      <td>8339.0</td>\n",
              "      <td>2.020000e+13</td>\n",
              "      <td>24215</td>\n",
              "      <td>2</td>\n",
              "      <td>6</td>\n",
              "      <td>37.77564</td>\n",
              "      <td>-122.43642</td>\n",
              "      <td>4</td>\n",
              "      <td>2.0</td>\n",
              "      <td>2.0</td>\n",
              "      <td>...</td>\n",
              "      <td>Entire home/apt</td>\n",
              "      <td>1.5 baths</td>\n",
              "      <td>[\"Oven\", \"Cooking basics\", \"TV\", \"Smoke alarm\"...</td>\n",
              "      <td>$575.00</td>\n",
              "      <td>t</td>\n",
              "      <td>06/03/2023</td>\n",
              "      <td>25/09/2009</td>\n",
              "      <td>28/06/2019</td>\n",
              "      <td>STR-0000264</td>\n",
              "      <td>f</td>\n",
              "    </tr>\n",
              "    <tr>\n",
              "      <th>4</th>\n",
              "      <td>8739.0</td>\n",
              "      <td>2.020000e+13</td>\n",
              "      <td>7149</td>\n",
              "      <td>2</td>\n",
              "      <td>2</td>\n",
              "      <td>37.76030</td>\n",
              "      <td>-122.42197</td>\n",
              "      <td>3</td>\n",
              "      <td>1.0</td>\n",
              "      <td>1.0</td>\n",
              "      <td>...</td>\n",
              "      <td>Private room</td>\n",
              "      <td>1 private bath</td>\n",
              "      <td>[\"Paid parking garage off premises\", \"Luggage ...</td>\n",
              "      <td>$110.00</td>\n",
              "      <td>t</td>\n",
              "      <td>06/03/2023</td>\n",
              "      <td>01/08/2009</td>\n",
              "      <td>25/02/2023</td>\n",
              "      <td>STR-0000028</td>\n",
              "      <td>f</td>\n",
              "    </tr>\n",
              "  </tbody>\n",
              "</table>\n",
              "<p>5 rows × 72 columns</p>\n",
              "</div>\n",
              "      <button class=\"colab-df-convert\" onclick=\"convertToInteractive('df-31f69459-f411-4325-a2b9-767fe00b67a7')\"\n",
              "              title=\"Convert this dataframe to an interactive table.\"\n",
              "              style=\"display:none;\">\n",
              "        \n",
              "  <svg xmlns=\"http://www.w3.org/2000/svg\" height=\"24px\"viewBox=\"0 0 24 24\"\n",
              "       width=\"24px\">\n",
              "    <path d=\"M0 0h24v24H0V0z\" fill=\"none\"/>\n",
              "    <path d=\"M18.56 5.44l.94 2.06.94-2.06 2.06-.94-2.06-.94-.94-2.06-.94 2.06-2.06.94zm-11 1L8.5 8.5l.94-2.06 2.06-.94-2.06-.94L8.5 2.5l-.94 2.06-2.06.94zm10 10l.94 2.06.94-2.06 2.06-.94-2.06-.94-.94-2.06-.94 2.06-2.06.94z\"/><path d=\"M17.41 7.96l-1.37-1.37c-.4-.4-.92-.59-1.43-.59-.52 0-1.04.2-1.43.59L10.3 9.45l-7.72 7.72c-.78.78-.78 2.05 0 2.83L4 21.41c.39.39.9.59 1.41.59.51 0 1.02-.2 1.41-.59l7.78-7.78 2.81-2.81c.8-.78.8-2.07 0-2.86zM5.41 20L4 18.59l7.72-7.72 1.47 1.35L5.41 20z\"/>\n",
              "  </svg>\n",
              "      </button>\n",
              "      \n",
              "  <style>\n",
              "    .colab-df-container {\n",
              "      display:flex;\n",
              "      flex-wrap:wrap;\n",
              "      gap: 12px;\n",
              "    }\n",
              "\n",
              "    .colab-df-convert {\n",
              "      background-color: #E8F0FE;\n",
              "      border: none;\n",
              "      border-radius: 50%;\n",
              "      cursor: pointer;\n",
              "      display: none;\n",
              "      fill: #1967D2;\n",
              "      height: 32px;\n",
              "      padding: 0 0 0 0;\n",
              "      width: 32px;\n",
              "    }\n",
              "\n",
              "    .colab-df-convert:hover {\n",
              "      background-color: #E2EBFA;\n",
              "      box-shadow: 0px 1px 2px rgba(60, 64, 67, 0.3), 0px 1px 3px 1px rgba(60, 64, 67, 0.15);\n",
              "      fill: #174EA6;\n",
              "    }\n",
              "\n",
              "    [theme=dark] .colab-df-convert {\n",
              "      background-color: #3B4455;\n",
              "      fill: #D2E3FC;\n",
              "    }\n",
              "\n",
              "    [theme=dark] .colab-df-convert:hover {\n",
              "      background-color: #434B5C;\n",
              "      box-shadow: 0px 1px 3px 1px rgba(0, 0, 0, 0.15);\n",
              "      filter: drop-shadow(0px 1px 2px rgba(0, 0, 0, 0.3));\n",
              "      fill: #FFFFFF;\n",
              "    }\n",
              "  </style>\n",
              "\n",
              "      <script>\n",
              "        const buttonEl =\n",
              "          document.querySelector('#df-31f69459-f411-4325-a2b9-767fe00b67a7 button.colab-df-convert');\n",
              "        buttonEl.style.display =\n",
              "          google.colab.kernel.accessAllowed ? 'block' : 'none';\n",
              "\n",
              "        async function convertToInteractive(key) {\n",
              "          const element = document.querySelector('#df-31f69459-f411-4325-a2b9-767fe00b67a7');\n",
              "          const dataTable =\n",
              "            await google.colab.kernel.invokeFunction('convertToInteractive',\n",
              "                                                     [key], {});\n",
              "          if (!dataTable) return;\n",
              "\n",
              "          const docLinkHtml = 'Like what you see? Visit the ' +\n",
              "            '<a target=\"_blank\" href=https://colab.research.google.com/notebooks/data_table.ipynb>data table notebook</a>'\n",
              "            + ' to learn more about interactive tables.';\n",
              "          element.innerHTML = '';\n",
              "          dataTable['output_type'] = 'display_data';\n",
              "          await google.colab.output.renderOutput(dataTable, element);\n",
              "          const docLink = document.createElement('div');\n",
              "          docLink.innerHTML = docLinkHtml;\n",
              "          element.appendChild(docLink);\n",
              "        }\n",
              "      </script>\n",
              "    </div>\n",
              "  </div>\n",
              "  "
            ]
          },
          "metadata": {},
          "execution_count": 45
        }
      ]
    },
    {
      "cell_type": "markdown",
      "source": [
        "### Guardar a CSV"
      ],
      "metadata": {
        "id": "E6OxUA9lB0ty"
      }
    },
    {
      "cell_type": "code",
      "source": [
        "#Convertir archivo filtrado a CSV\n",
        "#concatenadoeua.to_csv(\"EUA_limpio.csv\")"
      ],
      "metadata": {
        "id": "yk-JJgeXBzgk"
      },
      "execution_count": 46,
      "outputs": []
    },
    {
      "cell_type": "code",
      "source": [
        "#descargar archivo filtrado en csv\n",
        "from google.colab import files  \n",
        "#files.download(\"EUA_limpio.csv\")"
      ],
      "metadata": {
        "id": "KMd7bz5RB427"
      },
      "execution_count": 47,
      "outputs": []
    },
    {
      "cell_type": "markdown",
      "source": [
        "## **ETAPA 2**"
      ],
      "metadata": {
        "id": "4c1eA8moClUb"
      }
    },
    {
      "cell_type": "code",
      "source": [
        "#filtroa\n",
        "#se cambiaron los valores \"sin registro\" por \"5%\" para poder identificarlos ya que el dataset no tiene registros con ese valor\n",
        "concatenadoeua[\"host_acceptance_rate\"] = concatenadoeua[\"host_acceptance_rate\"].replace(\"sin registro\", \"5%\")\n",
        "#se elimino el \"%\"\n",
        "concatenadoeua['host_acceptance_rate'] = pd.to_numeric(concatenadoeua['host_acceptance_rate'].str.replace('%', ''))\n",
        "\n"
      ],
      "metadata": {
        "id": "3pBSqEiGTr0V"
      },
      "execution_count": 48,
      "outputs": []
    },
    {
      "cell_type": "code",
      "source": [
        "#filtroe\n",
        "#cambiar Half-bath, Shared half-bath, Private half-bath, sin registro\n",
        "concatenadoeua[\"bathrooms_text\"] = concatenadoeua[\"bathrooms_text\"].str.replace('Half-bath', '0.5').str.replace('Shared half-bath', '0.5').str.replace('Private half-bath', '0.5').str.replace('sin registro', '0')\n",
        "\n",
        "#se extraen los numeros y se guardan como string en la misma columna\n",
        "concatenadoeua[\"bathrooms_text\"] = concatenadoeua[\"bathrooms_text\"].str.extract('(\\d+\\.?\\d*)', expand=False)\n",
        "\n",
        "#cambiar columna a float\n",
        "concatenadoeua[\"bathrooms_text\"] = concatenadoeua[\"bathrooms_text\"].astype(float)"
      ],
      "metadata": {
        "id": "x80nXbzRW6nO"
      },
      "execution_count": 49,
      "outputs": []
    },
    {
      "cell_type": "code",
      "source": [
        "#filtrof\n",
        "#se elimino el \"$\" y \",\"\n",
        "#se cambia la columna \"price\" a float para poder compararla\n",
        "concatenadoeua[\"price\"] = concatenadoeua[\"price\"].str.replace(',', '').str.replace('$', '').astype(float)\n"
      ],
      "metadata": {
        "colab": {
          "base_uri": "https://localhost:8080/"
        },
        "id": "LX3Ut_5xZi-U",
        "outputId": "beda9901-fdb2-4c2b-a427-76ad99293aa0"
      },
      "execution_count": 50,
      "outputs": [
        {
          "output_type": "stream",
          "name": "stderr",
          "text": [
            "<ipython-input-50-af53cb0f8d5c>:4: FutureWarning: The default value of regex will change from True to False in a future version. In addition, single character regular expressions will *not* be treated as literal strings when regex=True.\n",
            "  concatenadoeua[\"price\"] = concatenadoeua[\"price\"].str.replace(',', '').str.replace('$', '').astype(float)\n"
          ]
        }
      ]
    },
    {
      "cell_type": "markdown",
      "source": [
        "### **Filtros**"
      ],
      "metadata": {
        "id": "wI36SbeUzDht"
      }
    },
    {
      "cell_type": "code",
      "source": [
        "filtroa_eua = concatenadoeua[concatenadoeua[\"host_acceptance_rate\"] > 50]\n",
        "filtrob_eua = concatenadoeua[concatenadoeua[\"host_is_superhost\"] == \"t\"]\n",
        "filtroc_eua = concatenadoeua[concatenadoeua[\"host_identity_verified\"] == \"f\"]\n",
        "filtrod_eua = concatenadoeua[concatenadoeua[\"property_type\"].isin([\"Private room\", \"Hotel room\"])]\n",
        "filtroe_eua = concatenadoeua[concatenadoeua[\"bathrooms_text\"] > 1]\n",
        "filtrof_eua = concatenadoeua.loc[(concatenadoeua['price'] > 10000) & (concatenadoeua['room_type'] == 'Entire home/apt')]\n",
        "filtrog_eua = concatenadoeua[concatenadoeua[\"review_scores_cleanliness\"] > 4.5]\n",
        "filtroh_eua = concatenadoeua[concatenadoeua[\"review_scores_value\"] > 4.9]\n",
        "filtroi_eua = concatenadoeua[concatenadoeua[\"availability_365\"] < 100]\n",
        "filtroj_eua = concatenadoeua[concatenadoeua[\"host_response_time\"] == \"within an hour\"]"
      ],
      "metadata": {
        "id": "m0EVYERXCmXF"
      },
      "execution_count": 51,
      "outputs": []
    },
    {
      "cell_type": "code",
      "source": [
        "concatenadoeua.info()"
      ],
      "metadata": {
        "colab": {
          "base_uri": "https://localhost:8080/"
        },
        "id": "sK5IvhWRy6mI",
        "outputId": "9c8ad38f-a8e6-40f3-aa38-6ba42d207e81"
      },
      "execution_count": 52,
      "outputs": [
        {
          "output_type": "stream",
          "name": "stdout",
          "text": [
            "<class 'pandas.core.frame.DataFrame'>\n",
            "RangeIndex: 6936 entries, 0 to 6935\n",
            "Data columns (total 72 columns):\n",
            " #   Column                                        Non-Null Count  Dtype  \n",
            "---  ------                                        --------------  -----  \n",
            " 0   ï»¿id                                         6936 non-null   float64\n",
            " 1   scrape_id                                     6936 non-null   float64\n",
            " 2   host_id                                       6936 non-null   int64  \n",
            " 3   host_listings_count                           6936 non-null   int64  \n",
            " 4   host_total_listings_count                     6936 non-null   int64  \n",
            " 5   latitude                                      6936 non-null   float64\n",
            " 6   longitude                                     6936 non-null   float64\n",
            " 7   accommodates                                  6936 non-null   int64  \n",
            " 8   bedrooms                                      6936 non-null   float64\n",
            " 9   beds                                          6936 non-null   float64\n",
            " 10  minimum_nights                                6936 non-null   int64  \n",
            " 11  maximum_nights                                6936 non-null   int64  \n",
            " 12  minimum_minimum_nights                        6936 non-null   float64\n",
            " 13  maximum_minimum_nights                        6936 non-null   float64\n",
            " 14  minimum_maximum_nights                        6936 non-null   float64\n",
            " 15  maximum_maximum_nights                        6936 non-null   float64\n",
            " 16  minimum_nights_avg_ntm                        6936 non-null   float64\n",
            " 17  maximum_nights_avg_ntm                        6936 non-null   float64\n",
            " 18  availability_30                               6936 non-null   int64  \n",
            " 19  availability_60                               6936 non-null   int64  \n",
            " 20  availability_90                               6936 non-null   int64  \n",
            " 21  availability_365                              6936 non-null   int64  \n",
            " 22  number_of_reviews                             6936 non-null   int64  \n",
            " 23  number_of_reviews_ltm                         6936 non-null   int64  \n",
            " 24  number_of_reviews_l30d                        6936 non-null   int64  \n",
            " 25  review_scores_rating                          6936 non-null   float64\n",
            " 26  review_scores_accuracy                        6936 non-null   float64\n",
            " 27  review_scores_cleanliness                     6936 non-null   float64\n",
            " 28  review_scores_checkin                         6936 non-null   float64\n",
            " 29  review_scores_communication                   6936 non-null   float64\n",
            " 30  review_scores_location                        6936 non-null   float64\n",
            " 31  review_scores_value                           6936 non-null   float64\n",
            " 32  calculated_host_listings_count                6936 non-null   int64  \n",
            " 33  calculated_host_listings_count_entire_homes   6936 non-null   int64  \n",
            " 34  calculated_host_listings_count_private_rooms  6936 non-null   int64  \n",
            " 35  calculated_host_listings_count_shared_rooms   6936 non-null   int64  \n",
            " 36  reviews_per_month                             6936 non-null   float64\n",
            " 37  listing_url                                   6936 non-null   object \n",
            " 38  last_scraped                                  6936 non-null   object \n",
            " 39  source                                        6936 non-null   object \n",
            " 40  name                                          6936 non-null   object \n",
            " 41  description                                   6936 non-null   object \n",
            " 42  neighborhood_overview                         6936 non-null   object \n",
            " 43  picture_url                                   6936 non-null   object \n",
            " 44  host_url                                      6936 non-null   object \n",
            " 45  host_name                                     6936 non-null   object \n",
            " 46  host_since                                    6936 non-null   object \n",
            " 47  host_location                                 6936 non-null   object \n",
            " 48  host_about                                    6936 non-null   object \n",
            " 49  host_response_time                            6936 non-null   object \n",
            " 50  host_response_rate                            6936 non-null   object \n",
            " 51  host_acceptance_rate                          6936 non-null   int64  \n",
            " 52  host_is_superhost                             6936 non-null   object \n",
            " 53  host_thumbnail_url                            6936 non-null   object \n",
            " 54  host_picture_url                              6936 non-null   object \n",
            " 55  host_neighbourhood                            6936 non-null   object \n",
            " 56  host_verifications                            6936 non-null   object \n",
            " 57  host_has_profile_pic                          6936 non-null   object \n",
            " 58  host_identity_verified                        6936 non-null   object \n",
            " 59  neighbourhood                                 6936 non-null   object \n",
            " 60  neighbourhood_cleansed                        6936 non-null   object \n",
            " 61  property_type                                 6936 non-null   object \n",
            " 62  room_type                                     6936 non-null   object \n",
            " 63  bathrooms_text                                6936 non-null   float64\n",
            " 64  amenities                                     6936 non-null   object \n",
            " 65  price                                         6936 non-null   float64\n",
            " 66  has_availability                              6936 non-null   object \n",
            " 67  calendar_last_scraped                         6936 non-null   object \n",
            " 68  first_review                                  6936 non-null   object \n",
            " 69  last_review                                   6936 non-null   object \n",
            " 70  license                                       6936 non-null   object \n",
            " 71  instant_bookable                              6936 non-null   object \n",
            "dtypes: float64(22), int64(18), object(32)\n",
            "memory usage: 3.8+ MB\n"
          ]
        }
      ]
    },
    {
      "cell_type": "markdown",
      "source": [
        "### Guardar a CSV"
      ],
      "metadata": {
        "id": "sP9eSGrkfL8o"
      }
    },
    {
      "cell_type": "code",
      "source": [
        "#Convertir archivo filtrado a CSV\n",
        "#filtroa.to_csv(\"filtroa_eua.csv\")\n",
        "#filtrob.to_csv(\"filtrob_eua.csv\")\n",
        "#filtroc.to_csv(\"filtroc_eua.csv\")\n",
        "#filtrod.to_csv(\"filtrod_eua.csv\")\n",
        "#filtroe.to_csv(\"filtroe_eua.csv\")\n",
        "#filtrof.to_csv(\"filtrof_eua.csv\")\n",
        "#filtrog.to_csv(\"filtrog_eua.csv\")\n",
        "#filtroh.to_csv(\"filtroh_eua.csv\")\n",
        "#filtroi.to_csv(\"filtroi_eua.csv\")\n",
        "#filtroj.to_csv(\"filtroj_eua.csv\")"
      ],
      "metadata": {
        "id": "vohN16bNfIQE"
      },
      "execution_count": 53,
      "outputs": []
    },
    {
      "cell_type": "code",
      "source": [
        "#descargar archivo filtrado en csv\n",
        "from google.colab import files  \n",
        "#files.download(\"filtroa_eua.csv\")\n",
        "#files.download(\"filtrob_eua.csv\")\n",
        "#files.download(\"filtroc_eua.csv\")\n",
        "#files.download(\"filtrod_eua.csv\")\n",
        "#files.download(\"filtroe_eua.csv\")\n",
        "#files.download(\"filtrof_eua.csv\")\n",
        "#files.download(\"filtrog_eua.csv\")\n",
        "#files.download(\"filtroh_eua.csv\")\n",
        "#files.download(\"filtroi_eua.csv\")\n",
        "#files.download(\"filtroj_eua.csv\")"
      ],
      "metadata": {
        "id": "DNVUkfo3fvLU"
      },
      "execution_count": 54,
      "outputs": []
    },
    {
      "cell_type": "markdown",
      "source": [
        "# ***Girona_España.csv***"
      ],
      "metadata": {
        "id": "cKZPfZ67oYlM"
      }
    },
    {
      "cell_type": "markdown",
      "source": [
        "## **ETAPA 1**"
      ],
      "metadata": {
        "id": "AByh4nZVoYlN"
      }
    },
    {
      "cell_type": "code",
      "source": [
        "dfeua = pd.read_csv('Girona_España.csv', encoding = 'unicode_escape')\n",
        "dfeua.info()"
      ],
      "metadata": {
        "colab": {
          "base_uri": "https://localhost:8080/"
        },
        "outputId": "3f3cc015-7e8c-4c7a-8333-fe09971a34cd",
        "id": "6Iu2WySQoYlN"
      },
      "execution_count": 55,
      "outputs": [
        {
          "output_type": "stream",
          "name": "stdout",
          "text": [
            "<class 'pandas.core.frame.DataFrame'>\n",
            "RangeIndex: 19655 entries, 0 to 19654\n",
            "Data columns (total 75 columns):\n",
            " #   Column                                        Non-Null Count  Dtype  \n",
            "---  ------                                        --------------  -----  \n",
            " 0   id                                            19655 non-null  float64\n",
            " 1   listing_url                                   19655 non-null  object \n",
            " 2   scrape_id                                     19655 non-null  float64\n",
            " 3   last_scraped                                  19655 non-null  object \n",
            " 4   source                                        19655 non-null  object \n",
            " 5   name                                          19655 non-null  object \n",
            " 6   description                                   19632 non-null  object \n",
            " 7   neighborhood_overview                         8342 non-null   object \n",
            " 8   picture_url                                   19655 non-null  object \n",
            " 9   host_id                                       19655 non-null  int64  \n",
            " 10  host_url                                      19655 non-null  object \n",
            " 11  host_name                                     19538 non-null  object \n",
            " 12  host_since                                    19538 non-null  object \n",
            " 13  host_location                                 14096 non-null  object \n",
            " 14  host_about                                    11231 non-null  object \n",
            " 15  host_response_time                            17567 non-null  object \n",
            " 16  host_response_rate                            17567 non-null  object \n",
            " 17  host_acceptance_rate                          18502 non-null  object \n",
            " 18  host_is_superhost                             19640 non-null  object \n",
            " 19  host_thumbnail_url                            19538 non-null  object \n",
            " 20  host_picture_url                              19538 non-null  object \n",
            " 21  host_neighbourhood                            1269 non-null   object \n",
            " 22  host_listings_count                           19538 non-null  float64\n",
            " 23  host_total_listings_count                     19538 non-null  float64\n",
            " 24  host_verifications                            19655 non-null  object \n",
            " 25  host_has_profile_pic                          19538 non-null  object \n",
            " 26  host_identity_verified                        19538 non-null  object \n",
            " 27  neighbourhood                                 8342 non-null   object \n",
            " 28  neighbourhood_cleansed                        19655 non-null  object \n",
            " 29  neighbourhood_group_cleansed                  0 non-null      float64\n",
            " 30  latitude                                      19655 non-null  float64\n",
            " 31  longitude                                     19655 non-null  float64\n",
            " 32  property_type                                 19655 non-null  object \n",
            " 33  room_type                                     19655 non-null  object \n",
            " 34  accommodates                                  19655 non-null  int64  \n",
            " 35  bathrooms                                     0 non-null      float64\n",
            " 36  bathrooms_text                                19639 non-null  object \n",
            " 37  bedrooms                                      19152 non-null  float64\n",
            " 38  beds                                          19562 non-null  float64\n",
            " 39  amenities                                     19655 non-null  object \n",
            " 40  price                                         19655 non-null  object \n",
            " 41  minimum_nights                                19655 non-null  int64  \n",
            " 42  maximum_nights                                19655 non-null  int64  \n",
            " 43  minimum_minimum_nights                        19654 non-null  float64\n",
            " 44  maximum_minimum_nights                        19654 non-null  float64\n",
            " 45  minimum_maximum_nights                        19654 non-null  float64\n",
            " 46  maximum_maximum_nights                        19654 non-null  float64\n",
            " 47  minimum_nights_avg_ntm                        19654 non-null  float64\n",
            " 48  maximum_nights_avg_ntm                        19654 non-null  float64\n",
            " 49  calendar_updated                              0 non-null      float64\n",
            " 50  has_availability                              19655 non-null  object \n",
            " 51  availability_30                               19655 non-null  int64  \n",
            " 52  availability_60                               19655 non-null  int64  \n",
            " 53  availability_90                               19655 non-null  int64  \n",
            " 54  availability_365                              19655 non-null  int64  \n",
            " 55  calendar_last_scraped                         19655 non-null  object \n",
            " 56  number_of_reviews                             19655 non-null  int64  \n",
            " 57  number_of_reviews_ltm                         19655 non-null  int64  \n",
            " 58  number_of_reviews_l30d                        19655 non-null  int64  \n",
            " 59  first_review                                  14428 non-null  object \n",
            " 60  last_review                                   14428 non-null  object \n",
            " 61  review_scores_rating                          14428 non-null  float64\n",
            " 62  review_scores_accuracy                        14370 non-null  float64\n",
            " 63  review_scores_cleanliness                     14372 non-null  float64\n",
            " 64  review_scores_checkin                         14371 non-null  float64\n",
            " 65  review_scores_communication                   14370 non-null  float64\n",
            " 66  review_scores_location                        14371 non-null  float64\n",
            " 67  review_scores_value                           14370 non-null  float64\n",
            " 68  license                                       18520 non-null  object \n",
            " 69  instant_bookable                              19655 non-null  object \n",
            " 70  calculated_host_listings_count                19655 non-null  int64  \n",
            " 71  calculated_host_listings_count_entire_homes   19655 non-null  int64  \n",
            " 72  calculated_host_listings_count_private_rooms  19655 non-null  int64  \n",
            " 73  calculated_host_listings_count_shared_rooms   19655 non-null  int64  \n",
            " 74  reviews_per_month                             14428 non-null  float64\n",
            "dtypes: float64(25), int64(15), object(35)\n",
            "memory usage: 11.2+ MB\n"
          ]
        }
      ]
    },
    {
      "cell_type": "code",
      "source": [
        "#Checar si hay valores nulos por columna\n",
        "pd.set_option('display.max_rows', None)\n",
        "valores_nulos=dfeua.isnull().sum().sum()\n",
        "valores_nulos"
      ],
      "metadata": {
        "colab": {
          "base_uri": "https://localhost:8080/"
        },
        "outputId": "c38cd5ae-22f6-4913-b1ac-f83d8283e3b0",
        "id": "NKSG7cW_oYlN"
      },
      "execution_count": 56,
      "outputs": [
        {
          "output_type": "execute_result",
          "data": {
            "text/plain": [
              "174630"
            ]
          },
          "metadata": {},
          "execution_count": 56
        }
      ]
    },
    {
      "cell_type": "markdown",
      "source": [
        "### Filtros"
      ],
      "metadata": {
        "id": "lHcrK4vtoYlN"
      }
    },
    {
      "cell_type": "code",
      "source": [
        "#Crear filtro numerico y no numerico\n",
        "filtroeuanumerico = dfeua.select_dtypes(include=['float64', 'int64'])\n",
        "#filtroeuanumerico.info()"
      ],
      "metadata": {
        "id": "t_6_Xbi0oYlO"
      },
      "execution_count": 57,
      "outputs": []
    },
    {
      "cell_type": "code",
      "source": [
        "filtroeua = dfeua.select_dtypes('object')\n",
        "#filtroeuanonumerico.info()"
      ],
      "metadata": {
        "id": "Zl92p5RIoYlO"
      },
      "execution_count": 58,
      "outputs": []
    },
    {
      "cell_type": "markdown",
      "source": [
        "### Nulos"
      ],
      "metadata": {
        "id": "ea3hk-rOoYlO"
      }
    },
    {
      "cell_type": "code",
      "source": [
        "#sustituir los nulos por el promedio de la columna\n",
        "data1 = filtroeuanumerico.copy()\n",
        "filtroeuanumerico = data1.fillna(data1.mean())\n",
        "\n",
        "\n",
        "#sustituir los nulos por 'sin registro'\n",
        "filtroeua = filtroeua.fillna('sin registro')\n"
      ],
      "metadata": {
        "id": "CsaCqwxBoYlO"
      },
      "execution_count": 59,
      "outputs": []
    },
    {
      "cell_type": "code",
      "source": [
        "#Checar si hay valores nulos por columna    NUMERICO\n",
        "pd.set_option('display.max_rows', None)\n",
        "valores_nulos=filtroeuanumerico.isnull().sum().sum()\n",
        "valores_nulos"
      ],
      "metadata": {
        "colab": {
          "base_uri": "https://localhost:8080/"
        },
        "outputId": "8c4f016b-5fd3-4851-9ea3-a874bc2a3efa",
        "id": "ShcMTOyyoYlO"
      },
      "execution_count": 60,
      "outputs": [
        {
          "output_type": "execute_result",
          "data": {
            "text/plain": [
              "58965"
            ]
          },
          "metadata": {},
          "execution_count": 60
        }
      ]
    },
    {
      "cell_type": "code",
      "source": [
        "#Checar si hay valores nulos por columna    NO NUMERICO\n",
        "pd.set_option('display.max_rows', None)\n",
        "valores_nulos=filtroeua.isnull().sum().sum()\n",
        "valores_nulos"
      ],
      "metadata": {
        "colab": {
          "base_uri": "https://localhost:8080/"
        },
        "outputId": "84d74483-a16b-44fa-a821-628064a8ad23",
        "id": "nOsKOm0VoYlO"
      },
      "execution_count": 61,
      "outputs": [
        {
          "output_type": "execute_result",
          "data": {
            "text/plain": [
              "0"
            ]
          },
          "metadata": {},
          "execution_count": 61
        }
      ]
    },
    {
      "cell_type": "code",
      "source": [
        "#NUMERICO\n",
        "#Se eliminaron las columnas 'neighbourhood_group_cleansed', 'bathrooms', 'calendar_updated'\n",
        "#ya que son numericas pero no tienen ningun registro y no aportan valor al análisis\n",
        "filtroeuanumerico = filtroeuanumerico.drop(['neighbourhood_group_cleansed', 'bathrooms', 'calendar_updated'], axis=1)\n",
        "\n",
        "#Checar si hay valores nulos por columna\n",
        "pd.set_option('display.max_rows', None)\n",
        "valores_nulos=filtroeuanumerico.isnull().sum().sum()\n",
        "valores_nulos"
      ],
      "metadata": {
        "colab": {
          "base_uri": "https://localhost:8080/"
        },
        "outputId": "9a80958e-72a0-4cc0-af88-8218a9e30cff",
        "id": "PrSZzNyRoYlP"
      },
      "execution_count": 62,
      "outputs": [
        {
          "output_type": "execute_result",
          "data": {
            "text/plain": [
              "0"
            ]
          },
          "metadata": {},
          "execution_count": 62
        }
      ]
    },
    {
      "cell_type": "markdown",
      "source": [
        "### Outliers **MÉTODO DE IQR (RANGO INTER QUARTILICO)**"
      ],
      "metadata": {
        "id": "AJCKVQQIoYlP"
      }
    },
    {
      "cell_type": "code",
      "source": [
        "#Método aplicando Cuartiles. Encuentro cuartiles 0.25 y 0.75\n",
        "y=filtroeuanumerico\n",
        "\n",
        "percentile25=y.quantile(0.25) #Q1\n",
        "percentile75=y.quantile(0.75) #Q3\n",
        "iqr= percentile75 - percentile25\n",
        "\n",
        "Limite_Superior_iqr= percentile75 + 1.5*iqr\n",
        "Limite_Inferior_iqr= percentile25 - 1.5*iqr\n",
        "#print(\"Limite superior permitido\", Limite_Superior_iqr)\n",
        "#print(\"Limite inferior permitido\", Limite_Inferior_iqr)"
      ],
      "metadata": {
        "id": "cQ5y4B5GoYlP"
      },
      "execution_count": 63,
      "outputs": []
    },
    {
      "cell_type": "code",
      "source": [
        "#Encontramos Ouliers\n",
        "outliers_iqr= filtroeuanumerico[(y>Limite_Superior_iqr)|(y<Limite_Inferior_iqr)]\n",
        "#outliers_iqr.head()"
      ],
      "metadata": {
        "id": "DhDKpjoWoYlQ"
      },
      "execution_count": 64,
      "outputs": []
    },
    {
      "cell_type": "code",
      "source": [
        "#Obtenemos datos limpios\n",
        "data_clean_iqr1= filtroeuanumerico[(y<=Limite_Superior_iqr)&(y>=Limite_Inferior_iqr)]\n",
        "#data_clean_iqr1.head()"
      ],
      "metadata": {
        "id": "moA1uhvZoYlQ"
      },
      "execution_count": 65,
      "outputs": []
    },
    {
      "cell_type": "code",
      "source": [
        "#Checar si hay valores nulos por columna    NUMERICO\n",
        "pd.set_option('display.max_rows', None)\n",
        "valores_nulos=data_clean_iqr1.isnull().sum().sum()\n",
        "valores_nulos"
      ],
      "metadata": {
        "colab": {
          "base_uri": "https://localhost:8080/"
        },
        "outputId": "40afcc95-6be4-4f7c-b515-89904e2124bd",
        "id": "-8tLm2rloYlQ"
      },
      "execution_count": 66,
      "outputs": [
        {
          "output_type": "execute_result",
          "data": {
            "text/plain": [
              "37109"
            ]
          },
          "metadata": {},
          "execution_count": 66
        }
      ]
    },
    {
      "cell_type": "code",
      "source": [
        "#Reemplazamos valores atípicos (nulos) del dataframe con \"mean\"\n",
        "#Realizamos una copia del dataframe\n",
        "data5_iqr=filtroeuanumerico.copy()\n",
        "data5_iqr=data5_iqr.fillna(round(filtroeuanumerico.mean(),1))\n",
        "#data5_iqr"
      ],
      "metadata": {
        "id": "eTMK3K1QoYlR"
      },
      "execution_count": 67,
      "outputs": []
    },
    {
      "cell_type": "code",
      "source": [
        "#Checar si hay valores nulos por columna    NUMERICO\n",
        "pd.set_option('display.max_rows', None)\n",
        "valores_nulos=data5_iqr.isnull().sum().sum()\n",
        "valores_nulos"
      ],
      "metadata": {
        "colab": {
          "base_uri": "https://localhost:8080/"
        },
        "outputId": "0897b132-c6f0-4b1b-b857-cfd090c89840",
        "id": "z61PHk6OoYlR"
      },
      "execution_count": 68,
      "outputs": [
        {
          "output_type": "execute_result",
          "data": {
            "text/plain": [
              "0"
            ]
          },
          "metadata": {},
          "execution_count": 68
        }
      ]
    },
    {
      "cell_type": "markdown",
      "source": [
        "### Concatenar"
      ],
      "metadata": {
        "id": "RdU13ZB3oYlR"
      }
    },
    {
      "cell_type": "code",
      "source": [
        "concatenadoeua = pd.concat([data5_iqr, filtroeua], axis=1)\n",
        "concatenadoeua.head()"
      ],
      "metadata": {
        "colab": {
          "base_uri": "https://localhost:8080/",
          "height": 0
        },
        "outputId": "8c99b595-5a85-488a-915d-25b1241ced14",
        "id": "-3MuvEm1oYlR"
      },
      "execution_count": 69,
      "outputs": [
        {
          "output_type": "execute_result",
          "data": {
            "text/plain": [
              "          id     scrape_id  host_id  host_listings_count  \\\n",
              "0    14551.0  2.023030e+13    57237                  1.0   \n",
              "1  1205757.0  2.023030e+13  6586355                  1.0   \n",
              "2  1212820.0  2.023030e+13  6620645                  2.0   \n",
              "3   751638.0  2.023030e+13  3680160                  6.0   \n",
              "4    41342.0  2.023030e+13   180072                  2.0   \n",
              "\n",
              "   host_total_listings_count  latitude  longitude  accommodates  bedrooms  \\\n",
              "0                        5.0  41.99650    2.83646             2       1.0   \n",
              "1                        1.0  41.79304    2.77412             2       1.0   \n",
              "2                        3.0  42.11284    3.16670             4       1.0   \n",
              "3                        6.0  42.36958    2.98030             2       1.0   \n",
              "4                        3.0  42.34655    3.20463             4       1.0   \n",
              "\n",
              "   beds  ...        room_type    bathrooms_text  \\\n",
              "0   1.0  ...     Private room    1 private bath   \n",
              "1   1.0  ...     Private room  1.5 shared baths   \n",
              "2   2.0  ...  Entire home/apt            1 bath   \n",
              "3   2.0  ...     Private room    1 private bath   \n",
              "4   1.0  ...  Entire home/apt            1 bath   \n",
              "\n",
              "                                           amenities    price  \\\n",
              "0  [\"Shared pool\", \"Refrigerator\", \"Long term sta...   $42.00   \n",
              "1  [\"Free parking on premises\", \"Refrigerator\", \"...   $47.00   \n",
              "2  [\"Air conditioning\", \"Free parking on premises...   $74.00   \n",
              "3  [\"Hair dryer\", \"Luggage dropoff allowed\", \"Fre...   $45.00   \n",
              "4  [\"Free parking on premises\", \"Refrigerator\", \"...  $120.00   \n",
              "\n",
              "   has_availability  calendar_last_scraped  first_review  last_review  \\\n",
              "0                 t             31/03/2023    08/10/2010   27/02/2023   \n",
              "1                 t             31/03/2023    01/08/2013   26/06/2022   \n",
              "2                 t             01/04/2023    10/06/2013   30/12/2022   \n",
              "3                 t             31/03/2023    23/08/2013   29/08/2022   \n",
              "4                 t             01/04/2023    14/07/2013   28/08/2021   \n",
              "\n",
              "        license  instant_bookable  \n",
              "0   HUTG-049542                 f  \n",
              "1  sin registro                 f  \n",
              "2  sin registro                 f  \n",
              "3      PG000794                 t  \n",
              "4   HUTG-003688                 f  \n",
              "\n",
              "[5 rows x 72 columns]"
            ],
            "text/html": [
              "\n",
              "  <div id=\"df-e686fc4f-a2a7-42b1-9117-8833f5acf05d\">\n",
              "    <div class=\"colab-df-container\">\n",
              "      <div>\n",
              "<style scoped>\n",
              "    .dataframe tbody tr th:only-of-type {\n",
              "        vertical-align: middle;\n",
              "    }\n",
              "\n",
              "    .dataframe tbody tr th {\n",
              "        vertical-align: top;\n",
              "    }\n",
              "\n",
              "    .dataframe thead th {\n",
              "        text-align: right;\n",
              "    }\n",
              "</style>\n",
              "<table border=\"1\" class=\"dataframe\">\n",
              "  <thead>\n",
              "    <tr style=\"text-align: right;\">\n",
              "      <th></th>\n",
              "      <th>id</th>\n",
              "      <th>scrape_id</th>\n",
              "      <th>host_id</th>\n",
              "      <th>host_listings_count</th>\n",
              "      <th>host_total_listings_count</th>\n",
              "      <th>latitude</th>\n",
              "      <th>longitude</th>\n",
              "      <th>accommodates</th>\n",
              "      <th>bedrooms</th>\n",
              "      <th>beds</th>\n",
              "      <th>...</th>\n",
              "      <th>room_type</th>\n",
              "      <th>bathrooms_text</th>\n",
              "      <th>amenities</th>\n",
              "      <th>price</th>\n",
              "      <th>has_availability</th>\n",
              "      <th>calendar_last_scraped</th>\n",
              "      <th>first_review</th>\n",
              "      <th>last_review</th>\n",
              "      <th>license</th>\n",
              "      <th>instant_bookable</th>\n",
              "    </tr>\n",
              "  </thead>\n",
              "  <tbody>\n",
              "    <tr>\n",
              "      <th>0</th>\n",
              "      <td>14551.0</td>\n",
              "      <td>2.023030e+13</td>\n",
              "      <td>57237</td>\n",
              "      <td>1.0</td>\n",
              "      <td>5.0</td>\n",
              "      <td>41.99650</td>\n",
              "      <td>2.83646</td>\n",
              "      <td>2</td>\n",
              "      <td>1.0</td>\n",
              "      <td>1.0</td>\n",
              "      <td>...</td>\n",
              "      <td>Private room</td>\n",
              "      <td>1 private bath</td>\n",
              "      <td>[\"Shared pool\", \"Refrigerator\", \"Long term sta...</td>\n",
              "      <td>$42.00</td>\n",
              "      <td>t</td>\n",
              "      <td>31/03/2023</td>\n",
              "      <td>08/10/2010</td>\n",
              "      <td>27/02/2023</td>\n",
              "      <td>HUTG-049542</td>\n",
              "      <td>f</td>\n",
              "    </tr>\n",
              "    <tr>\n",
              "      <th>1</th>\n",
              "      <td>1205757.0</td>\n",
              "      <td>2.023030e+13</td>\n",
              "      <td>6586355</td>\n",
              "      <td>1.0</td>\n",
              "      <td>1.0</td>\n",
              "      <td>41.79304</td>\n",
              "      <td>2.77412</td>\n",
              "      <td>2</td>\n",
              "      <td>1.0</td>\n",
              "      <td>1.0</td>\n",
              "      <td>...</td>\n",
              "      <td>Private room</td>\n",
              "      <td>1.5 shared baths</td>\n",
              "      <td>[\"Free parking on premises\", \"Refrigerator\", \"...</td>\n",
              "      <td>$47.00</td>\n",
              "      <td>t</td>\n",
              "      <td>31/03/2023</td>\n",
              "      <td>01/08/2013</td>\n",
              "      <td>26/06/2022</td>\n",
              "      <td>sin registro</td>\n",
              "      <td>f</td>\n",
              "    </tr>\n",
              "    <tr>\n",
              "      <th>2</th>\n",
              "      <td>1212820.0</td>\n",
              "      <td>2.023030e+13</td>\n",
              "      <td>6620645</td>\n",
              "      <td>2.0</td>\n",
              "      <td>3.0</td>\n",
              "      <td>42.11284</td>\n",
              "      <td>3.16670</td>\n",
              "      <td>4</td>\n",
              "      <td>1.0</td>\n",
              "      <td>2.0</td>\n",
              "      <td>...</td>\n",
              "      <td>Entire home/apt</td>\n",
              "      <td>1 bath</td>\n",
              "      <td>[\"Air conditioning\", \"Free parking on premises...</td>\n",
              "      <td>$74.00</td>\n",
              "      <td>t</td>\n",
              "      <td>01/04/2023</td>\n",
              "      <td>10/06/2013</td>\n",
              "      <td>30/12/2022</td>\n",
              "      <td>sin registro</td>\n",
              "      <td>f</td>\n",
              "    </tr>\n",
              "    <tr>\n",
              "      <th>3</th>\n",
              "      <td>751638.0</td>\n",
              "      <td>2.023030e+13</td>\n",
              "      <td>3680160</td>\n",
              "      <td>6.0</td>\n",
              "      <td>6.0</td>\n",
              "      <td>42.36958</td>\n",
              "      <td>2.98030</td>\n",
              "      <td>2</td>\n",
              "      <td>1.0</td>\n",
              "      <td>2.0</td>\n",
              "      <td>...</td>\n",
              "      <td>Private room</td>\n",
              "      <td>1 private bath</td>\n",
              "      <td>[\"Hair dryer\", \"Luggage dropoff allowed\", \"Fre...</td>\n",
              "      <td>$45.00</td>\n",
              "      <td>t</td>\n",
              "      <td>31/03/2023</td>\n",
              "      <td>23/08/2013</td>\n",
              "      <td>29/08/2022</td>\n",
              "      <td>PG000794</td>\n",
              "      <td>t</td>\n",
              "    </tr>\n",
              "    <tr>\n",
              "      <th>4</th>\n",
              "      <td>41342.0</td>\n",
              "      <td>2.023030e+13</td>\n",
              "      <td>180072</td>\n",
              "      <td>2.0</td>\n",
              "      <td>3.0</td>\n",
              "      <td>42.34655</td>\n",
              "      <td>3.20463</td>\n",
              "      <td>4</td>\n",
              "      <td>1.0</td>\n",
              "      <td>1.0</td>\n",
              "      <td>...</td>\n",
              "      <td>Entire home/apt</td>\n",
              "      <td>1 bath</td>\n",
              "      <td>[\"Free parking on premises\", \"Refrigerator\", \"...</td>\n",
              "      <td>$120.00</td>\n",
              "      <td>t</td>\n",
              "      <td>01/04/2023</td>\n",
              "      <td>14/07/2013</td>\n",
              "      <td>28/08/2021</td>\n",
              "      <td>HUTG-003688</td>\n",
              "      <td>f</td>\n",
              "    </tr>\n",
              "  </tbody>\n",
              "</table>\n",
              "<p>5 rows × 72 columns</p>\n",
              "</div>\n",
              "      <button class=\"colab-df-convert\" onclick=\"convertToInteractive('df-e686fc4f-a2a7-42b1-9117-8833f5acf05d')\"\n",
              "              title=\"Convert this dataframe to an interactive table.\"\n",
              "              style=\"display:none;\">\n",
              "        \n",
              "  <svg xmlns=\"http://www.w3.org/2000/svg\" height=\"24px\"viewBox=\"0 0 24 24\"\n",
              "       width=\"24px\">\n",
              "    <path d=\"M0 0h24v24H0V0z\" fill=\"none\"/>\n",
              "    <path d=\"M18.56 5.44l.94 2.06.94-2.06 2.06-.94-2.06-.94-.94-2.06-.94 2.06-2.06.94zm-11 1L8.5 8.5l.94-2.06 2.06-.94-2.06-.94L8.5 2.5l-.94 2.06-2.06.94zm10 10l.94 2.06.94-2.06 2.06-.94-2.06-.94-.94-2.06-.94 2.06-2.06.94z\"/><path d=\"M17.41 7.96l-1.37-1.37c-.4-.4-.92-.59-1.43-.59-.52 0-1.04.2-1.43.59L10.3 9.45l-7.72 7.72c-.78.78-.78 2.05 0 2.83L4 21.41c.39.39.9.59 1.41.59.51 0 1.02-.2 1.41-.59l7.78-7.78 2.81-2.81c.8-.78.8-2.07 0-2.86zM5.41 20L4 18.59l7.72-7.72 1.47 1.35L5.41 20z\"/>\n",
              "  </svg>\n",
              "      </button>\n",
              "      \n",
              "  <style>\n",
              "    .colab-df-container {\n",
              "      display:flex;\n",
              "      flex-wrap:wrap;\n",
              "      gap: 12px;\n",
              "    }\n",
              "\n",
              "    .colab-df-convert {\n",
              "      background-color: #E8F0FE;\n",
              "      border: none;\n",
              "      border-radius: 50%;\n",
              "      cursor: pointer;\n",
              "      display: none;\n",
              "      fill: #1967D2;\n",
              "      height: 32px;\n",
              "      padding: 0 0 0 0;\n",
              "      width: 32px;\n",
              "    }\n",
              "\n",
              "    .colab-df-convert:hover {\n",
              "      background-color: #E2EBFA;\n",
              "      box-shadow: 0px 1px 2px rgba(60, 64, 67, 0.3), 0px 1px 3px 1px rgba(60, 64, 67, 0.15);\n",
              "      fill: #174EA6;\n",
              "    }\n",
              "\n",
              "    [theme=dark] .colab-df-convert {\n",
              "      background-color: #3B4455;\n",
              "      fill: #D2E3FC;\n",
              "    }\n",
              "\n",
              "    [theme=dark] .colab-df-convert:hover {\n",
              "      background-color: #434B5C;\n",
              "      box-shadow: 0px 1px 3px 1px rgba(0, 0, 0, 0.15);\n",
              "      filter: drop-shadow(0px 1px 2px rgba(0, 0, 0, 0.3));\n",
              "      fill: #FFFFFF;\n",
              "    }\n",
              "  </style>\n",
              "\n",
              "      <script>\n",
              "        const buttonEl =\n",
              "          document.querySelector('#df-e686fc4f-a2a7-42b1-9117-8833f5acf05d button.colab-df-convert');\n",
              "        buttonEl.style.display =\n",
              "          google.colab.kernel.accessAllowed ? 'block' : 'none';\n",
              "\n",
              "        async function convertToInteractive(key) {\n",
              "          const element = document.querySelector('#df-e686fc4f-a2a7-42b1-9117-8833f5acf05d');\n",
              "          const dataTable =\n",
              "            await google.colab.kernel.invokeFunction('convertToInteractive',\n",
              "                                                     [key], {});\n",
              "          if (!dataTable) return;\n",
              "\n",
              "          const docLinkHtml = 'Like what you see? Visit the ' +\n",
              "            '<a target=\"_blank\" href=https://colab.research.google.com/notebooks/data_table.ipynb>data table notebook</a>'\n",
              "            + ' to learn more about interactive tables.';\n",
              "          element.innerHTML = '';\n",
              "          dataTable['output_type'] = 'display_data';\n",
              "          await google.colab.output.renderOutput(dataTable, element);\n",
              "          const docLink = document.createElement('div');\n",
              "          docLink.innerHTML = docLinkHtml;\n",
              "          element.appendChild(docLink);\n",
              "        }\n",
              "      </script>\n",
              "    </div>\n",
              "  </div>\n",
              "  "
            ]
          },
          "metadata": {},
          "execution_count": 69
        }
      ]
    },
    {
      "cell_type": "markdown",
      "source": [
        "### Guardar a CSV"
      ],
      "metadata": {
        "id": "GikB3dl5oYlR"
      }
    },
    {
      "cell_type": "code",
      "source": [
        "#Convertir archivo filtrado a CSV\n",
        "concatenadoeua.to_csv(\"ESP_limpio.csv\")"
      ],
      "metadata": {
        "id": "lj7D93CvoYlR"
      },
      "execution_count": 70,
      "outputs": []
    },
    {
      "cell_type": "code",
      "source": [
        "#descargar archivo filtrado en csv\n",
        "from google.colab import files  \n",
        "files.download(\"ESP_limpio.csv\")"
      ],
      "metadata": {
        "id": "M4sPOt1noYlR",
        "colab": {
          "base_uri": "https://localhost:8080/",
          "height": 0
        },
        "outputId": "8420f270-6584-4efd-9fd5-220b2b53537e"
      },
      "execution_count": 71,
      "outputs": [
        {
          "output_type": "display_data",
          "data": {
            "text/plain": [
              "<IPython.core.display.Javascript object>"
            ],
            "application/javascript": [
              "\n",
              "    async function download(id, filename, size) {\n",
              "      if (!google.colab.kernel.accessAllowed) {\n",
              "        return;\n",
              "      }\n",
              "      const div = document.createElement('div');\n",
              "      const label = document.createElement('label');\n",
              "      label.textContent = `Downloading \"${filename}\": `;\n",
              "      div.appendChild(label);\n",
              "      const progress = document.createElement('progress');\n",
              "      progress.max = size;\n",
              "      div.appendChild(progress);\n",
              "      document.body.appendChild(div);\n",
              "\n",
              "      const buffers = [];\n",
              "      let downloaded = 0;\n",
              "\n",
              "      const channel = await google.colab.kernel.comms.open(id);\n",
              "      // Send a message to notify the kernel that we're ready.\n",
              "      channel.send({})\n",
              "\n",
              "      for await (const message of channel.messages) {\n",
              "        // Send a message to notify the kernel that we're ready.\n",
              "        channel.send({})\n",
              "        if (message.buffers) {\n",
              "          for (const buffer of message.buffers) {\n",
              "            buffers.push(buffer);\n",
              "            downloaded += buffer.byteLength;\n",
              "            progress.value = downloaded;\n",
              "          }\n",
              "        }\n",
              "      }\n",
              "      const blob = new Blob(buffers, {type: 'application/binary'});\n",
              "      const a = document.createElement('a');\n",
              "      a.href = window.URL.createObjectURL(blob);\n",
              "      a.download = filename;\n",
              "      div.appendChild(a);\n",
              "      a.click();\n",
              "      div.remove();\n",
              "    }\n",
              "  "
            ]
          },
          "metadata": {}
        },
        {
          "output_type": "display_data",
          "data": {
            "text/plain": [
              "<IPython.core.display.Javascript object>"
            ],
            "application/javascript": [
              "download(\"download_6cc5ef79-42d0-4013-a032-4fe9b051cfe0\", \"ESP_limpio.csv\", 54729559)"
            ]
          },
          "metadata": {}
        }
      ]
    },
    {
      "cell_type": "markdown",
      "source": [
        "## **ETAPA 2**"
      ],
      "metadata": {
        "id": "gCcQhjC6oYlS"
      }
    },
    {
      "cell_type": "code",
      "source": [
        "#filtroa\n",
        "#se cambiaron los valores \"sin registro\" por \"5%\" para poder identificarlos ya que el dataset no tiene registros con ese valor\n",
        "concatenadoeua[\"host_acceptance_rate\"] = concatenadoeua[\"host_acceptance_rate\"].replace(\"sin registro\", \"5%\")\n",
        "#se elimino el \"%\"\n",
        "concatenadoeua['host_acceptance_rate'] = pd.to_numeric(concatenadoeua['host_acceptance_rate'].str.replace('%', ''))\n",
        "\n"
      ],
      "metadata": {
        "id": "yk-78SGzoYlS"
      },
      "execution_count": 72,
      "outputs": []
    },
    {
      "cell_type": "code",
      "source": [
        "#filtroe\n",
        "#cambiar Half-bath, Shared half-bath, Private half-bath, sin registro\n",
        "concatenadoeua[\"bathrooms_text\"] = concatenadoeua[\"bathrooms_text\"].str.replace('Half-bath', '0.5').str.replace('Shared half-bath', '0.5').str.replace('Private half-bath', '0.5').str.replace('sin registro', '0')\n",
        "\n",
        "#se extraen los numeros y se guardan como string en la misma columna\n",
        "concatenadoeua[\"bathrooms_text\"] = concatenadoeua[\"bathrooms_text\"].str.extract('(\\d+\\.?\\d*)', expand=False)\n",
        "\n",
        "#cambiar columna a float\n",
        "concatenadoeua[\"bathrooms_text\"] = concatenadoeua[\"bathrooms_text\"].astype(float)"
      ],
      "metadata": {
        "id": "ewR4IjNmoYlS"
      },
      "execution_count": 73,
      "outputs": []
    },
    {
      "cell_type": "code",
      "source": [
        "#filtrof\n",
        "#se elimino el \"$\" y \",\"\n",
        "#se cambia la columna \"price\" a float para poder compararla\n",
        "concatenadoeua[\"price\"] = concatenadoeua[\"price\"].str.replace(',', '').str.replace('$', '').astype(float)\n"
      ],
      "metadata": {
        "colab": {
          "base_uri": "https://localhost:8080/"
        },
        "outputId": "69e8713a-c157-4287-ecb2-49c1e0d135c9",
        "id": "0pPEv9pHoYlS"
      },
      "execution_count": 74,
      "outputs": [
        {
          "output_type": "stream",
          "name": "stderr",
          "text": [
            "<ipython-input-74-af53cb0f8d5c>:4: FutureWarning: The default value of regex will change from True to False in a future version. In addition, single character regular expressions will *not* be treated as literal strings when regex=True.\n",
            "  concatenadoeua[\"price\"] = concatenadoeua[\"price\"].str.replace(',', '').str.replace('$', '').astype(float)\n"
          ]
        }
      ]
    },
    {
      "cell_type": "code",
      "source": [
        "filtroa_esp = concatenadoeua[concatenadoeua[\"host_acceptance_rate\"] > 50]\n",
        "filtrob_esp = concatenadoeua[concatenadoeua[\"host_is_superhost\"] == \"t\"]\n",
        "filtroc_esp = concatenadoeua[concatenadoeua[\"host_identity_verified\"] == \"f\"]\n",
        "filtrod_esp = concatenadoeua[concatenadoeua[\"property_type\"].isin([\"Private room\", \"Hotel room\"])]\n",
        "filtroe_esp = concatenadoeua[concatenadoeua[\"bathrooms_text\"] > 1]\n",
        "filtrof_esp = concatenadoeua.loc[(concatenadoeua['price'] > 10000) & (concatenadoeua['room_type'] == 'Entire home/apt')]\n",
        "filtrog_esp = concatenadoeua[concatenadoeua[\"review_scores_cleanliness\"] > 4.5]\n",
        "filtroh_esp = concatenadoeua[concatenadoeua[\"review_scores_value\"] > 4.9]\n",
        "filtroi_esp = concatenadoeua[concatenadoeua[\"availability_365\"] < 100]\n",
        "filtroj_esp = concatenadoeua[concatenadoeua[\"host_response_time\"] == \"within an hour\"]"
      ],
      "metadata": {
        "id": "1Qi2BwtnoYlS"
      },
      "execution_count": 75,
      "outputs": []
    },
    {
      "cell_type": "markdown",
      "source": [
        "### Guardar a CSV"
      ],
      "metadata": {
        "id": "W3YoPsanoYlS"
      }
    },
    {
      "cell_type": "code",
      "source": [
        "#Convertir archivo filtrado a CSV\n",
        "#filtroa.to_csv(\"filtroa_esp.csv\")\n",
        "#filtrob.to_csv(\"filtrob_esp.csv\")\n",
        "#filtroc.to_csv(\"filtroc_esp.csv\")\n",
        "#filtrod.to_csv(\"filtrod_esp.csv\")\n",
        "#filtroe.to_csv(\"filtroe_esp.csv\")\n",
        "#filtrof.to_csv(\"filtrof_esp.csv\")\n",
        "#filtrog.to_csv(\"filtrog_esp.csv\")\n",
        "#filtroh.to_csv(\"filtroh_esp.csv\")\n",
        "#filtroi.to_csv(\"filtroi_esp.csv\")\n",
        "#filtroj.to_csv(\"filtroj_esp.csv\")"
      ],
      "metadata": {
        "id": "tgOmX_WJoYlS"
      },
      "execution_count": 76,
      "outputs": []
    },
    {
      "cell_type": "code",
      "source": [
        "#descargar archivo filtrado en csv\n",
        "from google.colab import files  \n",
        "#files.download(\"filtroa_esp.csv\")\n",
        "#files.download(\"filtrob_esp.csv\")\n",
        "#files.download(\"filtroc_esp.csv\")\n",
        "#files.download(\"filtrod_esp.csv\")\n",
        "#files.download(\"filtroe_esp.csv\")\n",
        "#files.download(\"filtrof_esp.csv\")\n",
        "#files.download(\"filtrog_esp.csv\")\n",
        "#files.download(\"filtroh_esp.csv\")\n",
        "#files.download(\"filtroi_esp.csv\")\n",
        "#files.download(\"filtroj_esp.csv\")"
      ],
      "metadata": {
        "id": "-qqEUzxKoYlT"
      },
      "execution_count": 77,
      "outputs": []
    },
    {
      "cell_type": "markdown",
      "source": [
        "# ***DF_Mexico.csv***"
      ],
      "metadata": {
        "id": "Kp9SJMfdoY3M"
      }
    },
    {
      "cell_type": "markdown",
      "source": [
        "## **ETAPA 1**"
      ],
      "metadata": {
        "id": "ggM_7KRroY3M"
      }
    },
    {
      "cell_type": "code",
      "source": [
        "dfeua = pd.read_csv('DF_Mexico.csv')#, encoding = 'unicode_escape')\n",
        "dfeua.info()"
      ],
      "metadata": {
        "colab": {
          "base_uri": "https://localhost:8080/"
        },
        "outputId": "1b26ba64-a30e-4df6-d192-7f46cde27cd5",
        "id": "lqU4mxOioY3M"
      },
      "execution_count": 78,
      "outputs": [
        {
          "output_type": "stream",
          "name": "stdout",
          "text": [
            "<class 'pandas.core.frame.DataFrame'>\n",
            "RangeIndex: 24224 entries, 0 to 24223\n",
            "Data columns (total 75 columns):\n",
            " #   Column                                        Non-Null Count  Dtype  \n",
            "---  ------                                        --------------  -----  \n",
            " 0   id                                            24224 non-null  int64  \n",
            " 1   listing_url                                   24224 non-null  object \n",
            " 2   scrape_id                                     24224 non-null  int64  \n",
            " 3   last_scraped                                  24224 non-null  object \n",
            " 4   source                                        24224 non-null  object \n",
            " 5   name                                          24223 non-null  object \n",
            " 6   description                                   23296 non-null  object \n",
            " 7   neighborhood_overview                         15145 non-null  object \n",
            " 8   picture_url                                   24224 non-null  object \n",
            " 9   host_id                                       24224 non-null  int64  \n",
            " 10  host_url                                      24224 non-null  object \n",
            " 11  host_name                                     24224 non-null  object \n",
            " 12  host_since                                    24224 non-null  object \n",
            " 13  host_location                                 19052 non-null  object \n",
            " 14  host_about                                    13560 non-null  object \n",
            " 15  host_response_time                            21133 non-null  object \n",
            " 16  host_response_rate                            21133 non-null  object \n",
            " 17  host_acceptance_rate                          22181 non-null  object \n",
            " 18  host_is_superhost                             24219 non-null  object \n",
            " 19  host_thumbnail_url                            24224 non-null  object \n",
            " 20  host_picture_url                              24224 non-null  object \n",
            " 21  host_neighbourhood                            11823 non-null  object \n",
            " 22  host_listings_count                           24224 non-null  int64  \n",
            " 23  host_total_listings_count                     24224 non-null  int64  \n",
            " 24  host_verifications                            24224 non-null  object \n",
            " 25  host_has_profile_pic                          24224 non-null  object \n",
            " 26  host_identity_verified                        24224 non-null  object \n",
            " 27  neighbourhood                                 15145 non-null  object \n",
            " 28  neighbourhood_cleansed                        24224 non-null  object \n",
            " 29  neighbourhood_group_cleansed                  0 non-null      float64\n",
            " 30  latitude                                      24224 non-null  float64\n",
            " 31  longitude                                     24224 non-null  float64\n",
            " 32  property_type                                 24224 non-null  object \n",
            " 33  room_type                                     24224 non-null  object \n",
            " 34  accommodates                                  24224 non-null  int64  \n",
            " 35  bathrooms                                     0 non-null      float64\n",
            " 36  bathrooms_text                                24194 non-null  object \n",
            " 37  bedrooms                                      23669 non-null  float64\n",
            " 38  beds                                          23953 non-null  float64\n",
            " 39  amenities                                     24224 non-null  object \n",
            " 40  price                                         24224 non-null  object \n",
            " 41  minimum_nights                                24224 non-null  int64  \n",
            " 42  maximum_nights                                24224 non-null  int64  \n",
            " 43  minimum_minimum_nights                        24223 non-null  float64\n",
            " 44  maximum_minimum_nights                        24223 non-null  float64\n",
            " 45  minimum_maximum_nights                        24223 non-null  float64\n",
            " 46  maximum_maximum_nights                        24223 non-null  float64\n",
            " 47  minimum_nights_avg_ntm                        24223 non-null  float64\n",
            " 48  maximum_nights_avg_ntm                        24223 non-null  float64\n",
            " 49  calendar_updated                              0 non-null      float64\n",
            " 50  has_availability                              24224 non-null  object \n",
            " 51  availability_30                               24224 non-null  int64  \n",
            " 52  availability_60                               24224 non-null  int64  \n",
            " 53  availability_90                               24224 non-null  int64  \n",
            " 54  availability_365                              24224 non-null  int64  \n",
            " 55  calendar_last_scraped                         24224 non-null  object \n",
            " 56  number_of_reviews                             24224 non-null  int64  \n",
            " 57  number_of_reviews_ltm                         24224 non-null  int64  \n",
            " 58  number_of_reviews_l30d                        24224 non-null  int64  \n",
            " 59  first_review                                  20628 non-null  object \n",
            " 60  last_review                                   20628 non-null  object \n",
            " 61  review_scores_rating                          20628 non-null  float64\n",
            " 62  review_scores_accuracy                        20572 non-null  float64\n",
            " 63  review_scores_cleanliness                     20573 non-null  float64\n",
            " 64  review_scores_checkin                         20572 non-null  float64\n",
            " 65  review_scores_communication                   20572 non-null  float64\n",
            " 66  review_scores_location                        20571 non-null  float64\n",
            " 67  review_scores_value                           20571 non-null  float64\n",
            " 68  license                                       0 non-null      float64\n",
            " 69  instant_bookable                              24224 non-null  object \n",
            " 70  calculated_host_listings_count                24224 non-null  int64  \n",
            " 71  calculated_host_listings_count_entire_homes   24224 non-null  int64  \n",
            " 72  calculated_host_listings_count_private_rooms  24224 non-null  int64  \n",
            " 73  calculated_host_listings_count_shared_rooms   24224 non-null  int64  \n",
            " 74  reviews_per_month                             20628 non-null  float64\n",
            "dtypes: float64(22), int64(19), object(34)\n",
            "memory usage: 13.9+ MB\n"
          ]
        }
      ]
    },
    {
      "cell_type": "code",
      "source": [
        "#Checar si hay valores nulos por columna\n",
        "pd.set_option('display.max_rows', None)\n",
        "valores_nulos=dfeua.isnull().sum().sum()\n",
        "valores_nulos"
      ],
      "metadata": {
        "id": "eu_mk4r3oY3N",
        "colab": {
          "base_uri": "https://localhost:8080/"
        },
        "outputId": "03f4fa08-3a46-49b8-c6c6-9b49c23d181b"
      },
      "execution_count": 79,
      "outputs": [
        {
          "output_type": "execute_result",
          "data": {
            "text/plain": [
              "189609"
            ]
          },
          "metadata": {},
          "execution_count": 79
        }
      ]
    },
    {
      "cell_type": "markdown",
      "source": [
        "### Filtros"
      ],
      "metadata": {
        "id": "yW84HL7voY3N"
      }
    },
    {
      "cell_type": "code",
      "source": [
        "#Crear filtro numerico y no numerico\n",
        "filtroeuanumerico = dfeua.select_dtypes(include=['float64', 'int64'])\n",
        "#filtroeuanumerico.info()"
      ],
      "metadata": {
        "id": "3IqXL5osoY3N"
      },
      "execution_count": 80,
      "outputs": []
    },
    {
      "cell_type": "code",
      "source": [
        "filtroeua = dfeua.select_dtypes('object')\n",
        "#filtroeuanonumerico.info()"
      ],
      "metadata": {
        "id": "YwH6QR0loY3N"
      },
      "execution_count": 81,
      "outputs": []
    },
    {
      "cell_type": "markdown",
      "source": [
        "### Nulos"
      ],
      "metadata": {
        "id": "x9-4C3edoY3O"
      }
    },
    {
      "cell_type": "code",
      "source": [
        "#sustituir los nulos por el promedio de la columna\n",
        "data1 = filtroeuanumerico.copy()\n",
        "filtroeuanumerico = data1.fillna(data1.mean())\n",
        "\n",
        "\n",
        "#sustituir los nulos por 'sin registro'\n",
        "filtroeua = filtroeua.fillna('sin registro')\n"
      ],
      "metadata": {
        "id": "Q3T7zV16oY3O"
      },
      "execution_count": 82,
      "outputs": []
    },
    {
      "cell_type": "code",
      "source": [
        "#Checar si hay valores nulos por columna    NUMERICO\n",
        "pd.set_option('display.max_rows', None)\n",
        "valores_nulos=filtroeuanumerico.isnull().sum().sum()\n",
        "valores_nulos"
      ],
      "metadata": {
        "id": "5yO91MJ3oY3O",
        "colab": {
          "base_uri": "https://localhost:8080/"
        },
        "outputId": "7b91fce2-b8c9-4b42-99ed-8f9762ff00fa"
      },
      "execution_count": 83,
      "outputs": [
        {
          "output_type": "execute_result",
          "data": {
            "text/plain": [
              "96896"
            ]
          },
          "metadata": {},
          "execution_count": 83
        }
      ]
    },
    {
      "cell_type": "code",
      "source": [
        "#Checar si hay valores nulos por columna    NO NUMERICO\n",
        "pd.set_option('display.max_rows', None)\n",
        "valores_nulos=filtroeua.isnull().sum().sum()\n",
        "valores_nulos"
      ],
      "metadata": {
        "id": "vqifKK2zoY3O",
        "colab": {
          "base_uri": "https://localhost:8080/"
        },
        "outputId": "4a0a2e2f-03a5-4c6e-92cb-9e52813e3cce"
      },
      "execution_count": 84,
      "outputs": [
        {
          "output_type": "execute_result",
          "data": {
            "text/plain": [
              "0"
            ]
          },
          "metadata": {},
          "execution_count": 84
        }
      ]
    },
    {
      "cell_type": "code",
      "source": [
        "#NUMERICO\n",
        "#Se eliminaron las columnas 'neighbourhood_group_cleansed', 'bathrooms', 'calendar_updated', 'license'\n",
        "#ya que son numericas pero no tienen ningun registro y no aportan valor al análisis\n",
        "filtroeuanumerico = filtroeuanumerico.drop(['neighbourhood_group_cleansed', 'bathrooms', 'calendar_updated','license'], axis=1)\n",
        "\n",
        "#Checar si hay valores nulos por columna\n",
        "pd.set_option('display.max_rows', None)\n",
        "valores_nulos=filtroeuanumerico.isnull().sum().sum()\n",
        "valores_nulos"
      ],
      "metadata": {
        "id": "6nzbVeRHoY3P",
        "colab": {
          "base_uri": "https://localhost:8080/"
        },
        "outputId": "97eddceb-4808-4737-9ec0-6716c4d24341"
      },
      "execution_count": 85,
      "outputs": [
        {
          "output_type": "execute_result",
          "data": {
            "text/plain": [
              "0"
            ]
          },
          "metadata": {},
          "execution_count": 85
        }
      ]
    },
    {
      "cell_type": "markdown",
      "source": [
        "### Outliers **MÉTODO DE IQR (RANGO INTER QUARTILICO)**"
      ],
      "metadata": {
        "id": "ruXj42AzoY3P"
      }
    },
    {
      "cell_type": "code",
      "source": [
        "#Método aplicando Cuartiles. Encuentro cuartiles 0.25 y 0.75\n",
        "y=filtroeuanumerico\n",
        "\n",
        "percentile25=y.quantile(0.25) #Q1\n",
        "percentile75=y.quantile(0.75) #Q3\n",
        "iqr= percentile75 - percentile25\n",
        "\n",
        "Limite_Superior_iqr= percentile75 + 1.5*iqr\n",
        "Limite_Inferior_iqr= percentile25 - 1.5*iqr\n",
        "#print(\"Limite superior permitido\", Limite_Superior_iqr)\n",
        "#print(\"Limite inferior permitido\", Limite_Inferior_iqr)"
      ],
      "metadata": {
        "id": "ekbxH3gWoY3P"
      },
      "execution_count": 86,
      "outputs": []
    },
    {
      "cell_type": "code",
      "source": [
        "#Encontramos Ouliers\n",
        "outliers_iqr= filtroeuanumerico[(y>Limite_Superior_iqr)|(y<Limite_Inferior_iqr)]\n",
        "#outliers_iqr.head()"
      ],
      "metadata": {
        "id": "Wk8Vm8uOoY3P"
      },
      "execution_count": 87,
      "outputs": []
    },
    {
      "cell_type": "code",
      "source": [
        "#Obtenemos datos limpios\n",
        "data_clean_iqr1= filtroeuanumerico[(y<=Limite_Superior_iqr)&(y>=Limite_Inferior_iqr)]\n",
        "#data_clean_iqr1.head()"
      ],
      "metadata": {
        "id": "klCy0duwoY3P"
      },
      "execution_count": 88,
      "outputs": []
    },
    {
      "cell_type": "code",
      "source": [
        "#Checar si hay valores nulos por columna    NUMERICO\n",
        "pd.set_option('display.max_rows', None)\n",
        "valores_nulos=data_clean_iqr1.isnull().sum().sum()\n",
        "valores_nulos"
      ],
      "metadata": {
        "id": "_4-wDCh8oY3P",
        "colab": {
          "base_uri": "https://localhost:8080/"
        },
        "outputId": "4e2e52be-6a90-473c-d8b5-a95c6fef315d"
      },
      "execution_count": 89,
      "outputs": [
        {
          "output_type": "execute_result",
          "data": {
            "text/plain": [
              "54132"
            ]
          },
          "metadata": {},
          "execution_count": 89
        }
      ]
    },
    {
      "cell_type": "code",
      "source": [
        "#Reemplazamos valores atípicos (nulos) del dataframe con \"mean\"\n",
        "#Realizamos una copia del dataframe\n",
        "data5_iqr=filtroeuanumerico.copy()\n",
        "data5_iqr=data5_iqr.fillna(round(filtroeuanumerico.mean(),1))\n",
        "#data5_iqr"
      ],
      "metadata": {
        "id": "axTHDOimoY3P"
      },
      "execution_count": 90,
      "outputs": []
    },
    {
      "cell_type": "code",
      "source": [
        "#Checar si hay valores nulos por columna    NUMERICO\n",
        "pd.set_option('display.max_rows', None)\n",
        "valores_nulos=data5_iqr.isnull().sum().sum()\n",
        "valores_nulos"
      ],
      "metadata": {
        "id": "pHv4xKTzoY3Q",
        "colab": {
          "base_uri": "https://localhost:8080/"
        },
        "outputId": "434582dc-d1c5-4b63-95df-40fdbda1fe3b"
      },
      "execution_count": 91,
      "outputs": [
        {
          "output_type": "execute_result",
          "data": {
            "text/plain": [
              "0"
            ]
          },
          "metadata": {},
          "execution_count": 91
        }
      ]
    },
    {
      "cell_type": "markdown",
      "source": [
        "### Concatenar"
      ],
      "metadata": {
        "id": "1eqasY6GoY3Q"
      }
    },
    {
      "cell_type": "code",
      "source": [
        "concatenadoeua = pd.concat([data5_iqr, filtroeua], axis=1)\n",
        "concatenadoeua.head()"
      ],
      "metadata": {
        "id": "g3P27blmoY3Q",
        "colab": {
          "base_uri": "https://localhost:8080/",
          "height": 0
        },
        "outputId": "f7db9565-22b5-4a41-b882-27f3ed2c3abe"
      },
      "execution_count": 92,
      "outputs": [
        {
          "output_type": "execute_result",
          "data": {
            "text/plain": [
              "        id       scrape_id   host_id  host_listings_count  \\\n",
              "0  2056638  20230329041210  10531228                    3   \n",
              "1  2072354  20230329041210  16840050                    3   \n",
              "2   696037  20230329041210   3531879                    4   \n",
              "3    35797  20230329041210    153786                    1   \n",
              "4    44616  20230329041210    196253                   16   \n",
              "\n",
              "   host_total_listings_count  latitude  longitude  accommodates  bedrooms  \\\n",
              "0                          7  19.35353  -99.16299             3       1.0   \n",
              "1                          3  19.35358  -99.16948             2       1.0   \n",
              "2                          4  19.44180  -99.18402             6       3.0   \n",
              "3                          1  19.38283  -99.27178             2       1.0   \n",
              "4                         16  19.41162  -99.17794            14       5.0   \n",
              "\n",
              "   beds  ...       property_type        room_type  bathrooms_text  \\\n",
              "0   1.0  ...         Entire loft  Entire home/apt       1.5 baths   \n",
              "1   1.0  ...  Entire guest suite  Entire home/apt          1 bath   \n",
              "2   3.0  ...  Entire rental unit  Entire home/apt         2 baths   \n",
              "3   1.0  ...        Entire villa  Entire home/apt          1 bath   \n",
              "4   8.0  ...         Entire home  Entire home/apt       5.5 baths   \n",
              "\n",
              "                                           amenities       price  \\\n",
              "0  [\"Wifi\", \"Hangers\", \"Fire extinguisher\", \"Sham...   $1,434.00   \n",
              "1  [\"Free street parking\", \"Cleaning products\", \"...     $830.00   \n",
              "2  [\"Wifi \\u2013 38 Mbps\", \"Central air condition...   $1,469.00   \n",
              "3  [\"Wifi\", \"Washer\", \"BBQ grill\", \"Indoor firepl...   $3,658.00   \n",
              "4  [\"Free street parking\", \"Security cameras on p...  $18,000.00   \n",
              "\n",
              "   has_availability  calendar_last_scraped  first_review   last_review  \\\n",
              "0                 t             2023-03-30    2014-01-03    2018-06-24   \n",
              "1                 t             2023-03-30    2014-01-01    2022-11-04   \n",
              "2                 t             2023-03-29    2012-10-31    2022-12-21   \n",
              "3                 t             2023-03-29  sin registro  sin registro   \n",
              "4                 t             2023-03-30    2011-11-09    2023-03-26   \n",
              "\n",
              "   instant_bookable  \n",
              "0                 f  \n",
              "1                 f  \n",
              "2                 f  \n",
              "3                 f  \n",
              "4                 f  \n",
              "\n",
              "[5 rows x 71 columns]"
            ],
            "text/html": [
              "\n",
              "  <div id=\"df-58d22f10-170b-4a0d-b24e-8bdd2ba112fb\">\n",
              "    <div class=\"colab-df-container\">\n",
              "      <div>\n",
              "<style scoped>\n",
              "    .dataframe tbody tr th:only-of-type {\n",
              "        vertical-align: middle;\n",
              "    }\n",
              "\n",
              "    .dataframe tbody tr th {\n",
              "        vertical-align: top;\n",
              "    }\n",
              "\n",
              "    .dataframe thead th {\n",
              "        text-align: right;\n",
              "    }\n",
              "</style>\n",
              "<table border=\"1\" class=\"dataframe\">\n",
              "  <thead>\n",
              "    <tr style=\"text-align: right;\">\n",
              "      <th></th>\n",
              "      <th>id</th>\n",
              "      <th>scrape_id</th>\n",
              "      <th>host_id</th>\n",
              "      <th>host_listings_count</th>\n",
              "      <th>host_total_listings_count</th>\n",
              "      <th>latitude</th>\n",
              "      <th>longitude</th>\n",
              "      <th>accommodates</th>\n",
              "      <th>bedrooms</th>\n",
              "      <th>beds</th>\n",
              "      <th>...</th>\n",
              "      <th>property_type</th>\n",
              "      <th>room_type</th>\n",
              "      <th>bathrooms_text</th>\n",
              "      <th>amenities</th>\n",
              "      <th>price</th>\n",
              "      <th>has_availability</th>\n",
              "      <th>calendar_last_scraped</th>\n",
              "      <th>first_review</th>\n",
              "      <th>last_review</th>\n",
              "      <th>instant_bookable</th>\n",
              "    </tr>\n",
              "  </thead>\n",
              "  <tbody>\n",
              "    <tr>\n",
              "      <th>0</th>\n",
              "      <td>2056638</td>\n",
              "      <td>20230329041210</td>\n",
              "      <td>10531228</td>\n",
              "      <td>3</td>\n",
              "      <td>7</td>\n",
              "      <td>19.35353</td>\n",
              "      <td>-99.16299</td>\n",
              "      <td>3</td>\n",
              "      <td>1.0</td>\n",
              "      <td>1.0</td>\n",
              "      <td>...</td>\n",
              "      <td>Entire loft</td>\n",
              "      <td>Entire home/apt</td>\n",
              "      <td>1.5 baths</td>\n",
              "      <td>[\"Wifi\", \"Hangers\", \"Fire extinguisher\", \"Sham...</td>\n",
              "      <td>$1,434.00</td>\n",
              "      <td>t</td>\n",
              "      <td>2023-03-30</td>\n",
              "      <td>2014-01-03</td>\n",
              "      <td>2018-06-24</td>\n",
              "      <td>f</td>\n",
              "    </tr>\n",
              "    <tr>\n",
              "      <th>1</th>\n",
              "      <td>2072354</td>\n",
              "      <td>20230329041210</td>\n",
              "      <td>16840050</td>\n",
              "      <td>3</td>\n",
              "      <td>3</td>\n",
              "      <td>19.35358</td>\n",
              "      <td>-99.16948</td>\n",
              "      <td>2</td>\n",
              "      <td>1.0</td>\n",
              "      <td>1.0</td>\n",
              "      <td>...</td>\n",
              "      <td>Entire guest suite</td>\n",
              "      <td>Entire home/apt</td>\n",
              "      <td>1 bath</td>\n",
              "      <td>[\"Free street parking\", \"Cleaning products\", \"...</td>\n",
              "      <td>$830.00</td>\n",
              "      <td>t</td>\n",
              "      <td>2023-03-30</td>\n",
              "      <td>2014-01-01</td>\n",
              "      <td>2022-11-04</td>\n",
              "      <td>f</td>\n",
              "    </tr>\n",
              "    <tr>\n",
              "      <th>2</th>\n",
              "      <td>696037</td>\n",
              "      <td>20230329041210</td>\n",
              "      <td>3531879</td>\n",
              "      <td>4</td>\n",
              "      <td>4</td>\n",
              "      <td>19.44180</td>\n",
              "      <td>-99.18402</td>\n",
              "      <td>6</td>\n",
              "      <td>3.0</td>\n",
              "      <td>3.0</td>\n",
              "      <td>...</td>\n",
              "      <td>Entire rental unit</td>\n",
              "      <td>Entire home/apt</td>\n",
              "      <td>2 baths</td>\n",
              "      <td>[\"Wifi \\u2013 38 Mbps\", \"Central air condition...</td>\n",
              "      <td>$1,469.00</td>\n",
              "      <td>t</td>\n",
              "      <td>2023-03-29</td>\n",
              "      <td>2012-10-31</td>\n",
              "      <td>2022-12-21</td>\n",
              "      <td>f</td>\n",
              "    </tr>\n",
              "    <tr>\n",
              "      <th>3</th>\n",
              "      <td>35797</td>\n",
              "      <td>20230329041210</td>\n",
              "      <td>153786</td>\n",
              "      <td>1</td>\n",
              "      <td>1</td>\n",
              "      <td>19.38283</td>\n",
              "      <td>-99.27178</td>\n",
              "      <td>2</td>\n",
              "      <td>1.0</td>\n",
              "      <td>1.0</td>\n",
              "      <td>...</td>\n",
              "      <td>Entire villa</td>\n",
              "      <td>Entire home/apt</td>\n",
              "      <td>1 bath</td>\n",
              "      <td>[\"Wifi\", \"Washer\", \"BBQ grill\", \"Indoor firepl...</td>\n",
              "      <td>$3,658.00</td>\n",
              "      <td>t</td>\n",
              "      <td>2023-03-29</td>\n",
              "      <td>sin registro</td>\n",
              "      <td>sin registro</td>\n",
              "      <td>f</td>\n",
              "    </tr>\n",
              "    <tr>\n",
              "      <th>4</th>\n",
              "      <td>44616</td>\n",
              "      <td>20230329041210</td>\n",
              "      <td>196253</td>\n",
              "      <td>16</td>\n",
              "      <td>16</td>\n",
              "      <td>19.41162</td>\n",
              "      <td>-99.17794</td>\n",
              "      <td>14</td>\n",
              "      <td>5.0</td>\n",
              "      <td>8.0</td>\n",
              "      <td>...</td>\n",
              "      <td>Entire home</td>\n",
              "      <td>Entire home/apt</td>\n",
              "      <td>5.5 baths</td>\n",
              "      <td>[\"Free street parking\", \"Security cameras on p...</td>\n",
              "      <td>$18,000.00</td>\n",
              "      <td>t</td>\n",
              "      <td>2023-03-30</td>\n",
              "      <td>2011-11-09</td>\n",
              "      <td>2023-03-26</td>\n",
              "      <td>f</td>\n",
              "    </tr>\n",
              "  </tbody>\n",
              "</table>\n",
              "<p>5 rows × 71 columns</p>\n",
              "</div>\n",
              "      <button class=\"colab-df-convert\" onclick=\"convertToInteractive('df-58d22f10-170b-4a0d-b24e-8bdd2ba112fb')\"\n",
              "              title=\"Convert this dataframe to an interactive table.\"\n",
              "              style=\"display:none;\">\n",
              "        \n",
              "  <svg xmlns=\"http://www.w3.org/2000/svg\" height=\"24px\"viewBox=\"0 0 24 24\"\n",
              "       width=\"24px\">\n",
              "    <path d=\"M0 0h24v24H0V0z\" fill=\"none\"/>\n",
              "    <path d=\"M18.56 5.44l.94 2.06.94-2.06 2.06-.94-2.06-.94-.94-2.06-.94 2.06-2.06.94zm-11 1L8.5 8.5l.94-2.06 2.06-.94-2.06-.94L8.5 2.5l-.94 2.06-2.06.94zm10 10l.94 2.06.94-2.06 2.06-.94-2.06-.94-.94-2.06-.94 2.06-2.06.94z\"/><path d=\"M17.41 7.96l-1.37-1.37c-.4-.4-.92-.59-1.43-.59-.52 0-1.04.2-1.43.59L10.3 9.45l-7.72 7.72c-.78.78-.78 2.05 0 2.83L4 21.41c.39.39.9.59 1.41.59.51 0 1.02-.2 1.41-.59l7.78-7.78 2.81-2.81c.8-.78.8-2.07 0-2.86zM5.41 20L4 18.59l7.72-7.72 1.47 1.35L5.41 20z\"/>\n",
              "  </svg>\n",
              "      </button>\n",
              "      \n",
              "  <style>\n",
              "    .colab-df-container {\n",
              "      display:flex;\n",
              "      flex-wrap:wrap;\n",
              "      gap: 12px;\n",
              "    }\n",
              "\n",
              "    .colab-df-convert {\n",
              "      background-color: #E8F0FE;\n",
              "      border: none;\n",
              "      border-radius: 50%;\n",
              "      cursor: pointer;\n",
              "      display: none;\n",
              "      fill: #1967D2;\n",
              "      height: 32px;\n",
              "      padding: 0 0 0 0;\n",
              "      width: 32px;\n",
              "    }\n",
              "\n",
              "    .colab-df-convert:hover {\n",
              "      background-color: #E2EBFA;\n",
              "      box-shadow: 0px 1px 2px rgba(60, 64, 67, 0.3), 0px 1px 3px 1px rgba(60, 64, 67, 0.15);\n",
              "      fill: #174EA6;\n",
              "    }\n",
              "\n",
              "    [theme=dark] .colab-df-convert {\n",
              "      background-color: #3B4455;\n",
              "      fill: #D2E3FC;\n",
              "    }\n",
              "\n",
              "    [theme=dark] .colab-df-convert:hover {\n",
              "      background-color: #434B5C;\n",
              "      box-shadow: 0px 1px 3px 1px rgba(0, 0, 0, 0.15);\n",
              "      filter: drop-shadow(0px 1px 2px rgba(0, 0, 0, 0.3));\n",
              "      fill: #FFFFFF;\n",
              "    }\n",
              "  </style>\n",
              "\n",
              "      <script>\n",
              "        const buttonEl =\n",
              "          document.querySelector('#df-58d22f10-170b-4a0d-b24e-8bdd2ba112fb button.colab-df-convert');\n",
              "        buttonEl.style.display =\n",
              "          google.colab.kernel.accessAllowed ? 'block' : 'none';\n",
              "\n",
              "        async function convertToInteractive(key) {\n",
              "          const element = document.querySelector('#df-58d22f10-170b-4a0d-b24e-8bdd2ba112fb');\n",
              "          const dataTable =\n",
              "            await google.colab.kernel.invokeFunction('convertToInteractive',\n",
              "                                                     [key], {});\n",
              "          if (!dataTable) return;\n",
              "\n",
              "          const docLinkHtml = 'Like what you see? Visit the ' +\n",
              "            '<a target=\"_blank\" href=https://colab.research.google.com/notebooks/data_table.ipynb>data table notebook</a>'\n",
              "            + ' to learn more about interactive tables.';\n",
              "          element.innerHTML = '';\n",
              "          dataTable['output_type'] = 'display_data';\n",
              "          await google.colab.output.renderOutput(dataTable, element);\n",
              "          const docLink = document.createElement('div');\n",
              "          docLink.innerHTML = docLinkHtml;\n",
              "          element.appendChild(docLink);\n",
              "        }\n",
              "      </script>\n",
              "    </div>\n",
              "  </div>\n",
              "  "
            ]
          },
          "metadata": {},
          "execution_count": 92
        }
      ]
    },
    {
      "cell_type": "markdown",
      "source": [
        "### Guardar a CSV"
      ],
      "metadata": {
        "id": "jFrtT6asoY3Q"
      }
    },
    {
      "cell_type": "code",
      "source": [
        "#Convertir archivo filtrado a CSV\n",
        "concatenadoeua.to_csv(\"MEX_limpio.csv\")"
      ],
      "metadata": {
        "id": "wp3N_J19oY3Q"
      },
      "execution_count": 93,
      "outputs": []
    },
    {
      "cell_type": "code",
      "source": [
        "#descargar archivo filtrado en csv\n",
        "from google.colab import files  \n",
        "files.download(\"MEX_limpio.csv\")"
      ],
      "metadata": {
        "id": "7JhNgmvdoY3R",
        "colab": {
          "base_uri": "https://localhost:8080/",
          "height": 0
        },
        "outputId": "d1d87bd1-0279-49e4-d589-74a011142f1e"
      },
      "execution_count": 94,
      "outputs": [
        {
          "output_type": "display_data",
          "data": {
            "text/plain": [
              "<IPython.core.display.Javascript object>"
            ],
            "application/javascript": [
              "\n",
              "    async function download(id, filename, size) {\n",
              "      if (!google.colab.kernel.accessAllowed) {\n",
              "        return;\n",
              "      }\n",
              "      const div = document.createElement('div');\n",
              "      const label = document.createElement('label');\n",
              "      label.textContent = `Downloading \"${filename}\": `;\n",
              "      div.appendChild(label);\n",
              "      const progress = document.createElement('progress');\n",
              "      progress.max = size;\n",
              "      div.appendChild(progress);\n",
              "      document.body.appendChild(div);\n",
              "\n",
              "      const buffers = [];\n",
              "      let downloaded = 0;\n",
              "\n",
              "      const channel = await google.colab.kernel.comms.open(id);\n",
              "      // Send a message to notify the kernel that we're ready.\n",
              "      channel.send({})\n",
              "\n",
              "      for await (const message of channel.messages) {\n",
              "        // Send a message to notify the kernel that we're ready.\n",
              "        channel.send({})\n",
              "        if (message.buffers) {\n",
              "          for (const buffer of message.buffers) {\n",
              "            buffers.push(buffer);\n",
              "            downloaded += buffer.byteLength;\n",
              "            progress.value = downloaded;\n",
              "          }\n",
              "        }\n",
              "      }\n",
              "      const blob = new Blob(buffers, {type: 'application/binary'});\n",
              "      const a = document.createElement('a');\n",
              "      a.href = window.URL.createObjectURL(blob);\n",
              "      a.download = filename;\n",
              "      div.appendChild(a);\n",
              "      a.click();\n",
              "      div.remove();\n",
              "    }\n",
              "  "
            ]
          },
          "metadata": {}
        },
        {
          "output_type": "display_data",
          "data": {
            "text/plain": [
              "<IPython.core.display.Javascript object>"
            ],
            "application/javascript": [
              "download(\"download_1ec08b86-d252-4e29-bf88-7b3e21512b61\", \"MEX_limpio.csv\", 62282187)"
            ]
          },
          "metadata": {}
        }
      ]
    },
    {
      "cell_type": "markdown",
      "source": [
        "## **ETAPA 2**"
      ],
      "metadata": {
        "id": "ZWRXJG57oY3R"
      }
    },
    {
      "cell_type": "code",
      "source": [
        "#filtroa\n",
        "#se cambiaron los valores \"sin registro\" por \"5%\" para poder identificarlos ya que el dataset no tiene registros con ese valor\n",
        "concatenadoeua[\"host_acceptance_rate\"] = concatenadoeua[\"host_acceptance_rate\"].replace(\"sin registro\", \"5%\")\n",
        "#se elimino el \"%\"\n",
        "concatenadoeua['host_acceptance_rate'] = pd.to_numeric(concatenadoeua['host_acceptance_rate'].str.replace('%', ''))\n",
        "\n"
      ],
      "metadata": {
        "id": "rTgIVA8woY3R"
      },
      "execution_count": 95,
      "outputs": []
    },
    {
      "cell_type": "code",
      "source": [
        "#filtroe\n",
        "#cambiar Half-bath, Shared half-bath, Private half-bath, sin registro\n",
        "concatenadoeua[\"bathrooms_text\"] = concatenadoeua[\"bathrooms_text\"].str.replace('Half-bath', '0.5').str.replace('Shared half-bath', '0.5').str.replace('Private half-bath', '0.5').str.replace('sin registro', '0')\n",
        "\n",
        "#se extraen los numeros y se guardan como string en la misma columna\n",
        "concatenadoeua[\"bathrooms_text\"] = concatenadoeua[\"bathrooms_text\"].str.extract('(\\d+\\.?\\d*)', expand=False)\n",
        "\n",
        "#cambiar columna a float\n",
        "concatenadoeua[\"bathrooms_text\"] = concatenadoeua[\"bathrooms_text\"].astype(float)"
      ],
      "metadata": {
        "id": "5hM09GAIoY3R"
      },
      "execution_count": 96,
      "outputs": []
    },
    {
      "cell_type": "code",
      "source": [
        "#filtrof\n",
        "#se elimino el \"$\" y \",\"\n",
        "#se cambia la columna \"price\" a float para poder compararla\n",
        "concatenadoeua[\"price\"] = concatenadoeua[\"price\"].str.replace(',', '').str.replace('$', '').astype(float)\n"
      ],
      "metadata": {
        "id": "1kRIPGSEoY3R",
        "colab": {
          "base_uri": "https://localhost:8080/"
        },
        "outputId": "322c1b5a-ff05-4ec8-f441-2f57b7fc93c5"
      },
      "execution_count": 97,
      "outputs": [
        {
          "output_type": "stream",
          "name": "stderr",
          "text": [
            "<ipython-input-97-af53cb0f8d5c>:4: FutureWarning: The default value of regex will change from True to False in a future version. In addition, single character regular expressions will *not* be treated as literal strings when regex=True.\n",
            "  concatenadoeua[\"price\"] = concatenadoeua[\"price\"].str.replace(',', '').str.replace('$', '').astype(float)\n"
          ]
        }
      ]
    },
    {
      "cell_type": "code",
      "source": [
        "filtroa_mex = concatenadoeua[concatenadoeua[\"host_acceptance_rate\"] > 50]\n",
        "filtrob_mex = concatenadoeua[concatenadoeua[\"host_is_superhost\"] == \"t\"]\n",
        "filtroc_mex = concatenadoeua[concatenadoeua[\"host_identity_verified\"] == \"f\"]\n",
        "filtrod_mex = concatenadoeua[concatenadoeua[\"property_type\"].isin([\"Private room\", \"Hotel room\"])]\n",
        "filtroe_mex = concatenadoeua[concatenadoeua[\"bathrooms_text\"] > 1]\n",
        "filtrof_mex = concatenadoeua.loc[(concatenadoeua['price'] > 10000) & (concatenadoeua['room_type'] == 'Entire home/apt')]\n",
        "filtrog_mex = concatenadoeua[concatenadoeua[\"review_scores_cleanliness\"] > 4.5]\n",
        "filtroh_mex = concatenadoeua[concatenadoeua[\"review_scores_value\"] > 4.9]\n",
        "filtroi_mex = concatenadoeua[concatenadoeua[\"availability_365\"] < 100]\n",
        "filtroj_mex = concatenadoeua[concatenadoeua[\"host_response_time\"] == \"within an hour\"]"
      ],
      "metadata": {
        "id": "iYwq4hYsoY3R"
      },
      "execution_count": 98,
      "outputs": []
    },
    {
      "cell_type": "markdown",
      "source": [
        "### Guardar a CSV"
      ],
      "metadata": {
        "id": "kdOfYqLcoY3R"
      }
    },
    {
      "cell_type": "code",
      "source": [
        "#Convertir archivo filtrado a CSV\n",
        "#filtroa.to_csv(\"filtroa_mex.csv\")\n",
        "#filtrob.to_csv(\"filtrob_mex.csv\")\n",
        "#filtroc.to_csv(\"filtroc_mex.csv\")\n",
        "#filtrod.to_csv(\"filtrod_mex.csv\")\n",
        "#filtroe.to_csv(\"filtroe_mex.csv\")\n",
        "#filtrof.to_csv(\"filtrof_mex.csv\")\n",
        "#filtrog.to_csv(\"filtrog_mex.csv\")\n",
        "#filtroh.to_csv(\"filtroh_mex.csv\")\n",
        "#filtroi.to_csv(\"filtroi_mex.csv\")\n",
        "#filtroj.to_csv(\"filtroj_mex.csv\")"
      ],
      "metadata": {
        "id": "tJFp0oU7oY3R"
      },
      "execution_count": 99,
      "outputs": []
    },
    {
      "cell_type": "code",
      "source": [
        "#descargar archivo filtrado en csv\n",
        "from google.colab import files  \n",
        "#files.download(\"filtroa_mex.csv\")\n",
        "#files.download(\"filtrob_mex.csv\")\n",
        "#files.download(\"filtroc_mex.csv\")\n",
        "#files.download(\"filtrod_mex.csv\")\n",
        "#files.download(\"filtroe_mex.csv\")\n",
        "#files.download(\"filtrof_mex.csv\")\n",
        "#files.download(\"filtrog_mex.csv\")\n",
        "#files.download(\"filtroh_mex.csv\")\n",
        "#files.download(\"filtroi_mex.csv\")\n",
        "#files.download(\"filtroj_mex.csv\")"
      ],
      "metadata": {
        "id": "7iU0u6C5oY3S"
      },
      "execution_count": 100,
      "outputs": []
    },
    {
      "cell_type": "markdown",
      "source": [
        "# ***Insights filtros***"
      ],
      "metadata": {
        "id": "Hul3k9R8OcVS"
      }
    },
    {
      "cell_type": "code",
      "source": [
        "#print(filtroj_eua.info(),filtroj_esp.info(),filtroj_mex.info())"
      ],
      "metadata": {
        "id": "FlPfmrcOOh0O"
      },
      "execution_count": null,
      "outputs": []
    },
    {
      "cell_type": "markdown",
      "source": [
        "Conclusión filtros\n",
        "\n",
        "Para el filtro a primero que nada debieron cambiarse los valores en registro por un valor numérico, en este caso se cambiaron por el 5% ya que este valor no está en los registros por lo que de esta manera pueden ser identificados y posteriormente se eliminó el porcentaje presente en los registros. Después de eso se utilizó la función para filtrar las instancias cuyo valor es mayor a 50. En el data set de EUA sostuvieron 5679 instancias, en el de España 17,285 millones de Mexico 20,840. La diferencia de drástica de cantidades se deben parte del tamaño de las bases de datos, México siendo la más grande seguida por España y Estados Unidos.\n",
        "\n",
        "El filtro b obtiene las instancias cuyo valor es correcto en la columna host_is_superhost en EUA se obtuvieron 2869 registros, en España 3056 registros y en México 8793 registros. \n",
        "\n",
        "El filtro c obtiene los valores falsos para la columna host_identity_verified, archivo de Estados Unidos 830 registros, en el de España 2261 registros y en el de Mexico 1923 registros.\n",
        "\n",
        "El filtro d como a las instancias con valor de cuarto privado y de Cuarto de Hotel en la columna property_type. Es la tasa de Estados Unidos obtuvo cuatro registros, el de España siete y el de Mexico 43. \n",
        "\n",
        "Para el filtro e primero se tuvieron que cambiar los valores en texto a un número ya que estos no contenían ningún número por ejemplo medio baño. Después de televisión código para extraer los números de la columna y por último se cambió la columna a float. Esto para poder utilizar la función de filtrado para valores que son mayores a uno. En Estados Unidos sostuvieron 1844 registros, en España 9130 y en México 8904.\n",
        "\n",
        "Para el filtro F  se eliminaron los signos de pesos y las comas de la columna y después se cambió a tipo float para después filtrar a valores mayores de 10,000 y que el tipo de cuarto sea igual a la casa completa. En Estados Unidos obtuvieron dos registros, en España 10 y en México 173.\n",
        "\n",
        "El filtro G toma los valores mío es 4.5 en la columna review_scores_cleanliness en Estados Unidos sostuvieron 6127 registros, en España 14,690 y en México 21,445.\n",
        "\n",
        "El filtro H similarmente al anterior, toma los valores mayores a 4.9 pero para la columna review_scores_value. En Estados Unidos obtuvieron 1376 registros, en España 2596 y en México 6484.\n",
        "\n",
        "El filtro I toma los valores menores a 100 en la columna availability_365. En Estados Unidos se obtuvieron 2680 registros, en España 4981 y en México 5130.\n",
        "\n",
        "El filtro J toma los valores de la columna host_response_time qué son iguales a menos de una hora. En Estados Unidos obtuvieron 4221 registros, en España 12,261 y por último en México 16,997.\n",
        "\n",
        "Cabe mencionar que la discrepancia entre los tres archivos se puede ver en parte a la cantidad de registros en cada uno, será interesante comparar dichos datos con un porcentaje del total de los registros para cada una de las bases de datos en la siguiente etapa del entregable."
      ],
      "metadata": {
        "id": "fV-si2cBOhCN"
      }
    }
  ]
}