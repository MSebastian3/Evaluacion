{
  "nbformat": 4,
  "nbformat_minor": 0,
  "metadata": {
    "colab": {
      "provenance": [],
      "collapsed_sections": [
        "0PLdUNlJoQd6",
        "D0rKjpBpzWYL",
        "xUg_to-R3nLW",
        "pUFVEG7Y3wNf",
        "lxv99Mr681cj",
        "BlFMECcP48Ro",
        "E6OxUA9lB0ty",
        "cKZPfZ67oYlM"
      ],
      "authorship_tag": "ABX9TyMj/ro80HJaxBoDuBrF5Gpu",
      "include_colab_link": true
    },
    "kernelspec": {
      "name": "python3",
      "display_name": "Python 3"
    },
    "language_info": {
      "name": "python"
    }
  },
  "cells": [
    {
      "cell_type": "markdown",
      "metadata": {
        "id": "view-in-github",
        "colab_type": "text"
      },
      "source": [
        "<a href=\"https://colab.research.google.com/github/MSebastian3/Evaluacion/blob/main/Actividad_5_(Evaluaci%C3%B3n).ipynb\" target=\"_parent\"><img src=\"https://colab.research.google.com/assets/colab-badge.svg\" alt=\"Open In Colab\"/></a>"
      ]
    },
    {
      "cell_type": "code",
      "source": [
        "#Instalamos librería para análisis de variables categóricas\n",
        "#%pip install funpymodeling"
      ],
      "metadata": {
        "id": "HkIMgdamBC-W"
      },
      "execution_count": 977,
      "outputs": []
    },
    {
      "cell_type": "code",
      "execution_count": 978,
      "metadata": {
        "id": "FeIvJn6xxZWL"
      },
      "outputs": [],
      "source": [
        "#Importamos librerías requeridas\n",
        "import pandas as pd\n",
        "import numpy as np\n",
        "import matplotlib.pyplot as plt\n",
        "import seaborn as sns\n",
        "\n",
        "#from funpymodeling.exploratory import freq_tbl "
      ]
    },
    {
      "cell_type": "code",
      "source": [
        "#Cargar archivo csv desde equipo\n",
        "#from google.colab import files\n",
        "#files.upload()"
      ],
      "metadata": {
        "id": "DtgI_e7_xq82"
      },
      "execution_count": 979,
      "outputs": []
    },
    {
      "cell_type": "markdown",
      "source": [
        "# ***California_EUA.csv***"
      ],
      "metadata": {
        "id": "0PLdUNlJoQd6"
      }
    },
    {
      "cell_type": "markdown",
      "source": [
        "## **ETAPA 1**"
      ],
      "metadata": {
        "id": "D0rKjpBpzWYL"
      }
    },
    {
      "cell_type": "code",
      "source": [
        "dfeua = pd.read_csv('California_EUA.csv', encoding = 'unicode_escape')\n",
        "dfeua.info()"
      ],
      "metadata": {
        "colab": {
          "base_uri": "https://localhost:8080/"
        },
        "id": "SBMQBZ03x2IQ",
        "outputId": "d63af687-8951-4460-8110-8e1d7d46587f"
      },
      "execution_count": 980,
      "outputs": [
        {
          "output_type": "stream",
          "name": "stdout",
          "text": [
            "<class 'pandas.core.frame.DataFrame'>\n",
            "RangeIndex: 6936 entries, 0 to 6935\n",
            "Data columns (total 75 columns):\n",
            " #   Column                                        Non-Null Count  Dtype  \n",
            "---  ------                                        --------------  -----  \n",
            " 0   ï»¿id                                         6936 non-null   float64\n",
            " 1   listing_url                                   6936 non-null   object \n",
            " 2   scrape_id                                     6936 non-null   float64\n",
            " 3   last_scraped                                  6936 non-null   object \n",
            " 4   source                                        6936 non-null   object \n",
            " 5   name                                          6936 non-null   object \n",
            " 6   description                                   6889 non-null   object \n",
            " 7   neighborhood_overview                         4850 non-null   object \n",
            " 8   picture_url                                   6936 non-null   object \n",
            " 9   host_id                                       6936 non-null   int64  \n",
            " 10  host_url                                      6936 non-null   object \n",
            " 11  host_name                                     6936 non-null   object \n",
            " 12  host_since                                    6936 non-null   object \n",
            " 13  host_location                                 5715 non-null   object \n",
            " 14  host_about                                    4684 non-null   object \n",
            " 15  host_response_time                            5917 non-null   object \n",
            " 16  host_response_rate                            5917 non-null   object \n",
            " 17  host_acceptance_rate                          6135 non-null   object \n",
            " 18  host_is_superhost                             6927 non-null   object \n",
            " 19  host_thumbnail_url                            6936 non-null   object \n",
            " 20  host_picture_url                              6936 non-null   object \n",
            " 21  host_neighbourhood                            6635 non-null   object \n",
            " 22  host_listings_count                           6936 non-null   int64  \n",
            " 23  host_total_listings_count                     6936 non-null   int64  \n",
            " 24  host_verifications                            6936 non-null   object \n",
            " 25  host_has_profile_pic                          6936 non-null   object \n",
            " 26  host_identity_verified                        6936 non-null   object \n",
            " 27  neighbourhood                                 4850 non-null   object \n",
            " 28  neighbourhood_cleansed                        6936 non-null   object \n",
            " 29  neighbourhood_group_cleansed                  0 non-null      float64\n",
            " 30  latitude                                      6936 non-null   float64\n",
            " 31  longitude                                     6936 non-null   float64\n",
            " 32  property_type                                 6936 non-null   object \n",
            " 33  room_type                                     6936 non-null   object \n",
            " 34  accommodates                                  6936 non-null   int64  \n",
            " 35  bathrooms                                     0 non-null      float64\n",
            " 36  bathrooms_text                                6922 non-null   object \n",
            " 37  bedrooms                                      5991 non-null   float64\n",
            " 38  beds                                          6816 non-null   float64\n",
            " 39  amenities                                     6936 non-null   object \n",
            " 40  price                                         6936 non-null   object \n",
            " 41  minimum_nights                                6936 non-null   int64  \n",
            " 42  maximum_nights                                6936 non-null   int64  \n",
            " 43  minimum_minimum_nights                        6934 non-null   float64\n",
            " 44  maximum_minimum_nights                        6934 non-null   float64\n",
            " 45  minimum_maximum_nights                        6934 non-null   float64\n",
            " 46  maximum_maximum_nights                        6934 non-null   float64\n",
            " 47  minimum_nights_avg_ntm                        6934 non-null   float64\n",
            " 48  maximum_nights_avg_ntm                        6934 non-null   float64\n",
            " 49  calendar_updated                              0 non-null      float64\n",
            " 50  has_availability                              6936 non-null   object \n",
            " 51  availability_30                               6936 non-null   int64  \n",
            " 52  availability_60                               6936 non-null   int64  \n",
            " 53  availability_90                               6936 non-null   int64  \n",
            " 54  availability_365                              6936 non-null   int64  \n",
            " 55  calendar_last_scraped                         6936 non-null   object \n",
            " 56  number_of_reviews                             6936 non-null   int64  \n",
            " 57  number_of_reviews_ltm                         6936 non-null   int64  \n",
            " 58  number_of_reviews_l30d                        6936 non-null   int64  \n",
            " 59  first_review                                  5611 non-null   object \n",
            " 60  last_review                                   5611 non-null   object \n",
            " 61  review_scores_rating                          5611 non-null   float64\n",
            " 62  review_scores_accuracy                        5590 non-null   float64\n",
            " 63  review_scores_cleanliness                     5590 non-null   float64\n",
            " 64  review_scores_checkin                         5589 non-null   float64\n",
            " 65  review_scores_communication                   5590 non-null   float64\n",
            " 66  review_scores_location                        5589 non-null   float64\n",
            " 67  review_scores_value                           5589 non-null   float64\n",
            " 68  license                                       4178 non-null   object \n",
            " 69  instant_bookable                              6936 non-null   object \n",
            " 70  calculated_host_listings_count                6936 non-null   int64  \n",
            " 71  calculated_host_listings_count_entire_homes   6936 non-null   int64  \n",
            " 72  calculated_host_listings_count_private_rooms  6936 non-null   int64  \n",
            " 73  calculated_host_listings_count_shared_rooms   6936 non-null   int64  \n",
            " 74  reviews_per_month                             5611 non-null   float64\n",
            "dtypes: float64(23), int64(17), object(35)\n",
            "memory usage: 4.0+ MB\n"
          ]
        }
      ]
    },
    {
      "cell_type": "code",
      "source": [
        "#Checar si hay valores nulos por columna\n",
        "pd.set_option('display.max_rows', None)\n",
        "valores_nulos=dfeua.isnull().sum().sum()\n",
        "valores_nulos"
      ],
      "metadata": {
        "colab": {
          "base_uri": "https://localhost:8080/"
        },
        "id": "R_py5EZ-zogB",
        "outputId": "dd15ac2f-e25b-4dcf-e2a0-8a8f7b9bc3d7"
      },
      "execution_count": 981,
      "outputs": [
        {
          "output_type": "execute_result",
          "data": {
            "text/plain": [
              "48877"
            ]
          },
          "metadata": {},
          "execution_count": 981
        }
      ]
    },
    {
      "cell_type": "markdown",
      "source": [
        "### Filtros"
      ],
      "metadata": {
        "id": "xUg_to-R3nLW"
      }
    },
    {
      "cell_type": "code",
      "source": [
        "#Crear filtro numerico y no numerico\n",
        "filtroeuanumerico = dfeua.select_dtypes(include=['float64', 'int64'])\n",
        "#filtroeuanumerico.info()"
      ],
      "metadata": {
        "id": "fFI1DE3z3Yjz"
      },
      "execution_count": 982,
      "outputs": []
    },
    {
      "cell_type": "code",
      "source": [
        "filtroeua = dfeua.select_dtypes('object')\n",
        "#filtroeuanonumerico.info()"
      ],
      "metadata": {
        "id": "D49ff-2m20KR"
      },
      "execution_count": 983,
      "outputs": []
    },
    {
      "cell_type": "markdown",
      "source": [
        "### Nulos"
      ],
      "metadata": {
        "id": "pUFVEG7Y3wNf"
      }
    },
    {
      "cell_type": "code",
      "source": [
        "#sustituir los nulos por el promedio de la columna\n",
        "data1 = filtroeuanumerico.copy()\n",
        "filtroeuanumerico = data1.fillna(data1.mean())\n",
        "\n",
        "\n",
        "#sustituir los nulos por 'sin registro'\n",
        "filtroeua = filtroeua.fillna('sin registro')\n"
      ],
      "metadata": {
        "id": "HX1tbZq9z43-"
      },
      "execution_count": 984,
      "outputs": []
    },
    {
      "cell_type": "code",
      "source": [
        "#Checar si hay valores nulos por columna    NUMERICO\n",
        "pd.set_option('display.max_rows', None)\n",
        "valores_nulos=filtroeuanumerico.isnull().sum().sum()\n",
        "valores_nulos"
      ],
      "metadata": {
        "colab": {
          "base_uri": "https://localhost:8080/"
        },
        "id": "A9jJMu8G456u",
        "outputId": "f87f5988-064a-49b4-f217-6d7490333ce1"
      },
      "execution_count": 985,
      "outputs": [
        {
          "output_type": "execute_result",
          "data": {
            "text/plain": [
              "20808"
            ]
          },
          "metadata": {},
          "execution_count": 985
        }
      ]
    },
    {
      "cell_type": "code",
      "source": [
        "#Checar si hay valores nulos por columna    NO NUMERICO\n",
        "pd.set_option('display.max_rows', None)\n",
        "valores_nulos=filtroeua.isnull().sum().sum()\n",
        "valores_nulos"
      ],
      "metadata": {
        "colab": {
          "base_uri": "https://localhost:8080/"
        },
        "id": "8TEp7KUd9utT",
        "outputId": "5ae4a0d3-f277-4d79-e708-4fd1d897f732"
      },
      "execution_count": 986,
      "outputs": [
        {
          "output_type": "execute_result",
          "data": {
            "text/plain": [
              "0"
            ]
          },
          "metadata": {},
          "execution_count": 986
        }
      ]
    },
    {
      "cell_type": "code",
      "source": [
        "#NUMERICO\n",
        "#Se eliminaron las columnas 'neighbourhood_group_cleansed', 'bathrooms', 'calendar_updated'\n",
        "#ya que son numericas pero no tienen ningun registro\n",
        "filtroeuanumerico = filtroeuanumerico.drop(['neighbourhood_group_cleansed', 'bathrooms', 'calendar_updated'], axis=1)\n",
        "\n",
        "#Checar si hay valores nulos por columna\n",
        "pd.set_option('display.max_rows', None)\n",
        "valores_nulos=filtroeuanumerico.isnull().sum().sum()\n",
        "valores_nulos"
      ],
      "metadata": {
        "colab": {
          "base_uri": "https://localhost:8080/"
        },
        "id": "1qpY8_y18SQP",
        "outputId": "bff4367a-1cda-4e90-e534-b71b310e7f17"
      },
      "execution_count": 987,
      "outputs": [
        {
          "output_type": "execute_result",
          "data": {
            "text/plain": [
              "0"
            ]
          },
          "metadata": {},
          "execution_count": 987
        }
      ]
    },
    {
      "cell_type": "markdown",
      "source": [
        "### Outliers **MÉTODO DE IQR (RANGO INTER QUARTILICO)**"
      ],
      "metadata": {
        "id": "lxv99Mr681cj"
      }
    },
    {
      "cell_type": "code",
      "source": [
        "#Método aplicando Cuartiles. Encuentro cuartiles 0.25 y 0.75\n",
        "y=filtroeuanumerico\n",
        "\n",
        "percentile25=y.quantile(0.25) #Q1\n",
        "percentile75=y.quantile(0.75) #Q3\n",
        "iqr= percentile75 - percentile25\n",
        "\n",
        "Limite_Superior_iqr= percentile75 + 1.5*iqr\n",
        "Limite_Inferior_iqr= percentile25 - 1.5*iqr\n",
        "#print(\"Limite superior permitido\", Limite_Superior_iqr)\n",
        "#print(\"Limite inferior permitido\", Limite_Inferior_iqr)"
      ],
      "metadata": {
        "id": "h5qtQqiPE4am"
      },
      "execution_count": 988,
      "outputs": []
    },
    {
      "cell_type": "code",
      "source": [
        "#Encontramos Ouliers\n",
        "outliers_iqr= filtroeuanumerico[(y>Limite_Superior_iqr)|(y<Limite_Inferior_iqr)]\n",
        "#outliers_iqr.head()"
      ],
      "metadata": {
        "id": "rdXBRO36E-2R"
      },
      "execution_count": 989,
      "outputs": []
    },
    {
      "cell_type": "code",
      "source": [
        "#Obtenemos datos limpios\n",
        "data_clean_iqr1= filtroeuanumerico[(y<=Limite_Superior_iqr)&(y>=Limite_Inferior_iqr)]\n",
        "#data_clean_iqr1.head()"
      ],
      "metadata": {
        "id": "LDfCVealFE8j"
      },
      "execution_count": 990,
      "outputs": []
    },
    {
      "cell_type": "code",
      "source": [
        "#Checar si hay valores nulos por columna    NUMERICO\n",
        "pd.set_option('display.max_rows', None)\n",
        "valores_nulos=data_clean_iqr1.isnull().sum().sum()\n",
        "valores_nulos"
      ],
      "metadata": {
        "colab": {
          "base_uri": "https://localhost:8080/"
        },
        "id": "UoDIl_VG_6HZ",
        "outputId": "7822a8f8-37c1-428e-ab3c-ddc9babbf851"
      },
      "execution_count": 991,
      "outputs": [
        {
          "output_type": "execute_result",
          "data": {
            "text/plain": [
              "17526"
            ]
          },
          "metadata": {},
          "execution_count": 991
        }
      ]
    },
    {
      "cell_type": "code",
      "source": [
        "#Reemplazamos valores atípicos (nulos) del dataframe con \"mean\"\n",
        "#Realizamos una copia del dataframe\n",
        "data5_iqr=filtroeuanumerico.copy()\n",
        "data5_iqr=data5_iqr.fillna(round(filtroeuanumerico.mean(),1))\n",
        "#data5_iqr"
      ],
      "metadata": {
        "id": "N-eUWiyFNfZG"
      },
      "execution_count": 992,
      "outputs": []
    },
    {
      "cell_type": "code",
      "source": [
        "#Checar si hay valores nulos por columna    NUMERICO\n",
        "pd.set_option('display.max_rows', None)\n",
        "valores_nulos=data5_iqr.isnull().sum().sum()\n",
        "valores_nulos"
      ],
      "metadata": {
        "colab": {
          "base_uri": "https://localhost:8080/"
        },
        "id": "el3MYIyIOHxp",
        "outputId": "9cb16b46-cff7-4f7b-b618-e6b7e670f949"
      },
      "execution_count": 993,
      "outputs": [
        {
          "output_type": "execute_result",
          "data": {
            "text/plain": [
              "0"
            ]
          },
          "metadata": {},
          "execution_count": 993
        }
      ]
    },
    {
      "cell_type": "markdown",
      "source": [
        "### Concatenar"
      ],
      "metadata": {
        "id": "BlFMECcP48Ro"
      }
    },
    {
      "cell_type": "code",
      "source": [
        "concatenadoeua = pd.concat([data5_iqr, filtroeua], axis=1)\n",
        "concatenadoeua.head()"
      ],
      "metadata": {
        "colab": {
          "base_uri": "https://localhost:8080/",
          "height": 0
        },
        "id": "ltCK60Xg5SoF",
        "outputId": "df78ce55-a725-4fd8-dc56-346736aa34f8"
      },
      "execution_count": 994,
      "outputs": [
        {
          "output_type": "execute_result",
          "data": {
            "text/plain": [
              "    ï»¿id     scrape_id  host_id  host_listings_count  \\\n",
              "0   958.0  2.020000e+13     1169                    1   \n",
              "1  5858.0  2.020000e+13     8904                    2   \n",
              "2  8142.0  2.020000e+13    21994                   13   \n",
              "3  8339.0  2.020000e+13    24215                    2   \n",
              "4  8739.0  2.020000e+13     7149                    2   \n",
              "\n",
              "   host_total_listings_count  latitude  longitude  accommodates  bedrooms  \\\n",
              "0                          1  37.77028 -122.43317             3       1.0   \n",
              "1                          2  37.74474 -122.42089             4       2.0   \n",
              "2                         14  37.76555 -122.45213             1       1.0   \n",
              "3                          6  37.77564 -122.43642             4       2.0   \n",
              "4                          2  37.76030 -122.42197             3       1.0   \n",
              "\n",
              "   beds  ...        room_type  bathrooms_text  \\\n",
              "0   2.0  ...  Entire home/apt          1 bath   \n",
              "1   2.0  ...  Entire home/apt          1 bath   \n",
              "2   1.0  ...     Private room  4 shared baths   \n",
              "3   2.0  ...  Entire home/apt       1.5 baths   \n",
              "4   1.0  ...     Private room  1 private bath   \n",
              "\n",
              "                                           amenities    price  \\\n",
              "0  [\"Oven\", \"Self check-in\", \"Cooking basics\", \"L...  $202.00   \n",
              "1  [\"Essentials\", \"Carbon monoxide alarm\", \"Hange...  $235.00   \n",
              "2  [\"Security cameras on property\", \"Host greets ...   $56.00   \n",
              "3  [\"Oven\", \"Cooking basics\", \"TV\", \"Smoke alarm\"...  $575.00   \n",
              "4  [\"Paid parking garage off premises\", \"Luggage ...  $110.00   \n",
              "\n",
              "   has_availability  calendar_last_scraped  first_review  last_review  \\\n",
              "0                 t             06/03/2023    23/07/2009   19/02/2023   \n",
              "1                 t             06/03/2023    03/05/2009   06/08/2017   \n",
              "2                 t             06/03/2023    08/09/2014   27/10/2022   \n",
              "3                 t             06/03/2023    25/09/2009   28/06/2019   \n",
              "4                 t             06/03/2023    01/08/2009   25/02/2023   \n",
              "\n",
              "                     license  instant_bookable  \n",
              "0  City Registration Pending                 f  \n",
              "1               sin registro                 f  \n",
              "2               sin registro                 f  \n",
              "3                STR-0000264                 f  \n",
              "4                STR-0000028                 f  \n",
              "\n",
              "[5 rows x 72 columns]"
            ],
            "text/html": [
              "\n",
              "  <div id=\"df-ff3166a3-08a1-400b-9a52-296296d92eae\">\n",
              "    <div class=\"colab-df-container\">\n",
              "      <div>\n",
              "<style scoped>\n",
              "    .dataframe tbody tr th:only-of-type {\n",
              "        vertical-align: middle;\n",
              "    }\n",
              "\n",
              "    .dataframe tbody tr th {\n",
              "        vertical-align: top;\n",
              "    }\n",
              "\n",
              "    .dataframe thead th {\n",
              "        text-align: right;\n",
              "    }\n",
              "</style>\n",
              "<table border=\"1\" class=\"dataframe\">\n",
              "  <thead>\n",
              "    <tr style=\"text-align: right;\">\n",
              "      <th></th>\n",
              "      <th>ï»¿id</th>\n",
              "      <th>scrape_id</th>\n",
              "      <th>host_id</th>\n",
              "      <th>host_listings_count</th>\n",
              "      <th>host_total_listings_count</th>\n",
              "      <th>latitude</th>\n",
              "      <th>longitude</th>\n",
              "      <th>accommodates</th>\n",
              "      <th>bedrooms</th>\n",
              "      <th>beds</th>\n",
              "      <th>...</th>\n",
              "      <th>room_type</th>\n",
              "      <th>bathrooms_text</th>\n",
              "      <th>amenities</th>\n",
              "      <th>price</th>\n",
              "      <th>has_availability</th>\n",
              "      <th>calendar_last_scraped</th>\n",
              "      <th>first_review</th>\n",
              "      <th>last_review</th>\n",
              "      <th>license</th>\n",
              "      <th>instant_bookable</th>\n",
              "    </tr>\n",
              "  </thead>\n",
              "  <tbody>\n",
              "    <tr>\n",
              "      <th>0</th>\n",
              "      <td>958.0</td>\n",
              "      <td>2.020000e+13</td>\n",
              "      <td>1169</td>\n",
              "      <td>1</td>\n",
              "      <td>1</td>\n",
              "      <td>37.77028</td>\n",
              "      <td>-122.43317</td>\n",
              "      <td>3</td>\n",
              "      <td>1.0</td>\n",
              "      <td>2.0</td>\n",
              "      <td>...</td>\n",
              "      <td>Entire home/apt</td>\n",
              "      <td>1 bath</td>\n",
              "      <td>[\"Oven\", \"Self check-in\", \"Cooking basics\", \"L...</td>\n",
              "      <td>$202.00</td>\n",
              "      <td>t</td>\n",
              "      <td>06/03/2023</td>\n",
              "      <td>23/07/2009</td>\n",
              "      <td>19/02/2023</td>\n",
              "      <td>City Registration Pending</td>\n",
              "      <td>f</td>\n",
              "    </tr>\n",
              "    <tr>\n",
              "      <th>1</th>\n",
              "      <td>5858.0</td>\n",
              "      <td>2.020000e+13</td>\n",
              "      <td>8904</td>\n",
              "      <td>2</td>\n",
              "      <td>2</td>\n",
              "      <td>37.74474</td>\n",
              "      <td>-122.42089</td>\n",
              "      <td>4</td>\n",
              "      <td>2.0</td>\n",
              "      <td>2.0</td>\n",
              "      <td>...</td>\n",
              "      <td>Entire home/apt</td>\n",
              "      <td>1 bath</td>\n",
              "      <td>[\"Essentials\", \"Carbon monoxide alarm\", \"Hange...</td>\n",
              "      <td>$235.00</td>\n",
              "      <td>t</td>\n",
              "      <td>06/03/2023</td>\n",
              "      <td>03/05/2009</td>\n",
              "      <td>06/08/2017</td>\n",
              "      <td>sin registro</td>\n",
              "      <td>f</td>\n",
              "    </tr>\n",
              "    <tr>\n",
              "      <th>2</th>\n",
              "      <td>8142.0</td>\n",
              "      <td>2.020000e+13</td>\n",
              "      <td>21994</td>\n",
              "      <td>13</td>\n",
              "      <td>14</td>\n",
              "      <td>37.76555</td>\n",
              "      <td>-122.45213</td>\n",
              "      <td>1</td>\n",
              "      <td>1.0</td>\n",
              "      <td>1.0</td>\n",
              "      <td>...</td>\n",
              "      <td>Private room</td>\n",
              "      <td>4 shared baths</td>\n",
              "      <td>[\"Security cameras on property\", \"Host greets ...</td>\n",
              "      <td>$56.00</td>\n",
              "      <td>t</td>\n",
              "      <td>06/03/2023</td>\n",
              "      <td>08/09/2014</td>\n",
              "      <td>27/10/2022</td>\n",
              "      <td>sin registro</td>\n",
              "      <td>f</td>\n",
              "    </tr>\n",
              "    <tr>\n",
              "      <th>3</th>\n",
              "      <td>8339.0</td>\n",
              "      <td>2.020000e+13</td>\n",
              "      <td>24215</td>\n",
              "      <td>2</td>\n",
              "      <td>6</td>\n",
              "      <td>37.77564</td>\n",
              "      <td>-122.43642</td>\n",
              "      <td>4</td>\n",
              "      <td>2.0</td>\n",
              "      <td>2.0</td>\n",
              "      <td>...</td>\n",
              "      <td>Entire home/apt</td>\n",
              "      <td>1.5 baths</td>\n",
              "      <td>[\"Oven\", \"Cooking basics\", \"TV\", \"Smoke alarm\"...</td>\n",
              "      <td>$575.00</td>\n",
              "      <td>t</td>\n",
              "      <td>06/03/2023</td>\n",
              "      <td>25/09/2009</td>\n",
              "      <td>28/06/2019</td>\n",
              "      <td>STR-0000264</td>\n",
              "      <td>f</td>\n",
              "    </tr>\n",
              "    <tr>\n",
              "      <th>4</th>\n",
              "      <td>8739.0</td>\n",
              "      <td>2.020000e+13</td>\n",
              "      <td>7149</td>\n",
              "      <td>2</td>\n",
              "      <td>2</td>\n",
              "      <td>37.76030</td>\n",
              "      <td>-122.42197</td>\n",
              "      <td>3</td>\n",
              "      <td>1.0</td>\n",
              "      <td>1.0</td>\n",
              "      <td>...</td>\n",
              "      <td>Private room</td>\n",
              "      <td>1 private bath</td>\n",
              "      <td>[\"Paid parking garage off premises\", \"Luggage ...</td>\n",
              "      <td>$110.00</td>\n",
              "      <td>t</td>\n",
              "      <td>06/03/2023</td>\n",
              "      <td>01/08/2009</td>\n",
              "      <td>25/02/2023</td>\n",
              "      <td>STR-0000028</td>\n",
              "      <td>f</td>\n",
              "    </tr>\n",
              "  </tbody>\n",
              "</table>\n",
              "<p>5 rows × 72 columns</p>\n",
              "</div>\n",
              "      <button class=\"colab-df-convert\" onclick=\"convertToInteractive('df-ff3166a3-08a1-400b-9a52-296296d92eae')\"\n",
              "              title=\"Convert this dataframe to an interactive table.\"\n",
              "              style=\"display:none;\">\n",
              "        \n",
              "  <svg xmlns=\"http://www.w3.org/2000/svg\" height=\"24px\"viewBox=\"0 0 24 24\"\n",
              "       width=\"24px\">\n",
              "    <path d=\"M0 0h24v24H0V0z\" fill=\"none\"/>\n",
              "    <path d=\"M18.56 5.44l.94 2.06.94-2.06 2.06-.94-2.06-.94-.94-2.06-.94 2.06-2.06.94zm-11 1L8.5 8.5l.94-2.06 2.06-.94-2.06-.94L8.5 2.5l-.94 2.06-2.06.94zm10 10l.94 2.06.94-2.06 2.06-.94-2.06-.94-.94-2.06-.94 2.06-2.06.94z\"/><path d=\"M17.41 7.96l-1.37-1.37c-.4-.4-.92-.59-1.43-.59-.52 0-1.04.2-1.43.59L10.3 9.45l-7.72 7.72c-.78.78-.78 2.05 0 2.83L4 21.41c.39.39.9.59 1.41.59.51 0 1.02-.2 1.41-.59l7.78-7.78 2.81-2.81c.8-.78.8-2.07 0-2.86zM5.41 20L4 18.59l7.72-7.72 1.47 1.35L5.41 20z\"/>\n",
              "  </svg>\n",
              "      </button>\n",
              "      \n",
              "  <style>\n",
              "    .colab-df-container {\n",
              "      display:flex;\n",
              "      flex-wrap:wrap;\n",
              "      gap: 12px;\n",
              "    }\n",
              "\n",
              "    .colab-df-convert {\n",
              "      background-color: #E8F0FE;\n",
              "      border: none;\n",
              "      border-radius: 50%;\n",
              "      cursor: pointer;\n",
              "      display: none;\n",
              "      fill: #1967D2;\n",
              "      height: 32px;\n",
              "      padding: 0 0 0 0;\n",
              "      width: 32px;\n",
              "    }\n",
              "\n",
              "    .colab-df-convert:hover {\n",
              "      background-color: #E2EBFA;\n",
              "      box-shadow: 0px 1px 2px rgba(60, 64, 67, 0.3), 0px 1px 3px 1px rgba(60, 64, 67, 0.15);\n",
              "      fill: #174EA6;\n",
              "    }\n",
              "\n",
              "    [theme=dark] .colab-df-convert {\n",
              "      background-color: #3B4455;\n",
              "      fill: #D2E3FC;\n",
              "    }\n",
              "\n",
              "    [theme=dark] .colab-df-convert:hover {\n",
              "      background-color: #434B5C;\n",
              "      box-shadow: 0px 1px 3px 1px rgba(0, 0, 0, 0.15);\n",
              "      filter: drop-shadow(0px 1px 2px rgba(0, 0, 0, 0.3));\n",
              "      fill: #FFFFFF;\n",
              "    }\n",
              "  </style>\n",
              "\n",
              "      <script>\n",
              "        const buttonEl =\n",
              "          document.querySelector('#df-ff3166a3-08a1-400b-9a52-296296d92eae button.colab-df-convert');\n",
              "        buttonEl.style.display =\n",
              "          google.colab.kernel.accessAllowed ? 'block' : 'none';\n",
              "\n",
              "        async function convertToInteractive(key) {\n",
              "          const element = document.querySelector('#df-ff3166a3-08a1-400b-9a52-296296d92eae');\n",
              "          const dataTable =\n",
              "            await google.colab.kernel.invokeFunction('convertToInteractive',\n",
              "                                                     [key], {});\n",
              "          if (!dataTable) return;\n",
              "\n",
              "          const docLinkHtml = 'Like what you see? Visit the ' +\n",
              "            '<a target=\"_blank\" href=https://colab.research.google.com/notebooks/data_table.ipynb>data table notebook</a>'\n",
              "            + ' to learn more about interactive tables.';\n",
              "          element.innerHTML = '';\n",
              "          dataTable['output_type'] = 'display_data';\n",
              "          await google.colab.output.renderOutput(dataTable, element);\n",
              "          const docLink = document.createElement('div');\n",
              "          docLink.innerHTML = docLinkHtml;\n",
              "          element.appendChild(docLink);\n",
              "        }\n",
              "      </script>\n",
              "    </div>\n",
              "  </div>\n",
              "  "
            ]
          },
          "metadata": {},
          "execution_count": 994
        }
      ]
    },
    {
      "cell_type": "markdown",
      "source": [
        "### Guardar a CSV"
      ],
      "metadata": {
        "id": "E6OxUA9lB0ty"
      }
    },
    {
      "cell_type": "code",
      "source": [
        "#Convertir archivo filtrado a CSV\n",
        "concatenadoeua.to_csv(\"EUA_limpio.csv\")"
      ],
      "metadata": {
        "id": "yk-JJgeXBzgk"
      },
      "execution_count": 995,
      "outputs": []
    },
    {
      "cell_type": "code",
      "source": [
        "#descargar archivo filtrado en csv\n",
        "from google.colab import files  \n",
        "files.download(\"EUA_limpio.csv\")"
      ],
      "metadata": {
        "id": "KMd7bz5RB427",
        "colab": {
          "base_uri": "https://localhost:8080/",
          "height": 0
        },
        "outputId": "5212f7e9-e247-4b47-d9e6-f8de70f4d16b"
      },
      "execution_count": 996,
      "outputs": [
        {
          "output_type": "display_data",
          "data": {
            "text/plain": [
              "<IPython.core.display.Javascript object>"
            ],
            "application/javascript": [
              "\n",
              "    async function download(id, filename, size) {\n",
              "      if (!google.colab.kernel.accessAllowed) {\n",
              "        return;\n",
              "      }\n",
              "      const div = document.createElement('div');\n",
              "      const label = document.createElement('label');\n",
              "      label.textContent = `Downloading \"${filename}\": `;\n",
              "      div.appendChild(label);\n",
              "      const progress = document.createElement('progress');\n",
              "      progress.max = size;\n",
              "      div.appendChild(progress);\n",
              "      document.body.appendChild(div);\n",
              "\n",
              "      const buffers = [];\n",
              "      let downloaded = 0;\n",
              "\n",
              "      const channel = await google.colab.kernel.comms.open(id);\n",
              "      // Send a message to notify the kernel that we're ready.\n",
              "      channel.send({})\n",
              "\n",
              "      for await (const message of channel.messages) {\n",
              "        // Send a message to notify the kernel that we're ready.\n",
              "        channel.send({})\n",
              "        if (message.buffers) {\n",
              "          for (const buffer of message.buffers) {\n",
              "            buffers.push(buffer);\n",
              "            downloaded += buffer.byteLength;\n",
              "            progress.value = downloaded;\n",
              "          }\n",
              "        }\n",
              "      }\n",
              "      const blob = new Blob(buffers, {type: 'application/binary'});\n",
              "      const a = document.createElement('a');\n",
              "      a.href = window.URL.createObjectURL(blob);\n",
              "      a.download = filename;\n",
              "      div.appendChild(a);\n",
              "      a.click();\n",
              "      div.remove();\n",
              "    }\n",
              "  "
            ]
          },
          "metadata": {}
        },
        {
          "output_type": "display_data",
          "data": {
            "text/plain": [
              "<IPython.core.display.Javascript object>"
            ],
            "application/javascript": [
              "download(\"download_d141cdb8-ce8f-4b94-bbe2-e9d0bdcef50f\", \"EUA_limpio.csv\", 20517268)"
            ]
          },
          "metadata": {}
        }
      ]
    },
    {
      "cell_type": "markdown",
      "source": [
        "## **ETAPA 2**"
      ],
      "metadata": {
        "id": "4c1eA8moClUb"
      }
    },
    {
      "cell_type": "code",
      "source": [
        "#filtroa\n",
        "#se cambiaron los valores \"sin registro\" por \"5%\" para poder identificarlos\n",
        "concatenadoeua[\"host_acceptance_rate\"] = concatenadoeua[\"host_acceptance_rate\"].replace(\"sin registro\", \"5%\")\n",
        "#se elimino el \"%\"\n",
        "concatenadoeua['host_acceptance_rate'] = pd.to_numeric(concatenadoeua['host_acceptance_rate'].str.replace('%', ''))\n",
        "\n"
      ],
      "metadata": {
        "id": "3pBSqEiGTr0V"
      },
      "execution_count": 997,
      "outputs": []
    },
    {
      "cell_type": "code",
      "source": [
        "#filtroe\n",
        "#cambiar Half-bath, Shared half-bath, Private half-bath, sin registro\n",
        "concatenadoeua[\"bathrooms_text\"] = concatenadoeua[\"bathrooms_text\"].str.replace('Half-bath', '0.5').str.replace('Shared half-bath', '0.5').str.replace('Private half-bath', '0.5').str.replace('sin registro', '0')\n",
        "\n",
        "#se extraen los numeros y se guardan como string en la misma columna\n",
        "concatenadoeua[\"bathrooms_text\"] = concatenadoeua[\"bathrooms_text\"].str.extract('(\\d+\\.?\\d*)', expand=False)\n",
        "\n",
        "#cambiar columna a float\n",
        "concatenadoeua[\"bathrooms_text\"] = concatenadoeua[\"bathrooms_text\"].astype(float)"
      ],
      "metadata": {
        "id": "x80nXbzRW6nO"
      },
      "execution_count": 998,
      "outputs": []
    },
    {
      "cell_type": "code",
      "source": [
        "#filtrof\n",
        "#se elimino el \"$\" y \",\"\n",
        "#se cambia la columna \"price\" a float para poder compararla\n",
        "concatenadoeua[\"price\"] = concatenadoeua[\"price\"].str.replace(',', '').str.replace('$', '').astype(float)\n"
      ],
      "metadata": {
        "colab": {
          "base_uri": "https://localhost:8080/"
        },
        "id": "LX3Ut_5xZi-U",
        "outputId": "7d6a1108-d398-43c9-980d-ab7ec0a90f35"
      },
      "execution_count": 999,
      "outputs": [
        {
          "output_type": "stream",
          "name": "stderr",
          "text": [
            "<ipython-input-999-af53cb0f8d5c>:4: FutureWarning: The default value of regex will change from True to False in a future version. In addition, single character regular expressions will *not* be treated as literal strings when regex=True.\n",
            "  concatenadoeua[\"price\"] = concatenadoeua[\"price\"].str.replace(',', '').str.replace('$', '').astype(float)\n"
          ]
        }
      ]
    },
    {
      "cell_type": "code",
      "source": [
        "filtroa = concatenadoeua[concatenadoeua[\"host_acceptance_rate\"] > 50]\n",
        "filtrob = concatenadoeua[concatenadoeua[\"host_is_superhost\"] == \"t\"]\n",
        "filtroc = concatenadoeua[concatenadoeua[\"host_identity_verified\"] == \"f\"]\n",
        "filtrod = concatenadoeua[concatenadoeua[\"property_type\"].isin([\"Private room\", \"Hotel room\"])]\n",
        "filtroe = concatenadoeua[concatenadoeua[\"bathrooms_text\"] > 1]\n",
        "filtrof = concatenadoeua.loc[(concatenadoeua['price'] > 10000) & (concatenadoeua['room_type'] == 'Entire home/apt')]\n",
        "filtrog = concatenadoeua[concatenadoeua[\"review_scores_cleanliness\"] > 4.5]\n",
        "filtroh = concatenadoeua[concatenadoeua[\"review_scores_value\"] > 4.9]\n",
        "filtroi = concatenadoeua[concatenadoeua[\"availability_365\"] < 100]\n",
        "filtroj = concatenadoeua[concatenadoeua[\"host_response_time\"] == \"within an hour\"]"
      ],
      "metadata": {
        "id": "m0EVYERXCmXF"
      },
      "execution_count": 1000,
      "outputs": []
    },
    {
      "cell_type": "markdown",
      "source": [
        "### Guardar a CSV"
      ],
      "metadata": {
        "id": "sP9eSGrkfL8o"
      }
    },
    {
      "cell_type": "code",
      "source": [
        "#Convertir archivo filtrado a CSV\n",
        "filtroa.to_csv(\"filtroa_eua.csv\")\n",
        "filtrob.to_csv(\"filtrob_eua.csv\")\n",
        "filtroc.to_csv(\"filtroc_eua.csv\")\n",
        "filtrod.to_csv(\"filtrod_eua.csv\")\n",
        "filtroe.to_csv(\"filtroe_eua.csv\")\n",
        "filtrof.to_csv(\"filtrof_eua.csv\")\n",
        "filtrog.to_csv(\"filtrog_eua.csv\")\n",
        "filtroh.to_csv(\"filtroh_eua.csv\")\n",
        "filtroi.to_csv(\"filtroi_eua.csv\")\n",
        "filtroj.to_csv(\"filtroj_eua.csv\")"
      ],
      "metadata": {
        "id": "vohN16bNfIQE"
      },
      "execution_count": 1001,
      "outputs": []
    },
    {
      "cell_type": "code",
      "source": [
        "#descargar archivo filtrado en csv\n",
        "from google.colab import files  \n",
        "files.download(\"filtroa_eua.csv\")\n",
        "files.download(\"filtrob_eua.csv\")\n",
        "files.download(\"filtroc_eua.csv\")\n",
        "files.download(\"filtrod_eua.csv\")\n",
        "files.download(\"filtroe_eua.csv\")\n",
        "files.download(\"filtrof_eua.csv\")\n",
        "files.download(\"filtrog_eua.csv\")\n",
        "files.download(\"filtroh_eua.csv\")\n",
        "files.download(\"filtroi_eua.csv\")\n",
        "files.download(\"filtroj_eua.csv\")"
      ],
      "metadata": {
        "id": "DNVUkfo3fvLU",
        "colab": {
          "base_uri": "https://localhost:8080/",
          "height": 0
        },
        "outputId": "3ea4a0b3-3706-4b5c-d222-c912917d11b3"
      },
      "execution_count": 1002,
      "outputs": [
        {
          "output_type": "display_data",
          "data": {
            "text/plain": [
              "<IPython.core.display.Javascript object>"
            ],
            "application/javascript": [
              "\n",
              "    async function download(id, filename, size) {\n",
              "      if (!google.colab.kernel.accessAllowed) {\n",
              "        return;\n",
              "      }\n",
              "      const div = document.createElement('div');\n",
              "      const label = document.createElement('label');\n",
              "      label.textContent = `Downloading \"${filename}\": `;\n",
              "      div.appendChild(label);\n",
              "      const progress = document.createElement('progress');\n",
              "      progress.max = size;\n",
              "      div.appendChild(progress);\n",
              "      document.body.appendChild(div);\n",
              "\n",
              "      const buffers = [];\n",
              "      let downloaded = 0;\n",
              "\n",
              "      const channel = await google.colab.kernel.comms.open(id);\n",
              "      // Send a message to notify the kernel that we're ready.\n",
              "      channel.send({})\n",
              "\n",
              "      for await (const message of channel.messages) {\n",
              "        // Send a message to notify the kernel that we're ready.\n",
              "        channel.send({})\n",
              "        if (message.buffers) {\n",
              "          for (const buffer of message.buffers) {\n",
              "            buffers.push(buffer);\n",
              "            downloaded += buffer.byteLength;\n",
              "            progress.value = downloaded;\n",
              "          }\n",
              "        }\n",
              "      }\n",
              "      const blob = new Blob(buffers, {type: 'application/binary'});\n",
              "      const a = document.createElement('a');\n",
              "      a.href = window.URL.createObjectURL(blob);\n",
              "      a.download = filename;\n",
              "      div.appendChild(a);\n",
              "      a.click();\n",
              "      div.remove();\n",
              "    }\n",
              "  "
            ]
          },
          "metadata": {}
        },
        {
          "output_type": "display_data",
          "data": {
            "text/plain": [
              "<IPython.core.display.Javascript object>"
            ],
            "application/javascript": [
              "download(\"download_9a4d1c16-a158-4581-bc2d-e13136b5a64a\", \"filtroa_eua.csv\", 17105875)"
            ]
          },
          "metadata": {}
        },
        {
          "output_type": "display_data",
          "data": {
            "text/plain": [
              "<IPython.core.display.Javascript object>"
            ],
            "application/javascript": [
              "\n",
              "    async function download(id, filename, size) {\n",
              "      if (!google.colab.kernel.accessAllowed) {\n",
              "        return;\n",
              "      }\n",
              "      const div = document.createElement('div');\n",
              "      const label = document.createElement('label');\n",
              "      label.textContent = `Downloading \"${filename}\": `;\n",
              "      div.appendChild(label);\n",
              "      const progress = document.createElement('progress');\n",
              "      progress.max = size;\n",
              "      div.appendChild(progress);\n",
              "      document.body.appendChild(div);\n",
              "\n",
              "      const buffers = [];\n",
              "      let downloaded = 0;\n",
              "\n",
              "      const channel = await google.colab.kernel.comms.open(id);\n",
              "      // Send a message to notify the kernel that we're ready.\n",
              "      channel.send({})\n",
              "\n",
              "      for await (const message of channel.messages) {\n",
              "        // Send a message to notify the kernel that we're ready.\n",
              "        channel.send({})\n",
              "        if (message.buffers) {\n",
              "          for (const buffer of message.buffers) {\n",
              "            buffers.push(buffer);\n",
              "            downloaded += buffer.byteLength;\n",
              "            progress.value = downloaded;\n",
              "          }\n",
              "        }\n",
              "      }\n",
              "      const blob = new Blob(buffers, {type: 'application/binary'});\n",
              "      const a = document.createElement('a');\n",
              "      a.href = window.URL.createObjectURL(blob);\n",
              "      a.download = filename;\n",
              "      div.appendChild(a);\n",
              "      a.click();\n",
              "      div.remove();\n",
              "    }\n",
              "  "
            ]
          },
          "metadata": {}
        },
        {
          "output_type": "display_data",
          "data": {
            "text/plain": [
              "<IPython.core.display.Javascript object>"
            ],
            "application/javascript": [
              "download(\"download_51182f66-022e-4cc0-b6db-db3e34481eeb\", \"filtrob_eua.csv\", 9076464)"
            ]
          },
          "metadata": {}
        },
        {
          "output_type": "display_data",
          "data": {
            "text/plain": [
              "<IPython.core.display.Javascript object>"
            ],
            "application/javascript": [
              "\n",
              "    async function download(id, filename, size) {\n",
              "      if (!google.colab.kernel.accessAllowed) {\n",
              "        return;\n",
              "      }\n",
              "      const div = document.createElement('div');\n",
              "      const label = document.createElement('label');\n",
              "      label.textContent = `Downloading \"${filename}\": `;\n",
              "      div.appendChild(label);\n",
              "      const progress = document.createElement('progress');\n",
              "      progress.max = size;\n",
              "      div.appendChild(progress);\n",
              "      document.body.appendChild(div);\n",
              "\n",
              "      const buffers = [];\n",
              "      let downloaded = 0;\n",
              "\n",
              "      const channel = await google.colab.kernel.comms.open(id);\n",
              "      // Send a message to notify the kernel that we're ready.\n",
              "      channel.send({})\n",
              "\n",
              "      for await (const message of channel.messages) {\n",
              "        // Send a message to notify the kernel that we're ready.\n",
              "        channel.send({})\n",
              "        if (message.buffers) {\n",
              "          for (const buffer of message.buffers) {\n",
              "            buffers.push(buffer);\n",
              "            downloaded += buffer.byteLength;\n",
              "            progress.value = downloaded;\n",
              "          }\n",
              "        }\n",
              "      }\n",
              "      const blob = new Blob(buffers, {type: 'application/binary'});\n",
              "      const a = document.createElement('a');\n",
              "      a.href = window.URL.createObjectURL(blob);\n",
              "      a.download = filename;\n",
              "      div.appendChild(a);\n",
              "      a.click();\n",
              "      div.remove();\n",
              "    }\n",
              "  "
            ]
          },
          "metadata": {}
        },
        {
          "output_type": "display_data",
          "data": {
            "text/plain": [
              "<IPython.core.display.Javascript object>"
            ],
            "application/javascript": [
              "download(\"download_618d5659-3114-401c-b72b-a3d5bc4e2348\", \"filtroc_eua.csv\", 2225875)"
            ]
          },
          "metadata": {}
        },
        {
          "output_type": "display_data",
          "data": {
            "text/plain": [
              "<IPython.core.display.Javascript object>"
            ],
            "application/javascript": [
              "\n",
              "    async function download(id, filename, size) {\n",
              "      if (!google.colab.kernel.accessAllowed) {\n",
              "        return;\n",
              "      }\n",
              "      const div = document.createElement('div');\n",
              "      const label = document.createElement('label');\n",
              "      label.textContent = `Downloading \"${filename}\": `;\n",
              "      div.appendChild(label);\n",
              "      const progress = document.createElement('progress');\n",
              "      progress.max = size;\n",
              "      div.appendChild(progress);\n",
              "      document.body.appendChild(div);\n",
              "\n",
              "      const buffers = [];\n",
              "      let downloaded = 0;\n",
              "\n",
              "      const channel = await google.colab.kernel.comms.open(id);\n",
              "      // Send a message to notify the kernel that we're ready.\n",
              "      channel.send({})\n",
              "\n",
              "      for await (const message of channel.messages) {\n",
              "        // Send a message to notify the kernel that we're ready.\n",
              "        channel.send({})\n",
              "        if (message.buffers) {\n",
              "          for (const buffer of message.buffers) {\n",
              "            buffers.push(buffer);\n",
              "            downloaded += buffer.byteLength;\n",
              "            progress.value = downloaded;\n",
              "          }\n",
              "        }\n",
              "      }\n",
              "      const blob = new Blob(buffers, {type: 'application/binary'});\n",
              "      const a = document.createElement('a');\n",
              "      a.href = window.URL.createObjectURL(blob);\n",
              "      a.download = filename;\n",
              "      div.appendChild(a);\n",
              "      a.click();\n",
              "      div.remove();\n",
              "    }\n",
              "  "
            ]
          },
          "metadata": {}
        },
        {
          "output_type": "display_data",
          "data": {
            "text/plain": [
              "<IPython.core.display.Javascript object>"
            ],
            "application/javascript": [
              "download(\"download_cd7989ab-db23-4dd5-af40-9b4bf371b609\", \"filtrod_eua.csv\", 9045)"
            ]
          },
          "metadata": {}
        },
        {
          "output_type": "display_data",
          "data": {
            "text/plain": [
              "<IPython.core.display.Javascript object>"
            ],
            "application/javascript": [
              "\n",
              "    async function download(id, filename, size) {\n",
              "      if (!google.colab.kernel.accessAllowed) {\n",
              "        return;\n",
              "      }\n",
              "      const div = document.createElement('div');\n",
              "      const label = document.createElement('label');\n",
              "      label.textContent = `Downloading \"${filename}\": `;\n",
              "      div.appendChild(label);\n",
              "      const progress = document.createElement('progress');\n",
              "      progress.max = size;\n",
              "      div.appendChild(progress);\n",
              "      document.body.appendChild(div);\n",
              "\n",
              "      const buffers = [];\n",
              "      let downloaded = 0;\n",
              "\n",
              "      const channel = await google.colab.kernel.comms.open(id);\n",
              "      // Send a message to notify the kernel that we're ready.\n",
              "      channel.send({})\n",
              "\n",
              "      for await (const message of channel.messages) {\n",
              "        // Send a message to notify the kernel that we're ready.\n",
              "        channel.send({})\n",
              "        if (message.buffers) {\n",
              "          for (const buffer of message.buffers) {\n",
              "            buffers.push(buffer);\n",
              "            downloaded += buffer.byteLength;\n",
              "            progress.value = downloaded;\n",
              "          }\n",
              "        }\n",
              "      }\n",
              "      const blob = new Blob(buffers, {type: 'application/binary'});\n",
              "      const a = document.createElement('a');\n",
              "      a.href = window.URL.createObjectURL(blob);\n",
              "      a.download = filename;\n",
              "      div.appendChild(a);\n",
              "      a.click();\n",
              "      div.remove();\n",
              "    }\n",
              "  "
            ]
          },
          "metadata": {}
        },
        {
          "output_type": "display_data",
          "data": {
            "text/plain": [
              "<IPython.core.display.Javascript object>"
            ],
            "application/javascript": [
              "download(\"download_4123d049-ef16-4eb6-9180-092e4bc95638\", \"filtroe_eua.csv\", 5821063)"
            ]
          },
          "metadata": {}
        },
        {
          "output_type": "display_data",
          "data": {
            "text/plain": [
              "<IPython.core.display.Javascript object>"
            ],
            "application/javascript": [
              "\n",
              "    async function download(id, filename, size) {\n",
              "      if (!google.colab.kernel.accessAllowed) {\n",
              "        return;\n",
              "      }\n",
              "      const div = document.createElement('div');\n",
              "      const label = document.createElement('label');\n",
              "      label.textContent = `Downloading \"${filename}\": `;\n",
              "      div.appendChild(label);\n",
              "      const progress = document.createElement('progress');\n",
              "      progress.max = size;\n",
              "      div.appendChild(progress);\n",
              "      document.body.appendChild(div);\n",
              "\n",
              "      const buffers = [];\n",
              "      let downloaded = 0;\n",
              "\n",
              "      const channel = await google.colab.kernel.comms.open(id);\n",
              "      // Send a message to notify the kernel that we're ready.\n",
              "      channel.send({})\n",
              "\n",
              "      for await (const message of channel.messages) {\n",
              "        // Send a message to notify the kernel that we're ready.\n",
              "        channel.send({})\n",
              "        if (message.buffers) {\n",
              "          for (const buffer of message.buffers) {\n",
              "            buffers.push(buffer);\n",
              "            downloaded += buffer.byteLength;\n",
              "            progress.value = downloaded;\n",
              "          }\n",
              "        }\n",
              "      }\n",
              "      const blob = new Blob(buffers, {type: 'application/binary'});\n",
              "      const a = document.createElement('a');\n",
              "      a.href = window.URL.createObjectURL(blob);\n",
              "      a.download = filename;\n",
              "      div.appendChild(a);\n",
              "      a.click();\n",
              "      div.remove();\n",
              "    }\n",
              "  "
            ]
          },
          "metadata": {}
        },
        {
          "output_type": "display_data",
          "data": {
            "text/plain": [
              "<IPython.core.display.Javascript object>"
            ],
            "application/javascript": [
              "download(\"download_648cc097-ef48-4e08-83b6-8a04d29b2c33\", \"filtrof_eua.csv\", 6301)"
            ]
          },
          "metadata": {}
        },
        {
          "output_type": "display_data",
          "data": {
            "text/plain": [
              "<IPython.core.display.Javascript object>"
            ],
            "application/javascript": [
              "\n",
              "    async function download(id, filename, size) {\n",
              "      if (!google.colab.kernel.accessAllowed) {\n",
              "        return;\n",
              "      }\n",
              "      const div = document.createElement('div');\n",
              "      const label = document.createElement('label');\n",
              "      label.textContent = `Downloading \"${filename}\": `;\n",
              "      div.appendChild(label);\n",
              "      const progress = document.createElement('progress');\n",
              "      progress.max = size;\n",
              "      div.appendChild(progress);\n",
              "      document.body.appendChild(div);\n",
              "\n",
              "      const buffers = [];\n",
              "      let downloaded = 0;\n",
              "\n",
              "      const channel = await google.colab.kernel.comms.open(id);\n",
              "      // Send a message to notify the kernel that we're ready.\n",
              "      channel.send({})\n",
              "\n",
              "      for await (const message of channel.messages) {\n",
              "        // Send a message to notify the kernel that we're ready.\n",
              "        channel.send({})\n",
              "        if (message.buffers) {\n",
              "          for (const buffer of message.buffers) {\n",
              "            buffers.push(buffer);\n",
              "            downloaded += buffer.byteLength;\n",
              "            progress.value = downloaded;\n",
              "          }\n",
              "        }\n",
              "      }\n",
              "      const blob = new Blob(buffers, {type: 'application/binary'});\n",
              "      const a = document.createElement('a');\n",
              "      a.href = window.URL.createObjectURL(blob);\n",
              "      a.download = filename;\n",
              "      div.appendChild(a);\n",
              "      a.click();\n",
              "      div.remove();\n",
              "    }\n",
              "  "
            ]
          },
          "metadata": {}
        },
        {
          "output_type": "display_data",
          "data": {
            "text/plain": [
              "<IPython.core.display.Javascript object>"
            ],
            "application/javascript": [
              "download(\"download_2dec3037-88f1-47c8-8d6b-249ada8e6bd9\", \"filtrog_eua.csv\", 18259847)"
            ]
          },
          "metadata": {}
        },
        {
          "output_type": "display_data",
          "data": {
            "text/plain": [
              "<IPython.core.display.Javascript object>"
            ],
            "application/javascript": [
              "\n",
              "    async function download(id, filename, size) {\n",
              "      if (!google.colab.kernel.accessAllowed) {\n",
              "        return;\n",
              "      }\n",
              "      const div = document.createElement('div');\n",
              "      const label = document.createElement('label');\n",
              "      label.textContent = `Downloading \"${filename}\": `;\n",
              "      div.appendChild(label);\n",
              "      const progress = document.createElement('progress');\n",
              "      progress.max = size;\n",
              "      div.appendChild(progress);\n",
              "      document.body.appendChild(div);\n",
              "\n",
              "      const buffers = [];\n",
              "      let downloaded = 0;\n",
              "\n",
              "      const channel = await google.colab.kernel.comms.open(id);\n",
              "      // Send a message to notify the kernel that we're ready.\n",
              "      channel.send({})\n",
              "\n",
              "      for await (const message of channel.messages) {\n",
              "        // Send a message to notify the kernel that we're ready.\n",
              "        channel.send({})\n",
              "        if (message.buffers) {\n",
              "          for (const buffer of message.buffers) {\n",
              "            buffers.push(buffer);\n",
              "            downloaded += buffer.byteLength;\n",
              "            progress.value = downloaded;\n",
              "          }\n",
              "        }\n",
              "      }\n",
              "      const blob = new Blob(buffers, {type: 'application/binary'});\n",
              "      const a = document.createElement('a');\n",
              "      a.href = window.URL.createObjectURL(blob);\n",
              "      a.download = filename;\n",
              "      div.appendChild(a);\n",
              "      a.click();\n",
              "      div.remove();\n",
              "    }\n",
              "  "
            ]
          },
          "metadata": {}
        },
        {
          "output_type": "display_data",
          "data": {
            "text/plain": [
              "<IPython.core.display.Javascript object>"
            ],
            "application/javascript": [
              "download(\"download_84572f3c-d8bc-4a07-9400-53fbc4321ede\", \"filtroh_eua.csv\", 4072896)"
            ]
          },
          "metadata": {}
        },
        {
          "output_type": "display_data",
          "data": {
            "text/plain": [
              "<IPython.core.display.Javascript object>"
            ],
            "application/javascript": [
              "\n",
              "    async function download(id, filename, size) {\n",
              "      if (!google.colab.kernel.accessAllowed) {\n",
              "        return;\n",
              "      }\n",
              "      const div = document.createElement('div');\n",
              "      const label = document.createElement('label');\n",
              "      label.textContent = `Downloading \"${filename}\": `;\n",
              "      div.appendChild(label);\n",
              "      const progress = document.createElement('progress');\n",
              "      progress.max = size;\n",
              "      div.appendChild(progress);\n",
              "      document.body.appendChild(div);\n",
              "\n",
              "      const buffers = [];\n",
              "      let downloaded = 0;\n",
              "\n",
              "      const channel = await google.colab.kernel.comms.open(id);\n",
              "      // Send a message to notify the kernel that we're ready.\n",
              "      channel.send({})\n",
              "\n",
              "      for await (const message of channel.messages) {\n",
              "        // Send a message to notify the kernel that we're ready.\n",
              "        channel.send({})\n",
              "        if (message.buffers) {\n",
              "          for (const buffer of message.buffers) {\n",
              "            buffers.push(buffer);\n",
              "            downloaded += buffer.byteLength;\n",
              "            progress.value = downloaded;\n",
              "          }\n",
              "        }\n",
              "      }\n",
              "      const blob = new Blob(buffers, {type: 'application/binary'});\n",
              "      const a = document.createElement('a');\n",
              "      a.href = window.URL.createObjectURL(blob);\n",
              "      a.download = filename;\n",
              "      div.appendChild(a);\n",
              "      a.click();\n",
              "      div.remove();\n",
              "    }\n",
              "  "
            ]
          },
          "metadata": {}
        },
        {
          "output_type": "display_data",
          "data": {
            "text/plain": [
              "<IPython.core.display.Javascript object>"
            ],
            "application/javascript": [
              "download(\"download_af70f8e7-4b40-4249-bec1-9bb265ec3a59\", \"filtroi_eua.csv\", 7991180)"
            ]
          },
          "metadata": {}
        },
        {
          "output_type": "display_data",
          "data": {
            "text/plain": [
              "<IPython.core.display.Javascript object>"
            ],
            "application/javascript": [
              "\n",
              "    async function download(id, filename, size) {\n",
              "      if (!google.colab.kernel.accessAllowed) {\n",
              "        return;\n",
              "      }\n",
              "      const div = document.createElement('div');\n",
              "      const label = document.createElement('label');\n",
              "      label.textContent = `Downloading \"${filename}\": `;\n",
              "      div.appendChild(label);\n",
              "      const progress = document.createElement('progress');\n",
              "      progress.max = size;\n",
              "      div.appendChild(progress);\n",
              "      document.body.appendChild(div);\n",
              "\n",
              "      const buffers = [];\n",
              "      let downloaded = 0;\n",
              "\n",
              "      const channel = await google.colab.kernel.comms.open(id);\n",
              "      // Send a message to notify the kernel that we're ready.\n",
              "      channel.send({})\n",
              "\n",
              "      for await (const message of channel.messages) {\n",
              "        // Send a message to notify the kernel that we're ready.\n",
              "        channel.send({})\n",
              "        if (message.buffers) {\n",
              "          for (const buffer of message.buffers) {\n",
              "            buffers.push(buffer);\n",
              "            downloaded += buffer.byteLength;\n",
              "            progress.value = downloaded;\n",
              "          }\n",
              "        }\n",
              "      }\n",
              "      const blob = new Blob(buffers, {type: 'application/binary'});\n",
              "      const a = document.createElement('a');\n",
              "      a.href = window.URL.createObjectURL(blob);\n",
              "      a.download = filename;\n",
              "      div.appendChild(a);\n",
              "      a.click();\n",
              "      div.remove();\n",
              "    }\n",
              "  "
            ]
          },
          "metadata": {}
        },
        {
          "output_type": "display_data",
          "data": {
            "text/plain": [
              "<IPython.core.display.Javascript object>"
            ],
            "application/javascript": [
              "download(\"download_63058ae1-b2fd-4a22-b997-da930e28ec68\", \"filtroj_eua.csv\", 12920527)"
            ]
          },
          "metadata": {}
        }
      ]
    },
    {
      "cell_type": "markdown",
      "source": [
        "# ***Girona_España.csv***"
      ],
      "metadata": {
        "id": "cKZPfZ67oYlM"
      }
    },
    {
      "cell_type": "markdown",
      "source": [
        "## **ETAPA 1**"
      ],
      "metadata": {
        "id": "AByh4nZVoYlN"
      }
    },
    {
      "cell_type": "code",
      "source": [
        "dfeua = pd.read_csv('Girona_España.csv', encoding = 'unicode_escape')\n",
        "dfeua.info()"
      ],
      "metadata": {
        "colab": {
          "base_uri": "https://localhost:8080/"
        },
        "outputId": "b88a82ab-dbe7-419d-c391-688944ba1997",
        "id": "6Iu2WySQoYlN"
      },
      "execution_count": 1003,
      "outputs": [
        {
          "output_type": "stream",
          "name": "stdout",
          "text": [
            "<class 'pandas.core.frame.DataFrame'>\n",
            "RangeIndex: 19655 entries, 0 to 19654\n",
            "Data columns (total 75 columns):\n",
            " #   Column                                        Non-Null Count  Dtype  \n",
            "---  ------                                        --------------  -----  \n",
            " 0   id                                            19655 non-null  float64\n",
            " 1   listing_url                                   19655 non-null  object \n",
            " 2   scrape_id                                     19655 non-null  float64\n",
            " 3   last_scraped                                  19655 non-null  object \n",
            " 4   source                                        19655 non-null  object \n",
            " 5   name                                          19655 non-null  object \n",
            " 6   description                                   19632 non-null  object \n",
            " 7   neighborhood_overview                         8342 non-null   object \n",
            " 8   picture_url                                   19655 non-null  object \n",
            " 9   host_id                                       19655 non-null  int64  \n",
            " 10  host_url                                      19655 non-null  object \n",
            " 11  host_name                                     19538 non-null  object \n",
            " 12  host_since                                    19538 non-null  object \n",
            " 13  host_location                                 14096 non-null  object \n",
            " 14  host_about                                    11231 non-null  object \n",
            " 15  host_response_time                            17567 non-null  object \n",
            " 16  host_response_rate                            17567 non-null  object \n",
            " 17  host_acceptance_rate                          18502 non-null  object \n",
            " 18  host_is_superhost                             19640 non-null  object \n",
            " 19  host_thumbnail_url                            19538 non-null  object \n",
            " 20  host_picture_url                              19538 non-null  object \n",
            " 21  host_neighbourhood                            1269 non-null   object \n",
            " 22  host_listings_count                           19538 non-null  float64\n",
            " 23  host_total_listings_count                     19538 non-null  float64\n",
            " 24  host_verifications                            19655 non-null  object \n",
            " 25  host_has_profile_pic                          19538 non-null  object \n",
            " 26  host_identity_verified                        19538 non-null  object \n",
            " 27  neighbourhood                                 8342 non-null   object \n",
            " 28  neighbourhood_cleansed                        19655 non-null  object \n",
            " 29  neighbourhood_group_cleansed                  0 non-null      float64\n",
            " 30  latitude                                      19655 non-null  float64\n",
            " 31  longitude                                     19655 non-null  float64\n",
            " 32  property_type                                 19655 non-null  object \n",
            " 33  room_type                                     19655 non-null  object \n",
            " 34  accommodates                                  19655 non-null  int64  \n",
            " 35  bathrooms                                     0 non-null      float64\n",
            " 36  bathrooms_text                                19639 non-null  object \n",
            " 37  bedrooms                                      19152 non-null  float64\n",
            " 38  beds                                          19562 non-null  float64\n",
            " 39  amenities                                     19655 non-null  object \n",
            " 40  price                                         19655 non-null  object \n",
            " 41  minimum_nights                                19655 non-null  int64  \n",
            " 42  maximum_nights                                19655 non-null  int64  \n",
            " 43  minimum_minimum_nights                        19654 non-null  float64\n",
            " 44  maximum_minimum_nights                        19654 non-null  float64\n",
            " 45  minimum_maximum_nights                        19654 non-null  float64\n",
            " 46  maximum_maximum_nights                        19654 non-null  float64\n",
            " 47  minimum_nights_avg_ntm                        19654 non-null  float64\n",
            " 48  maximum_nights_avg_ntm                        19654 non-null  float64\n",
            " 49  calendar_updated                              0 non-null      float64\n",
            " 50  has_availability                              19655 non-null  object \n",
            " 51  availability_30                               19655 non-null  int64  \n",
            " 52  availability_60                               19655 non-null  int64  \n",
            " 53  availability_90                               19655 non-null  int64  \n",
            " 54  availability_365                              19655 non-null  int64  \n",
            " 55  calendar_last_scraped                         19655 non-null  object \n",
            " 56  number_of_reviews                             19655 non-null  int64  \n",
            " 57  number_of_reviews_ltm                         19655 non-null  int64  \n",
            " 58  number_of_reviews_l30d                        19655 non-null  int64  \n",
            " 59  first_review                                  14428 non-null  object \n",
            " 60  last_review                                   14428 non-null  object \n",
            " 61  review_scores_rating                          14428 non-null  float64\n",
            " 62  review_scores_accuracy                        14370 non-null  float64\n",
            " 63  review_scores_cleanliness                     14372 non-null  float64\n",
            " 64  review_scores_checkin                         14371 non-null  float64\n",
            " 65  review_scores_communication                   14370 non-null  float64\n",
            " 66  review_scores_location                        14371 non-null  float64\n",
            " 67  review_scores_value                           14370 non-null  float64\n",
            " 68  license                                       18520 non-null  object \n",
            " 69  instant_bookable                              19655 non-null  object \n",
            " 70  calculated_host_listings_count                19655 non-null  int64  \n",
            " 71  calculated_host_listings_count_entire_homes   19655 non-null  int64  \n",
            " 72  calculated_host_listings_count_private_rooms  19655 non-null  int64  \n",
            " 73  calculated_host_listings_count_shared_rooms   19655 non-null  int64  \n",
            " 74  reviews_per_month                             14428 non-null  float64\n",
            "dtypes: float64(25), int64(15), object(35)\n",
            "memory usage: 11.2+ MB\n"
          ]
        }
      ]
    },
    {
      "cell_type": "code",
      "source": [
        "#Checar si hay valores nulos por columna\n",
        "pd.set_option('display.max_rows', None)\n",
        "valores_nulos=dfeua.isnull().sum().sum()\n",
        "valores_nulos"
      ],
      "metadata": {
        "colab": {
          "base_uri": "https://localhost:8080/"
        },
        "outputId": "29d1b64d-3411-4b45-ae69-cc2091f69ab2",
        "id": "NKSG7cW_oYlN"
      },
      "execution_count": 1004,
      "outputs": [
        {
          "output_type": "execute_result",
          "data": {
            "text/plain": [
              "174630"
            ]
          },
          "metadata": {},
          "execution_count": 1004
        }
      ]
    },
    {
      "cell_type": "markdown",
      "source": [
        "### Filtros"
      ],
      "metadata": {
        "id": "lHcrK4vtoYlN"
      }
    },
    {
      "cell_type": "code",
      "source": [
        "#Crear filtro numerico y no numerico\n",
        "filtroeuanumerico = dfeua.select_dtypes(include=['float64', 'int64'])\n",
        "#filtroeuanumerico.info()"
      ],
      "metadata": {
        "id": "t_6_Xbi0oYlO"
      },
      "execution_count": 1005,
      "outputs": []
    },
    {
      "cell_type": "code",
      "source": [
        "filtroeua = dfeua.select_dtypes('object')\n",
        "#filtroeuanonumerico.info()"
      ],
      "metadata": {
        "id": "Zl92p5RIoYlO"
      },
      "execution_count": 1006,
      "outputs": []
    },
    {
      "cell_type": "markdown",
      "source": [
        "### Nulos"
      ],
      "metadata": {
        "id": "ea3hk-rOoYlO"
      }
    },
    {
      "cell_type": "code",
      "source": [
        "#sustituir los nulos por el promedio de la columna\n",
        "data1 = filtroeuanumerico.copy()\n",
        "filtroeuanumerico = data1.fillna(data1.mean())\n",
        "\n",
        "\n",
        "#sustituir los nulos por 'sin registro'\n",
        "filtroeua = filtroeua.fillna('sin registro')\n"
      ],
      "metadata": {
        "id": "CsaCqwxBoYlO"
      },
      "execution_count": 1007,
      "outputs": []
    },
    {
      "cell_type": "code",
      "source": [
        "#Checar si hay valores nulos por columna    NUMERICO\n",
        "pd.set_option('display.max_rows', None)\n",
        "valores_nulos=filtroeuanumerico.isnull().sum().sum()\n",
        "valores_nulos"
      ],
      "metadata": {
        "colab": {
          "base_uri": "https://localhost:8080/"
        },
        "outputId": "afa1d84b-b767-4791-dd4b-6f0d3b703b58",
        "id": "ShcMTOyyoYlO"
      },
      "execution_count": 1008,
      "outputs": [
        {
          "output_type": "execute_result",
          "data": {
            "text/plain": [
              "58965"
            ]
          },
          "metadata": {},
          "execution_count": 1008
        }
      ]
    },
    {
      "cell_type": "code",
      "source": [
        "#Checar si hay valores nulos por columna    NO NUMERICO\n",
        "pd.set_option('display.max_rows', None)\n",
        "valores_nulos=filtroeua.isnull().sum().sum()\n",
        "valores_nulos"
      ],
      "metadata": {
        "colab": {
          "base_uri": "https://localhost:8080/"
        },
        "outputId": "915b57bf-d98f-4b14-d4f7-148b438b08af",
        "id": "nOsKOm0VoYlO"
      },
      "execution_count": 1009,
      "outputs": [
        {
          "output_type": "execute_result",
          "data": {
            "text/plain": [
              "0"
            ]
          },
          "metadata": {},
          "execution_count": 1009
        }
      ]
    },
    {
      "cell_type": "code",
      "source": [
        "#NUMERICO\n",
        "#Se eliminaron las columnas 'neighbourhood_group_cleansed', 'bathrooms', 'calendar_updated'\n",
        "#ya que son numericas pero no tienen ningun registro\n",
        "filtroeuanumerico = filtroeuanumerico.drop(['neighbourhood_group_cleansed', 'bathrooms', 'calendar_updated'], axis=1)\n",
        "\n",
        "#Checar si hay valores nulos por columna\n",
        "pd.set_option('display.max_rows', None)\n",
        "valores_nulos=filtroeuanumerico.isnull().sum().sum()\n",
        "valores_nulos"
      ],
      "metadata": {
        "colab": {
          "base_uri": "https://localhost:8080/"
        },
        "outputId": "c2b513b3-d461-441d-f639-42b3d60ae84d",
        "id": "PrSZzNyRoYlP"
      },
      "execution_count": 1010,
      "outputs": [
        {
          "output_type": "execute_result",
          "data": {
            "text/plain": [
              "0"
            ]
          },
          "metadata": {},
          "execution_count": 1010
        }
      ]
    },
    {
      "cell_type": "markdown",
      "source": [
        "### Outliers **MÉTODO DE IQR (RANGO INTER QUARTILICO)**"
      ],
      "metadata": {
        "id": "AJCKVQQIoYlP"
      }
    },
    {
      "cell_type": "code",
      "source": [
        "#Método aplicando Cuartiles. Encuentro cuartiles 0.25 y 0.75\n",
        "y=filtroeuanumerico\n",
        "\n",
        "percentile25=y.quantile(0.25) #Q1\n",
        "percentile75=y.quantile(0.75) #Q3\n",
        "iqr= percentile75 - percentile25\n",
        "\n",
        "Limite_Superior_iqr= percentile75 + 1.5*iqr\n",
        "Limite_Inferior_iqr= percentile25 - 1.5*iqr\n",
        "#print(\"Limite superior permitido\", Limite_Superior_iqr)\n",
        "#print(\"Limite inferior permitido\", Limite_Inferior_iqr)"
      ],
      "metadata": {
        "id": "cQ5y4B5GoYlP"
      },
      "execution_count": 1011,
      "outputs": []
    },
    {
      "cell_type": "code",
      "source": [
        "#Encontramos Ouliers\n",
        "outliers_iqr= filtroeuanumerico[(y>Limite_Superior_iqr)|(y<Limite_Inferior_iqr)]\n",
        "#outliers_iqr.head()"
      ],
      "metadata": {
        "id": "DhDKpjoWoYlQ"
      },
      "execution_count": 1012,
      "outputs": []
    },
    {
      "cell_type": "code",
      "source": [
        "#Obtenemos datos limpios\n",
        "data_clean_iqr1= filtroeuanumerico[(y<=Limite_Superior_iqr)&(y>=Limite_Inferior_iqr)]\n",
        "#data_clean_iqr1.head()"
      ],
      "metadata": {
        "id": "moA1uhvZoYlQ"
      },
      "execution_count": 1013,
      "outputs": []
    },
    {
      "cell_type": "code",
      "source": [
        "#Checar si hay valores nulos por columna    NUMERICO\n",
        "pd.set_option('display.max_rows', None)\n",
        "valores_nulos=data_clean_iqr1.isnull().sum().sum()\n",
        "valores_nulos"
      ],
      "metadata": {
        "colab": {
          "base_uri": "https://localhost:8080/"
        },
        "outputId": "f2a9400c-dcae-405b-995c-8f7fbf24b4b0",
        "id": "-8tLm2rloYlQ"
      },
      "execution_count": 1014,
      "outputs": [
        {
          "output_type": "execute_result",
          "data": {
            "text/plain": [
              "37109"
            ]
          },
          "metadata": {},
          "execution_count": 1014
        }
      ]
    },
    {
      "cell_type": "code",
      "source": [
        "#Reemplazamos valores atípicos (nulos) del dataframe con \"mean\"\n",
        "#Realizamos una copia del dataframe\n",
        "data5_iqr=filtroeuanumerico.copy()\n",
        "data5_iqr=data5_iqr.fillna(round(filtroeuanumerico.mean(),1))\n",
        "#data5_iqr"
      ],
      "metadata": {
        "id": "eTMK3K1QoYlR"
      },
      "execution_count": 1015,
      "outputs": []
    },
    {
      "cell_type": "code",
      "source": [
        "#Checar si hay valores nulos por columna    NUMERICO\n",
        "pd.set_option('display.max_rows', None)\n",
        "valores_nulos=data5_iqr.isnull().sum().sum()\n",
        "valores_nulos"
      ],
      "metadata": {
        "colab": {
          "base_uri": "https://localhost:8080/"
        },
        "outputId": "07843d40-fad2-4923-dfe2-453fcbd4bcbc",
        "id": "z61PHk6OoYlR"
      },
      "execution_count": 1016,
      "outputs": [
        {
          "output_type": "execute_result",
          "data": {
            "text/plain": [
              "0"
            ]
          },
          "metadata": {},
          "execution_count": 1016
        }
      ]
    },
    {
      "cell_type": "markdown",
      "source": [
        "### Concatenar"
      ],
      "metadata": {
        "id": "RdU13ZB3oYlR"
      }
    },
    {
      "cell_type": "code",
      "source": [
        "concatenadoeua = pd.concat([data5_iqr, filtroeua], axis=1)\n",
        "concatenadoeua.head()"
      ],
      "metadata": {
        "colab": {
          "base_uri": "https://localhost:8080/",
          "height": 0
        },
        "outputId": "78c6d5e9-184f-4aba-ef9a-60c008bd529b",
        "id": "-3MuvEm1oYlR"
      },
      "execution_count": 1017,
      "outputs": [
        {
          "output_type": "execute_result",
          "data": {
            "text/plain": [
              "          id     scrape_id  host_id  host_listings_count  \\\n",
              "0    14551.0  2.023030e+13    57237                  1.0   \n",
              "1  1205757.0  2.023030e+13  6586355                  1.0   \n",
              "2  1212820.0  2.023030e+13  6620645                  2.0   \n",
              "3   751638.0  2.023030e+13  3680160                  6.0   \n",
              "4    41342.0  2.023030e+13   180072                  2.0   \n",
              "\n",
              "   host_total_listings_count  latitude  longitude  accommodates  bedrooms  \\\n",
              "0                        5.0  41.99650    2.83646             2       1.0   \n",
              "1                        1.0  41.79304    2.77412             2       1.0   \n",
              "2                        3.0  42.11284    3.16670             4       1.0   \n",
              "3                        6.0  42.36958    2.98030             2       1.0   \n",
              "4                        3.0  42.34655    3.20463             4       1.0   \n",
              "\n",
              "   beds  ...        room_type    bathrooms_text  \\\n",
              "0   1.0  ...     Private room    1 private bath   \n",
              "1   1.0  ...     Private room  1.5 shared baths   \n",
              "2   2.0  ...  Entire home/apt            1 bath   \n",
              "3   2.0  ...     Private room    1 private bath   \n",
              "4   1.0  ...  Entire home/apt            1 bath   \n",
              "\n",
              "                                           amenities    price  \\\n",
              "0  [\"Shared pool\", \"Refrigerator\", \"Long term sta...   $42.00   \n",
              "1  [\"Free parking on premises\", \"Refrigerator\", \"...   $47.00   \n",
              "2  [\"Air conditioning\", \"Free parking on premises...   $74.00   \n",
              "3  [\"Hair dryer\", \"Luggage dropoff allowed\", \"Fre...   $45.00   \n",
              "4  [\"Free parking on premises\", \"Refrigerator\", \"...  $120.00   \n",
              "\n",
              "   has_availability  calendar_last_scraped  first_review  last_review  \\\n",
              "0                 t             31/03/2023    08/10/2010   27/02/2023   \n",
              "1                 t             31/03/2023    01/08/2013   26/06/2022   \n",
              "2                 t             01/04/2023    10/06/2013   30/12/2022   \n",
              "3                 t             31/03/2023    23/08/2013   29/08/2022   \n",
              "4                 t             01/04/2023    14/07/2013   28/08/2021   \n",
              "\n",
              "        license  instant_bookable  \n",
              "0   HUTG-049542                 f  \n",
              "1  sin registro                 f  \n",
              "2  sin registro                 f  \n",
              "3      PG000794                 t  \n",
              "4   HUTG-003688                 f  \n",
              "\n",
              "[5 rows x 72 columns]"
            ],
            "text/html": [
              "\n",
              "  <div id=\"df-436d933c-dc14-4482-b017-f0c7f39b18d9\">\n",
              "    <div class=\"colab-df-container\">\n",
              "      <div>\n",
              "<style scoped>\n",
              "    .dataframe tbody tr th:only-of-type {\n",
              "        vertical-align: middle;\n",
              "    }\n",
              "\n",
              "    .dataframe tbody tr th {\n",
              "        vertical-align: top;\n",
              "    }\n",
              "\n",
              "    .dataframe thead th {\n",
              "        text-align: right;\n",
              "    }\n",
              "</style>\n",
              "<table border=\"1\" class=\"dataframe\">\n",
              "  <thead>\n",
              "    <tr style=\"text-align: right;\">\n",
              "      <th></th>\n",
              "      <th>id</th>\n",
              "      <th>scrape_id</th>\n",
              "      <th>host_id</th>\n",
              "      <th>host_listings_count</th>\n",
              "      <th>host_total_listings_count</th>\n",
              "      <th>latitude</th>\n",
              "      <th>longitude</th>\n",
              "      <th>accommodates</th>\n",
              "      <th>bedrooms</th>\n",
              "      <th>beds</th>\n",
              "      <th>...</th>\n",
              "      <th>room_type</th>\n",
              "      <th>bathrooms_text</th>\n",
              "      <th>amenities</th>\n",
              "      <th>price</th>\n",
              "      <th>has_availability</th>\n",
              "      <th>calendar_last_scraped</th>\n",
              "      <th>first_review</th>\n",
              "      <th>last_review</th>\n",
              "      <th>license</th>\n",
              "      <th>instant_bookable</th>\n",
              "    </tr>\n",
              "  </thead>\n",
              "  <tbody>\n",
              "    <tr>\n",
              "      <th>0</th>\n",
              "      <td>14551.0</td>\n",
              "      <td>2.023030e+13</td>\n",
              "      <td>57237</td>\n",
              "      <td>1.0</td>\n",
              "      <td>5.0</td>\n",
              "      <td>41.99650</td>\n",
              "      <td>2.83646</td>\n",
              "      <td>2</td>\n",
              "      <td>1.0</td>\n",
              "      <td>1.0</td>\n",
              "      <td>...</td>\n",
              "      <td>Private room</td>\n",
              "      <td>1 private bath</td>\n",
              "      <td>[\"Shared pool\", \"Refrigerator\", \"Long term sta...</td>\n",
              "      <td>$42.00</td>\n",
              "      <td>t</td>\n",
              "      <td>31/03/2023</td>\n",
              "      <td>08/10/2010</td>\n",
              "      <td>27/02/2023</td>\n",
              "      <td>HUTG-049542</td>\n",
              "      <td>f</td>\n",
              "    </tr>\n",
              "    <tr>\n",
              "      <th>1</th>\n",
              "      <td>1205757.0</td>\n",
              "      <td>2.023030e+13</td>\n",
              "      <td>6586355</td>\n",
              "      <td>1.0</td>\n",
              "      <td>1.0</td>\n",
              "      <td>41.79304</td>\n",
              "      <td>2.77412</td>\n",
              "      <td>2</td>\n",
              "      <td>1.0</td>\n",
              "      <td>1.0</td>\n",
              "      <td>...</td>\n",
              "      <td>Private room</td>\n",
              "      <td>1.5 shared baths</td>\n",
              "      <td>[\"Free parking on premises\", \"Refrigerator\", \"...</td>\n",
              "      <td>$47.00</td>\n",
              "      <td>t</td>\n",
              "      <td>31/03/2023</td>\n",
              "      <td>01/08/2013</td>\n",
              "      <td>26/06/2022</td>\n",
              "      <td>sin registro</td>\n",
              "      <td>f</td>\n",
              "    </tr>\n",
              "    <tr>\n",
              "      <th>2</th>\n",
              "      <td>1212820.0</td>\n",
              "      <td>2.023030e+13</td>\n",
              "      <td>6620645</td>\n",
              "      <td>2.0</td>\n",
              "      <td>3.0</td>\n",
              "      <td>42.11284</td>\n",
              "      <td>3.16670</td>\n",
              "      <td>4</td>\n",
              "      <td>1.0</td>\n",
              "      <td>2.0</td>\n",
              "      <td>...</td>\n",
              "      <td>Entire home/apt</td>\n",
              "      <td>1 bath</td>\n",
              "      <td>[\"Air conditioning\", \"Free parking on premises...</td>\n",
              "      <td>$74.00</td>\n",
              "      <td>t</td>\n",
              "      <td>01/04/2023</td>\n",
              "      <td>10/06/2013</td>\n",
              "      <td>30/12/2022</td>\n",
              "      <td>sin registro</td>\n",
              "      <td>f</td>\n",
              "    </tr>\n",
              "    <tr>\n",
              "      <th>3</th>\n",
              "      <td>751638.0</td>\n",
              "      <td>2.023030e+13</td>\n",
              "      <td>3680160</td>\n",
              "      <td>6.0</td>\n",
              "      <td>6.0</td>\n",
              "      <td>42.36958</td>\n",
              "      <td>2.98030</td>\n",
              "      <td>2</td>\n",
              "      <td>1.0</td>\n",
              "      <td>2.0</td>\n",
              "      <td>...</td>\n",
              "      <td>Private room</td>\n",
              "      <td>1 private bath</td>\n",
              "      <td>[\"Hair dryer\", \"Luggage dropoff allowed\", \"Fre...</td>\n",
              "      <td>$45.00</td>\n",
              "      <td>t</td>\n",
              "      <td>31/03/2023</td>\n",
              "      <td>23/08/2013</td>\n",
              "      <td>29/08/2022</td>\n",
              "      <td>PG000794</td>\n",
              "      <td>t</td>\n",
              "    </tr>\n",
              "    <tr>\n",
              "      <th>4</th>\n",
              "      <td>41342.0</td>\n",
              "      <td>2.023030e+13</td>\n",
              "      <td>180072</td>\n",
              "      <td>2.0</td>\n",
              "      <td>3.0</td>\n",
              "      <td>42.34655</td>\n",
              "      <td>3.20463</td>\n",
              "      <td>4</td>\n",
              "      <td>1.0</td>\n",
              "      <td>1.0</td>\n",
              "      <td>...</td>\n",
              "      <td>Entire home/apt</td>\n",
              "      <td>1 bath</td>\n",
              "      <td>[\"Free parking on premises\", \"Refrigerator\", \"...</td>\n",
              "      <td>$120.00</td>\n",
              "      <td>t</td>\n",
              "      <td>01/04/2023</td>\n",
              "      <td>14/07/2013</td>\n",
              "      <td>28/08/2021</td>\n",
              "      <td>HUTG-003688</td>\n",
              "      <td>f</td>\n",
              "    </tr>\n",
              "  </tbody>\n",
              "</table>\n",
              "<p>5 rows × 72 columns</p>\n",
              "</div>\n",
              "      <button class=\"colab-df-convert\" onclick=\"convertToInteractive('df-436d933c-dc14-4482-b017-f0c7f39b18d9')\"\n",
              "              title=\"Convert this dataframe to an interactive table.\"\n",
              "              style=\"display:none;\">\n",
              "        \n",
              "  <svg xmlns=\"http://www.w3.org/2000/svg\" height=\"24px\"viewBox=\"0 0 24 24\"\n",
              "       width=\"24px\">\n",
              "    <path d=\"M0 0h24v24H0V0z\" fill=\"none\"/>\n",
              "    <path d=\"M18.56 5.44l.94 2.06.94-2.06 2.06-.94-2.06-.94-.94-2.06-.94 2.06-2.06.94zm-11 1L8.5 8.5l.94-2.06 2.06-.94-2.06-.94L8.5 2.5l-.94 2.06-2.06.94zm10 10l.94 2.06.94-2.06 2.06-.94-2.06-.94-.94-2.06-.94 2.06-2.06.94z\"/><path d=\"M17.41 7.96l-1.37-1.37c-.4-.4-.92-.59-1.43-.59-.52 0-1.04.2-1.43.59L10.3 9.45l-7.72 7.72c-.78.78-.78 2.05 0 2.83L4 21.41c.39.39.9.59 1.41.59.51 0 1.02-.2 1.41-.59l7.78-7.78 2.81-2.81c.8-.78.8-2.07 0-2.86zM5.41 20L4 18.59l7.72-7.72 1.47 1.35L5.41 20z\"/>\n",
              "  </svg>\n",
              "      </button>\n",
              "      \n",
              "  <style>\n",
              "    .colab-df-container {\n",
              "      display:flex;\n",
              "      flex-wrap:wrap;\n",
              "      gap: 12px;\n",
              "    }\n",
              "\n",
              "    .colab-df-convert {\n",
              "      background-color: #E8F0FE;\n",
              "      border: none;\n",
              "      border-radius: 50%;\n",
              "      cursor: pointer;\n",
              "      display: none;\n",
              "      fill: #1967D2;\n",
              "      height: 32px;\n",
              "      padding: 0 0 0 0;\n",
              "      width: 32px;\n",
              "    }\n",
              "\n",
              "    .colab-df-convert:hover {\n",
              "      background-color: #E2EBFA;\n",
              "      box-shadow: 0px 1px 2px rgba(60, 64, 67, 0.3), 0px 1px 3px 1px rgba(60, 64, 67, 0.15);\n",
              "      fill: #174EA6;\n",
              "    }\n",
              "\n",
              "    [theme=dark] .colab-df-convert {\n",
              "      background-color: #3B4455;\n",
              "      fill: #D2E3FC;\n",
              "    }\n",
              "\n",
              "    [theme=dark] .colab-df-convert:hover {\n",
              "      background-color: #434B5C;\n",
              "      box-shadow: 0px 1px 3px 1px rgba(0, 0, 0, 0.15);\n",
              "      filter: drop-shadow(0px 1px 2px rgba(0, 0, 0, 0.3));\n",
              "      fill: #FFFFFF;\n",
              "    }\n",
              "  </style>\n",
              "\n",
              "      <script>\n",
              "        const buttonEl =\n",
              "          document.querySelector('#df-436d933c-dc14-4482-b017-f0c7f39b18d9 button.colab-df-convert');\n",
              "        buttonEl.style.display =\n",
              "          google.colab.kernel.accessAllowed ? 'block' : 'none';\n",
              "\n",
              "        async function convertToInteractive(key) {\n",
              "          const element = document.querySelector('#df-436d933c-dc14-4482-b017-f0c7f39b18d9');\n",
              "          const dataTable =\n",
              "            await google.colab.kernel.invokeFunction('convertToInteractive',\n",
              "                                                     [key], {});\n",
              "          if (!dataTable) return;\n",
              "\n",
              "          const docLinkHtml = 'Like what you see? Visit the ' +\n",
              "            '<a target=\"_blank\" href=https://colab.research.google.com/notebooks/data_table.ipynb>data table notebook</a>'\n",
              "            + ' to learn more about interactive tables.';\n",
              "          element.innerHTML = '';\n",
              "          dataTable['output_type'] = 'display_data';\n",
              "          await google.colab.output.renderOutput(dataTable, element);\n",
              "          const docLink = document.createElement('div');\n",
              "          docLink.innerHTML = docLinkHtml;\n",
              "          element.appendChild(docLink);\n",
              "        }\n",
              "      </script>\n",
              "    </div>\n",
              "  </div>\n",
              "  "
            ]
          },
          "metadata": {},
          "execution_count": 1017
        }
      ]
    },
    {
      "cell_type": "markdown",
      "source": [
        "### Guardar a CSV"
      ],
      "metadata": {
        "id": "GikB3dl5oYlR"
      }
    },
    {
      "cell_type": "code",
      "source": [
        "#Convertir archivo filtrado a CSV\n",
        "concatenadoeua.to_csv(\"ESP_limpio.csv\")"
      ],
      "metadata": {
        "id": "lj7D93CvoYlR"
      },
      "execution_count": 1018,
      "outputs": []
    },
    {
      "cell_type": "code",
      "source": [
        "#descargar archivo filtrado en csv\n",
        "from google.colab import files  \n",
        "files.download(\"ESP_limpio.csv\")"
      ],
      "metadata": {
        "id": "M4sPOt1noYlR",
        "colab": {
          "base_uri": "https://localhost:8080/",
          "height": 0
        },
        "outputId": "432fde4b-0a60-4181-d982-45955be63639"
      },
      "execution_count": 1019,
      "outputs": [
        {
          "output_type": "display_data",
          "data": {
            "text/plain": [
              "<IPython.core.display.Javascript object>"
            ],
            "application/javascript": [
              "\n",
              "    async function download(id, filename, size) {\n",
              "      if (!google.colab.kernel.accessAllowed) {\n",
              "        return;\n",
              "      }\n",
              "      const div = document.createElement('div');\n",
              "      const label = document.createElement('label');\n",
              "      label.textContent = `Downloading \"${filename}\": `;\n",
              "      div.appendChild(label);\n",
              "      const progress = document.createElement('progress');\n",
              "      progress.max = size;\n",
              "      div.appendChild(progress);\n",
              "      document.body.appendChild(div);\n",
              "\n",
              "      const buffers = [];\n",
              "      let downloaded = 0;\n",
              "\n",
              "      const channel = await google.colab.kernel.comms.open(id);\n",
              "      // Send a message to notify the kernel that we're ready.\n",
              "      channel.send({})\n",
              "\n",
              "      for await (const message of channel.messages) {\n",
              "        // Send a message to notify the kernel that we're ready.\n",
              "        channel.send({})\n",
              "        if (message.buffers) {\n",
              "          for (const buffer of message.buffers) {\n",
              "            buffers.push(buffer);\n",
              "            downloaded += buffer.byteLength;\n",
              "            progress.value = downloaded;\n",
              "          }\n",
              "        }\n",
              "      }\n",
              "      const blob = new Blob(buffers, {type: 'application/binary'});\n",
              "      const a = document.createElement('a');\n",
              "      a.href = window.URL.createObjectURL(blob);\n",
              "      a.download = filename;\n",
              "      div.appendChild(a);\n",
              "      a.click();\n",
              "      div.remove();\n",
              "    }\n",
              "  "
            ]
          },
          "metadata": {}
        },
        {
          "output_type": "display_data",
          "data": {
            "text/plain": [
              "<IPython.core.display.Javascript object>"
            ],
            "application/javascript": [
              "download(\"download_a5664934-908d-4d93-b506-39db22f820ad\", \"ESP_limpio.csv\", 54729559)"
            ]
          },
          "metadata": {}
        }
      ]
    },
    {
      "cell_type": "markdown",
      "source": [
        "## **ETAPA 2**"
      ],
      "metadata": {
        "id": "gCcQhjC6oYlS"
      }
    },
    {
      "cell_type": "code",
      "source": [
        "#filtroa\n",
        "#se cambiaron los valores \"sin registro\" por \"5%\" para poder identificarlos\n",
        "concatenadoeua[\"host_acceptance_rate\"] = concatenadoeua[\"host_acceptance_rate\"].replace(\"sin registro\", \"5%\")\n",
        "#se elimino el \"%\"\n",
        "concatenadoeua['host_acceptance_rate'] = pd.to_numeric(concatenadoeua['host_acceptance_rate'].str.replace('%', ''))\n",
        "\n"
      ],
      "metadata": {
        "id": "yk-78SGzoYlS"
      },
      "execution_count": 1020,
      "outputs": []
    },
    {
      "cell_type": "code",
      "source": [
        "#filtroe\n",
        "#cambiar Half-bath, Shared half-bath, Private half-bath, sin registro\n",
        "concatenadoeua[\"bathrooms_text\"] = concatenadoeua[\"bathrooms_text\"].str.replace('Half-bath', '0.5').str.replace('Shared half-bath', '0.5').str.replace('Private half-bath', '0.5').str.replace('sin registro', '0')\n",
        "\n",
        "#se extraen los numeros y se guardan como string en la misma columna\n",
        "concatenadoeua[\"bathrooms_text\"] = concatenadoeua[\"bathrooms_text\"].str.extract('(\\d+\\.?\\d*)', expand=False)\n",
        "\n",
        "#cambiar columna a float\n",
        "concatenadoeua[\"bathrooms_text\"] = concatenadoeua[\"bathrooms_text\"].astype(float)"
      ],
      "metadata": {
        "id": "ewR4IjNmoYlS"
      },
      "execution_count": 1021,
      "outputs": []
    },
    {
      "cell_type": "code",
      "source": [
        "#filtrof\n",
        "#se elimino el \"$\" y \",\"\n",
        "#se cambia la columna \"price\" a float para poder compararla\n",
        "concatenadoeua[\"price\"] = concatenadoeua[\"price\"].str.replace(',', '').str.replace('$', '').astype(float)\n"
      ],
      "metadata": {
        "colab": {
          "base_uri": "https://localhost:8080/"
        },
        "outputId": "b8af9319-c3b1-4dd9-8896-ea9f3fb8517e",
        "id": "0pPEv9pHoYlS"
      },
      "execution_count": 1022,
      "outputs": [
        {
          "output_type": "stream",
          "name": "stderr",
          "text": [
            "<ipython-input-1022-af53cb0f8d5c>:4: FutureWarning: The default value of regex will change from True to False in a future version. In addition, single character regular expressions will *not* be treated as literal strings when regex=True.\n",
            "  concatenadoeua[\"price\"] = concatenadoeua[\"price\"].str.replace(',', '').str.replace('$', '').astype(float)\n"
          ]
        }
      ]
    },
    {
      "cell_type": "code",
      "source": [
        "filtroa = concatenadoeua[concatenadoeua[\"host_acceptance_rate\"] > 50]\n",
        "filtrob = concatenadoeua[concatenadoeua[\"host_is_superhost\"] == \"t\"]\n",
        "filtroc = concatenadoeua[concatenadoeua[\"host_identity_verified\"] == \"f\"]\n",
        "filtrod = concatenadoeua[concatenadoeua[\"property_type\"].isin([\"Private room\", \"Hotel room\"])]\n",
        "filtroe = concatenadoeua[concatenadoeua[\"bathrooms_text\"] > 1]\n",
        "filtrof = concatenadoeua.loc[(concatenadoeua['price'] > 10000) & (concatenadoeua['room_type'] == 'Entire home/apt')]\n",
        "filtrog = concatenadoeua[concatenadoeua[\"review_scores_cleanliness\"] > 4.5]\n",
        "filtroh = concatenadoeua[concatenadoeua[\"review_scores_value\"] > 4.9]\n",
        "filtroi = concatenadoeua[concatenadoeua[\"availability_365\"] < 100]\n",
        "filtroj = concatenadoeua[concatenadoeua[\"host_response_time\"] == \"within an hour\"]"
      ],
      "metadata": {
        "id": "1Qi2BwtnoYlS"
      },
      "execution_count": 1023,
      "outputs": []
    },
    {
      "cell_type": "markdown",
      "source": [
        "### Guardar a CSV"
      ],
      "metadata": {
        "id": "W3YoPsanoYlS"
      }
    },
    {
      "cell_type": "code",
      "source": [
        "#Convertir archivo filtrado a CSV\n",
        "filtroa.to_csv(\"filtroa_esp.csv\")\n",
        "filtrob.to_csv(\"filtrob_esp.csv\")\n",
        "filtroc.to_csv(\"filtroc_esp.csv\")\n",
        "filtrod.to_csv(\"filtrod_esp.csv\")\n",
        "filtroe.to_csv(\"filtroe_esp.csv\")\n",
        "filtrof.to_csv(\"filtrof_esp.csv\")\n",
        "filtrog.to_csv(\"filtrog_esp.csv\")\n",
        "filtroh.to_csv(\"filtroh_esp.csv\")\n",
        "filtroi.to_csv(\"filtroi_esp.csv\")\n",
        "filtroj.to_csv(\"filtroj_esp.csv\")"
      ],
      "metadata": {
        "id": "tgOmX_WJoYlS"
      },
      "execution_count": 1024,
      "outputs": []
    },
    {
      "cell_type": "code",
      "source": [
        "#descargar archivo filtrado en csv\n",
        "from google.colab import files  \n",
        "files.download(\"filtroa_esp.csv\")\n",
        "files.download(\"filtrob_esp.csv\")\n",
        "files.download(\"filtroc_esp.csv\")\n",
        "files.download(\"filtrod_esp.csv\")\n",
        "files.download(\"filtroe_esp.csv\")\n",
        "files.download(\"filtrof_esp.csv\")\n",
        "files.download(\"filtrog_esp.csv\")\n",
        "files.download(\"filtroh_esp.csv\")\n",
        "files.download(\"filtroi_esp.csv\")\n",
        "files.download(\"filtroj_esp.csv\")"
      ],
      "metadata": {
        "id": "-qqEUzxKoYlT",
        "colab": {
          "base_uri": "https://localhost:8080/",
          "height": 0
        },
        "outputId": "6d37b073-f5ce-4782-835f-68f963516b0d"
      },
      "execution_count": 1025,
      "outputs": [
        {
          "output_type": "display_data",
          "data": {
            "text/plain": [
              "<IPython.core.display.Javascript object>"
            ],
            "application/javascript": [
              "\n",
              "    async function download(id, filename, size) {\n",
              "      if (!google.colab.kernel.accessAllowed) {\n",
              "        return;\n",
              "      }\n",
              "      const div = document.createElement('div');\n",
              "      const label = document.createElement('label');\n",
              "      label.textContent = `Downloading \"${filename}\": `;\n",
              "      div.appendChild(label);\n",
              "      const progress = document.createElement('progress');\n",
              "      progress.max = size;\n",
              "      div.appendChild(progress);\n",
              "      document.body.appendChild(div);\n",
              "\n",
              "      const buffers = [];\n",
              "      let downloaded = 0;\n",
              "\n",
              "      const channel = await google.colab.kernel.comms.open(id);\n",
              "      // Send a message to notify the kernel that we're ready.\n",
              "      channel.send({})\n",
              "\n",
              "      for await (const message of channel.messages) {\n",
              "        // Send a message to notify the kernel that we're ready.\n",
              "        channel.send({})\n",
              "        if (message.buffers) {\n",
              "          for (const buffer of message.buffers) {\n",
              "            buffers.push(buffer);\n",
              "            downloaded += buffer.byteLength;\n",
              "            progress.value = downloaded;\n",
              "          }\n",
              "        }\n",
              "      }\n",
              "      const blob = new Blob(buffers, {type: 'application/binary'});\n",
              "      const a = document.createElement('a');\n",
              "      a.href = window.URL.createObjectURL(blob);\n",
              "      a.download = filename;\n",
              "      div.appendChild(a);\n",
              "      a.click();\n",
              "      div.remove();\n",
              "    }\n",
              "  "
            ]
          },
          "metadata": {}
        },
        {
          "output_type": "display_data",
          "data": {
            "text/plain": [
              "<IPython.core.display.Javascript object>"
            ],
            "application/javascript": [
              "download(\"download_c7fb8bd1-39af-4edd-9b20-e3a825aefb45\", \"filtroa_esp.csv\", 48988125)"
            ]
          },
          "metadata": {}
        },
        {
          "output_type": "display_data",
          "data": {
            "text/plain": [
              "<IPython.core.display.Javascript object>"
            ],
            "application/javascript": [
              "\n",
              "    async function download(id, filename, size) {\n",
              "      if (!google.colab.kernel.accessAllowed) {\n",
              "        return;\n",
              "      }\n",
              "      const div = document.createElement('div');\n",
              "      const label = document.createElement('label');\n",
              "      label.textContent = `Downloading \"${filename}\": `;\n",
              "      div.appendChild(label);\n",
              "      const progress = document.createElement('progress');\n",
              "      progress.max = size;\n",
              "      div.appendChild(progress);\n",
              "      document.body.appendChild(div);\n",
              "\n",
              "      const buffers = [];\n",
              "      let downloaded = 0;\n",
              "\n",
              "      const channel = await google.colab.kernel.comms.open(id);\n",
              "      // Send a message to notify the kernel that we're ready.\n",
              "      channel.send({})\n",
              "\n",
              "      for await (const message of channel.messages) {\n",
              "        // Send a message to notify the kernel that we're ready.\n",
              "        channel.send({})\n",
              "        if (message.buffers) {\n",
              "          for (const buffer of message.buffers) {\n",
              "            buffers.push(buffer);\n",
              "            downloaded += buffer.byteLength;\n",
              "            progress.value = downloaded;\n",
              "          }\n",
              "        }\n",
              "      }\n",
              "      const blob = new Blob(buffers, {type: 'application/binary'});\n",
              "      const a = document.createElement('a');\n",
              "      a.href = window.URL.createObjectURL(blob);\n",
              "      a.download = filename;\n",
              "      div.appendChild(a);\n",
              "      a.click();\n",
              "      div.remove();\n",
              "    }\n",
              "  "
            ]
          },
          "metadata": {}
        },
        {
          "output_type": "display_data",
          "data": {
            "text/plain": [
              "<IPython.core.display.Javascript object>"
            ],
            "application/javascript": [
              "download(\"download_5745834f-c3c0-483e-b3ad-86e945d54d47\", \"filtrob_esp.csv\", 9077290)"
            ]
          },
          "metadata": {}
        },
        {
          "output_type": "display_data",
          "data": {
            "text/plain": [
              "<IPython.core.display.Javascript object>"
            ],
            "application/javascript": [
              "\n",
              "    async function download(id, filename, size) {\n",
              "      if (!google.colab.kernel.accessAllowed) {\n",
              "        return;\n",
              "      }\n",
              "      const div = document.createElement('div');\n",
              "      const label = document.createElement('label');\n",
              "      label.textContent = `Downloading \"${filename}\": `;\n",
              "      div.appendChild(label);\n",
              "      const progress = document.createElement('progress');\n",
              "      progress.max = size;\n",
              "      div.appendChild(progress);\n",
              "      document.body.appendChild(div);\n",
              "\n",
              "      const buffers = [];\n",
              "      let downloaded = 0;\n",
              "\n",
              "      const channel = await google.colab.kernel.comms.open(id);\n",
              "      // Send a message to notify the kernel that we're ready.\n",
              "      channel.send({})\n",
              "\n",
              "      for await (const message of channel.messages) {\n",
              "        // Send a message to notify the kernel that we're ready.\n",
              "        channel.send({})\n",
              "        if (message.buffers) {\n",
              "          for (const buffer of message.buffers) {\n",
              "            buffers.push(buffer);\n",
              "            downloaded += buffer.byteLength;\n",
              "            progress.value = downloaded;\n",
              "          }\n",
              "        }\n",
              "      }\n",
              "      const blob = new Blob(buffers, {type: 'application/binary'});\n",
              "      const a = document.createElement('a');\n",
              "      a.href = window.URL.createObjectURL(blob);\n",
              "      a.download = filename;\n",
              "      div.appendChild(a);\n",
              "      a.click();\n",
              "      div.remove();\n",
              "    }\n",
              "  "
            ]
          },
          "metadata": {}
        },
        {
          "output_type": "display_data",
          "data": {
            "text/plain": [
              "<IPython.core.display.Javascript object>"
            ],
            "application/javascript": [
              "download(\"download_c6604ee7-978a-418f-87d1-128998bc7ce5\", \"filtroc_esp.csv\", 5311978)"
            ]
          },
          "metadata": {}
        },
        {
          "output_type": "display_data",
          "data": {
            "text/plain": [
              "<IPython.core.display.Javascript object>"
            ],
            "application/javascript": [
              "\n",
              "    async function download(id, filename, size) {\n",
              "      if (!google.colab.kernel.accessAllowed) {\n",
              "        return;\n",
              "      }\n",
              "      const div = document.createElement('div');\n",
              "      const label = document.createElement('label');\n",
              "      label.textContent = `Downloading \"${filename}\": `;\n",
              "      div.appendChild(label);\n",
              "      const progress = document.createElement('progress');\n",
              "      progress.max = size;\n",
              "      div.appendChild(progress);\n",
              "      document.body.appendChild(div);\n",
              "\n",
              "      const buffers = [];\n",
              "      let downloaded = 0;\n",
              "\n",
              "      const channel = await google.colab.kernel.comms.open(id);\n",
              "      // Send a message to notify the kernel that we're ready.\n",
              "      channel.send({})\n",
              "\n",
              "      for await (const message of channel.messages) {\n",
              "        // Send a message to notify the kernel that we're ready.\n",
              "        channel.send({})\n",
              "        if (message.buffers) {\n",
              "          for (const buffer of message.buffers) {\n",
              "            buffers.push(buffer);\n",
              "            downloaded += buffer.byteLength;\n",
              "            progress.value = downloaded;\n",
              "          }\n",
              "        }\n",
              "      }\n",
              "      const blob = new Blob(buffers, {type: 'application/binary'});\n",
              "      const a = document.createElement('a');\n",
              "      a.href = window.URL.createObjectURL(blob);\n",
              "      a.download = filename;\n",
              "      div.appendChild(a);\n",
              "      a.click();\n",
              "      div.remove();\n",
              "    }\n",
              "  "
            ]
          },
          "metadata": {}
        },
        {
          "output_type": "display_data",
          "data": {
            "text/plain": [
              "<IPython.core.display.Javascript object>"
            ],
            "application/javascript": [
              "download(\"download_54c943c6-737c-4af5-9785-b3359a30c9d0\", \"filtrod_esp.csv\", 18573)"
            ]
          },
          "metadata": {}
        },
        {
          "output_type": "display_data",
          "data": {
            "text/plain": [
              "<IPython.core.display.Javascript object>"
            ],
            "application/javascript": [
              "\n",
              "    async function download(id, filename, size) {\n",
              "      if (!google.colab.kernel.accessAllowed) {\n",
              "        return;\n",
              "      }\n",
              "      const div = document.createElement('div');\n",
              "      const label = document.createElement('label');\n",
              "      label.textContent = `Downloading \"${filename}\": `;\n",
              "      div.appendChild(label);\n",
              "      const progress = document.createElement('progress');\n",
              "      progress.max = size;\n",
              "      div.appendChild(progress);\n",
              "      document.body.appendChild(div);\n",
              "\n",
              "      const buffers = [];\n",
              "      let downloaded = 0;\n",
              "\n",
              "      const channel = await google.colab.kernel.comms.open(id);\n",
              "      // Send a message to notify the kernel that we're ready.\n",
              "      channel.send({})\n",
              "\n",
              "      for await (const message of channel.messages) {\n",
              "        // Send a message to notify the kernel that we're ready.\n",
              "        channel.send({})\n",
              "        if (message.buffers) {\n",
              "          for (const buffer of message.buffers) {\n",
              "            buffers.push(buffer);\n",
              "            downloaded += buffer.byteLength;\n",
              "            progress.value = downloaded;\n",
              "          }\n",
              "        }\n",
              "      }\n",
              "      const blob = new Blob(buffers, {type: 'application/binary'});\n",
              "      const a = document.createElement('a');\n",
              "      a.href = window.URL.createObjectURL(blob);\n",
              "      a.download = filename;\n",
              "      div.appendChild(a);\n",
              "      a.click();\n",
              "      div.remove();\n",
              "    }\n",
              "  "
            ]
          },
          "metadata": {}
        },
        {
          "output_type": "display_data",
          "data": {
            "text/plain": [
              "<IPython.core.display.Javascript object>"
            ],
            "application/javascript": [
              "download(\"download_fbd62c25-bc05-4876-b76c-94ca0c539df0\", \"filtroe_esp.csv\", 26273511)"
            ]
          },
          "metadata": {}
        },
        {
          "output_type": "display_data",
          "data": {
            "text/plain": [
              "<IPython.core.display.Javascript object>"
            ],
            "application/javascript": [
              "\n",
              "    async function download(id, filename, size) {\n",
              "      if (!google.colab.kernel.accessAllowed) {\n",
              "        return;\n",
              "      }\n",
              "      const div = document.createElement('div');\n",
              "      const label = document.createElement('label');\n",
              "      label.textContent = `Downloading \"${filename}\": `;\n",
              "      div.appendChild(label);\n",
              "      const progress = document.createElement('progress');\n",
              "      progress.max = size;\n",
              "      div.appendChild(progress);\n",
              "      document.body.appendChild(div);\n",
              "\n",
              "      const buffers = [];\n",
              "      let downloaded = 0;\n",
              "\n",
              "      const channel = await google.colab.kernel.comms.open(id);\n",
              "      // Send a message to notify the kernel that we're ready.\n",
              "      channel.send({})\n",
              "\n",
              "      for await (const message of channel.messages) {\n",
              "        // Send a message to notify the kernel that we're ready.\n",
              "        channel.send({})\n",
              "        if (message.buffers) {\n",
              "          for (const buffer of message.buffers) {\n",
              "            buffers.push(buffer);\n",
              "            downloaded += buffer.byteLength;\n",
              "            progress.value = downloaded;\n",
              "          }\n",
              "        }\n",
              "      }\n",
              "      const blob = new Blob(buffers, {type: 'application/binary'});\n",
              "      const a = document.createElement('a');\n",
              "      a.href = window.URL.createObjectURL(blob);\n",
              "      a.download = filename;\n",
              "      div.appendChild(a);\n",
              "      a.click();\n",
              "      div.remove();\n",
              "    }\n",
              "  "
            ]
          },
          "metadata": {}
        },
        {
          "output_type": "display_data",
          "data": {
            "text/plain": [
              "<IPython.core.display.Javascript object>"
            ],
            "application/javascript": [
              "download(\"download_412ad1b5-cbf5-4416-b0d9-4c98c4332325\", \"filtrof_esp.csv\", 29362)"
            ]
          },
          "metadata": {}
        },
        {
          "output_type": "display_data",
          "data": {
            "text/plain": [
              "<IPython.core.display.Javascript object>"
            ],
            "application/javascript": [
              "\n",
              "    async function download(id, filename, size) {\n",
              "      if (!google.colab.kernel.accessAllowed) {\n",
              "        return;\n",
              "      }\n",
              "      const div = document.createElement('div');\n",
              "      const label = document.createElement('label');\n",
              "      label.textContent = `Downloading \"${filename}\": `;\n",
              "      div.appendChild(label);\n",
              "      const progress = document.createElement('progress');\n",
              "      progress.max = size;\n",
              "      div.appendChild(progress);\n",
              "      document.body.appendChild(div);\n",
              "\n",
              "      const buffers = [];\n",
              "      let downloaded = 0;\n",
              "\n",
              "      const channel = await google.colab.kernel.comms.open(id);\n",
              "      // Send a message to notify the kernel that we're ready.\n",
              "      channel.send({})\n",
              "\n",
              "      for await (const message of channel.messages) {\n",
              "        // Send a message to notify the kernel that we're ready.\n",
              "        channel.send({})\n",
              "        if (message.buffers) {\n",
              "          for (const buffer of message.buffers) {\n",
              "            buffers.push(buffer);\n",
              "            downloaded += buffer.byteLength;\n",
              "            progress.value = downloaded;\n",
              "          }\n",
              "        }\n",
              "      }\n",
              "      const blob = new Blob(buffers, {type: 'application/binary'});\n",
              "      const a = document.createElement('a');\n",
              "      a.href = window.URL.createObjectURL(blob);\n",
              "      a.download = filename;\n",
              "      div.appendChild(a);\n",
              "      a.click();\n",
              "      div.remove();\n",
              "    }\n",
              "  "
            ]
          },
          "metadata": {}
        },
        {
          "output_type": "display_data",
          "data": {
            "text/plain": [
              "<IPython.core.display.Javascript object>"
            ],
            "application/javascript": [
              "download(\"download_ad843cb0-f71c-4d41-a834-59f4a304cf7c\", \"filtrog_esp.csv\", 41119982)"
            ]
          },
          "metadata": {}
        },
        {
          "output_type": "display_data",
          "data": {
            "text/plain": [
              "<IPython.core.display.Javascript object>"
            ],
            "application/javascript": [
              "\n",
              "    async function download(id, filename, size) {\n",
              "      if (!google.colab.kernel.accessAllowed) {\n",
              "        return;\n",
              "      }\n",
              "      const div = document.createElement('div');\n",
              "      const label = document.createElement('label');\n",
              "      label.textContent = `Downloading \"${filename}\": `;\n",
              "      div.appendChild(label);\n",
              "      const progress = document.createElement('progress');\n",
              "      progress.max = size;\n",
              "      div.appendChild(progress);\n",
              "      document.body.appendChild(div);\n",
              "\n",
              "      const buffers = [];\n",
              "      let downloaded = 0;\n",
              "\n",
              "      const channel = await google.colab.kernel.comms.open(id);\n",
              "      // Send a message to notify the kernel that we're ready.\n",
              "      channel.send({})\n",
              "\n",
              "      for await (const message of channel.messages) {\n",
              "        // Send a message to notify the kernel that we're ready.\n",
              "        channel.send({})\n",
              "        if (message.buffers) {\n",
              "          for (const buffer of message.buffers) {\n",
              "            buffers.push(buffer);\n",
              "            downloaded += buffer.byteLength;\n",
              "            progress.value = downloaded;\n",
              "          }\n",
              "        }\n",
              "      }\n",
              "      const blob = new Blob(buffers, {type: 'application/binary'});\n",
              "      const a = document.createElement('a');\n",
              "      a.href = window.URL.createObjectURL(blob);\n",
              "      a.download = filename;\n",
              "      div.appendChild(a);\n",
              "      a.click();\n",
              "      div.remove();\n",
              "    }\n",
              "  "
            ]
          },
          "metadata": {}
        },
        {
          "output_type": "display_data",
          "data": {
            "text/plain": [
              "<IPython.core.display.Javascript object>"
            ],
            "application/javascript": [
              "download(\"download_94302ff7-aadb-4bd7-9f6c-b24ff066247e\", \"filtroh_esp.csv\", 7327281)"
            ]
          },
          "metadata": {}
        },
        {
          "output_type": "display_data",
          "data": {
            "text/plain": [
              "<IPython.core.display.Javascript object>"
            ],
            "application/javascript": [
              "\n",
              "    async function download(id, filename, size) {\n",
              "      if (!google.colab.kernel.accessAllowed) {\n",
              "        return;\n",
              "      }\n",
              "      const div = document.createElement('div');\n",
              "      const label = document.createElement('label');\n",
              "      label.textContent = `Downloading \"${filename}\": `;\n",
              "      div.appendChild(label);\n",
              "      const progress = document.createElement('progress');\n",
              "      progress.max = size;\n",
              "      div.appendChild(progress);\n",
              "      document.body.appendChild(div);\n",
              "\n",
              "      const buffers = [];\n",
              "      let downloaded = 0;\n",
              "\n",
              "      const channel = await google.colab.kernel.comms.open(id);\n",
              "      // Send a message to notify the kernel that we're ready.\n",
              "      channel.send({})\n",
              "\n",
              "      for await (const message of channel.messages) {\n",
              "        // Send a message to notify the kernel that we're ready.\n",
              "        channel.send({})\n",
              "        if (message.buffers) {\n",
              "          for (const buffer of message.buffers) {\n",
              "            buffers.push(buffer);\n",
              "            downloaded += buffer.byteLength;\n",
              "            progress.value = downloaded;\n",
              "          }\n",
              "        }\n",
              "      }\n",
              "      const blob = new Blob(buffers, {type: 'application/binary'});\n",
              "      const a = document.createElement('a');\n",
              "      a.href = window.URL.createObjectURL(blob);\n",
              "      a.download = filename;\n",
              "      div.appendChild(a);\n",
              "      a.click();\n",
              "      div.remove();\n",
              "    }\n",
              "  "
            ]
          },
          "metadata": {}
        },
        {
          "output_type": "display_data",
          "data": {
            "text/plain": [
              "<IPython.core.display.Javascript object>"
            ],
            "application/javascript": [
              "download(\"download_d111cb98-a3e2-4885-a555-62b4a22c4e70\", \"filtroi_esp.csv\", 13674599)"
            ]
          },
          "metadata": {}
        },
        {
          "output_type": "display_data",
          "data": {
            "text/plain": [
              "<IPython.core.display.Javascript object>"
            ],
            "application/javascript": [
              "\n",
              "    async function download(id, filename, size) {\n",
              "      if (!google.colab.kernel.accessAllowed) {\n",
              "        return;\n",
              "      }\n",
              "      const div = document.createElement('div');\n",
              "      const label = document.createElement('label');\n",
              "      label.textContent = `Downloading \"${filename}\": `;\n",
              "      div.appendChild(label);\n",
              "      const progress = document.createElement('progress');\n",
              "      progress.max = size;\n",
              "      div.appendChild(progress);\n",
              "      document.body.appendChild(div);\n",
              "\n",
              "      const buffers = [];\n",
              "      let downloaded = 0;\n",
              "\n",
              "      const channel = await google.colab.kernel.comms.open(id);\n",
              "      // Send a message to notify the kernel that we're ready.\n",
              "      channel.send({})\n",
              "\n",
              "      for await (const message of channel.messages) {\n",
              "        // Send a message to notify the kernel that we're ready.\n",
              "        channel.send({})\n",
              "        if (message.buffers) {\n",
              "          for (const buffer of message.buffers) {\n",
              "            buffers.push(buffer);\n",
              "            downloaded += buffer.byteLength;\n",
              "            progress.value = downloaded;\n",
              "          }\n",
              "        }\n",
              "      }\n",
              "      const blob = new Blob(buffers, {type: 'application/binary'});\n",
              "      const a = document.createElement('a');\n",
              "      a.href = window.URL.createObjectURL(blob);\n",
              "      a.download = filename;\n",
              "      div.appendChild(a);\n",
              "      a.click();\n",
              "      div.remove();\n",
              "    }\n",
              "  "
            ]
          },
          "metadata": {}
        },
        {
          "output_type": "display_data",
          "data": {
            "text/plain": [
              "<IPython.core.display.Javascript object>"
            ],
            "application/javascript": [
              "download(\"download_b0d83d84-51c5-448e-995c-1969c7aed4fd\", \"filtroj_esp.csv\", 35997563)"
            ]
          },
          "metadata": {}
        }
      ]
    },
    {
      "cell_type": "markdown",
      "source": [
        "# ***DF_Mexico.csv***"
      ],
      "metadata": {
        "id": "Kp9SJMfdoY3M"
      }
    },
    {
      "cell_type": "markdown",
      "source": [
        "## **ETAPA 1**"
      ],
      "metadata": {
        "id": "ggM_7KRroY3M"
      }
    },
    {
      "cell_type": "code",
      "source": [
        "dfeua = pd.read_csv('DF_Mexico.csv')#, encoding = 'unicode_escape')\n",
        "dfeua.info()"
      ],
      "metadata": {
        "colab": {
          "base_uri": "https://localhost:8080/"
        },
        "outputId": "a57680e4-cefb-41f2-ccbb-1c1b2e911fbd",
        "id": "lqU4mxOioY3M"
      },
      "execution_count": 1026,
      "outputs": [
        {
          "output_type": "stream",
          "name": "stdout",
          "text": [
            "<class 'pandas.core.frame.DataFrame'>\n",
            "RangeIndex: 24224 entries, 0 to 24223\n",
            "Data columns (total 75 columns):\n",
            " #   Column                                        Non-Null Count  Dtype  \n",
            "---  ------                                        --------------  -----  \n",
            " 0   id                                            24224 non-null  float64\n",
            " 1   listing_url                                   24224 non-null  object \n",
            " 2   scrape_id                                     24224 non-null  float64\n",
            " 3   last_scraped                                  24224 non-null  object \n",
            " 4   source                                        24224 non-null  object \n",
            " 5   name                                          24223 non-null  object \n",
            " 6   description                                   23296 non-null  object \n",
            " 7   neighborhood_overview                         15145 non-null  object \n",
            " 8   picture_url                                   24224 non-null  object \n",
            " 9   host_id                                       24224 non-null  int64  \n",
            " 10  host_url                                      24224 non-null  object \n",
            " 11  host_name                                     24224 non-null  object \n",
            " 12  host_since                                    24224 non-null  object \n",
            " 13  host_location                                 19052 non-null  object \n",
            " 14  host_about                                    13560 non-null  object \n",
            " 15  host_response_time                            21133 non-null  object \n",
            " 16  host_response_rate                            21133 non-null  object \n",
            " 17  host_acceptance_rate                          22181 non-null  object \n",
            " 18  host_is_superhost                             24219 non-null  object \n",
            " 19  host_thumbnail_url                            24224 non-null  object \n",
            " 20  host_picture_url                              24224 non-null  object \n",
            " 21  host_neighbourhood                            11823 non-null  object \n",
            " 22  host_listings_count                           24224 non-null  int64  \n",
            " 23  host_total_listings_count                     24224 non-null  int64  \n",
            " 24  host_verifications                            24224 non-null  object \n",
            " 25  host_has_profile_pic                          24224 non-null  object \n",
            " 26  host_identity_verified                        24224 non-null  object \n",
            " 27  neighbourhood                                 15145 non-null  object \n",
            " 28  neighbourhood_cleansed                        24224 non-null  object \n",
            " 29  neighbourhood_group_cleansed                  0 non-null      float64\n",
            " 30  latitude                                      24224 non-null  float64\n",
            " 31  longitude                                     24224 non-null  float64\n",
            " 32  property_type                                 24224 non-null  object \n",
            " 33  room_type                                     24224 non-null  object \n",
            " 34  accommodates                                  24224 non-null  int64  \n",
            " 35  bathrooms                                     0 non-null      float64\n",
            " 36  bathrooms_text                                24194 non-null  object \n",
            " 37  bedrooms                                      23669 non-null  float64\n",
            " 38  beds                                          23953 non-null  float64\n",
            " 39  amenities                                     24224 non-null  object \n",
            " 40  price                                         24224 non-null  object \n",
            " 41  minimum_nights                                24224 non-null  int64  \n",
            " 42  maximum_nights                                24224 non-null  int64  \n",
            " 43  minimum_minimum_nights                        24223 non-null  float64\n",
            " 44  maximum_minimum_nights                        24223 non-null  float64\n",
            " 45  minimum_maximum_nights                        24223 non-null  float64\n",
            " 46  maximum_maximum_nights                        24223 non-null  float64\n",
            " 47  minimum_nights_avg_ntm                        24223 non-null  float64\n",
            " 48  maximum_nights_avg_ntm                        24223 non-null  float64\n",
            " 49  calendar_updated                              0 non-null      float64\n",
            " 50  has_availability                              24224 non-null  object \n",
            " 51  availability_30                               24224 non-null  int64  \n",
            " 52  availability_60                               24224 non-null  int64  \n",
            " 53  availability_90                               24224 non-null  int64  \n",
            " 54  availability_365                              24224 non-null  int64  \n",
            " 55  calendar_last_scraped                         24224 non-null  object \n",
            " 56  number_of_reviews                             24224 non-null  int64  \n",
            " 57  number_of_reviews_ltm                         24224 non-null  int64  \n",
            " 58  number_of_reviews_l30d                        24224 non-null  int64  \n",
            " 59  first_review                                  20628 non-null  object \n",
            " 60  last_review                                   20628 non-null  object \n",
            " 61  review_scores_rating                          20628 non-null  float64\n",
            " 62  review_scores_accuracy                        20572 non-null  float64\n",
            " 63  review_scores_cleanliness                     20573 non-null  float64\n",
            " 64  review_scores_checkin                         20572 non-null  float64\n",
            " 65  review_scores_communication                   20572 non-null  float64\n",
            " 66  review_scores_location                        20571 non-null  float64\n",
            " 67  review_scores_value                           20571 non-null  float64\n",
            " 68  license                                       0 non-null      float64\n",
            " 69  instant_bookable                              24224 non-null  object \n",
            " 70  calculated_host_listings_count                24224 non-null  int64  \n",
            " 71  calculated_host_listings_count_entire_homes   24224 non-null  int64  \n",
            " 72  calculated_host_listings_count_private_rooms  24224 non-null  int64  \n",
            " 73  calculated_host_listings_count_shared_rooms   24224 non-null  int64  \n",
            " 74  reviews_per_month                             20628 non-null  float64\n",
            "dtypes: float64(24), int64(17), object(34)\n",
            "memory usage: 13.9+ MB\n"
          ]
        }
      ]
    },
    {
      "cell_type": "code",
      "source": [
        "#Checar si hay valores nulos por columna\n",
        "pd.set_option('display.max_rows', None)\n",
        "valores_nulos=dfeua.isnull().sum().sum()\n",
        "valores_nulos"
      ],
      "metadata": {
        "id": "eu_mk4r3oY3N",
        "colab": {
          "base_uri": "https://localhost:8080/"
        },
        "outputId": "8069653c-b02d-4897-fb01-1a41c2179614"
      },
      "execution_count": 1027,
      "outputs": [
        {
          "output_type": "execute_result",
          "data": {
            "text/plain": [
              "189609"
            ]
          },
          "metadata": {},
          "execution_count": 1027
        }
      ]
    },
    {
      "cell_type": "markdown",
      "source": [
        "### Filtros"
      ],
      "metadata": {
        "id": "yW84HL7voY3N"
      }
    },
    {
      "cell_type": "code",
      "source": [
        "#Crear filtro numerico y no numerico\n",
        "filtroeuanumerico = dfeua.select_dtypes(include=['float64', 'int64'])\n",
        "#filtroeuanumerico.info()"
      ],
      "metadata": {
        "id": "3IqXL5osoY3N"
      },
      "execution_count": 1028,
      "outputs": []
    },
    {
      "cell_type": "code",
      "source": [
        "filtroeua = dfeua.select_dtypes('object')\n",
        "#filtroeuanonumerico.info()"
      ],
      "metadata": {
        "id": "YwH6QR0loY3N"
      },
      "execution_count": 1029,
      "outputs": []
    },
    {
      "cell_type": "markdown",
      "source": [
        "### Nulos"
      ],
      "metadata": {
        "id": "x9-4C3edoY3O"
      }
    },
    {
      "cell_type": "code",
      "source": [
        "#sustituir los nulos por el promedio de la columna\n",
        "data1 = filtroeuanumerico.copy()\n",
        "filtroeuanumerico = data1.fillna(data1.mean())\n",
        "\n",
        "\n",
        "#sustituir los nulos por 'sin registro'\n",
        "filtroeua = filtroeua.fillna('sin registro')\n"
      ],
      "metadata": {
        "id": "Q3T7zV16oY3O"
      },
      "execution_count": 1030,
      "outputs": []
    },
    {
      "cell_type": "code",
      "source": [
        "#Checar si hay valores nulos por columna    NUMERICO\n",
        "pd.set_option('display.max_rows', None)\n",
        "valores_nulos=filtroeuanumerico.isnull().sum().sum()\n",
        "valores_nulos"
      ],
      "metadata": {
        "id": "5yO91MJ3oY3O",
        "colab": {
          "base_uri": "https://localhost:8080/"
        },
        "outputId": "d14f464d-585d-42b3-e2fc-c770f29dbb16"
      },
      "execution_count": 1031,
      "outputs": [
        {
          "output_type": "execute_result",
          "data": {
            "text/plain": [
              "96896"
            ]
          },
          "metadata": {},
          "execution_count": 1031
        }
      ]
    },
    {
      "cell_type": "code",
      "source": [
        "#Checar si hay valores nulos por columna    NO NUMERICO\n",
        "pd.set_option('display.max_rows', None)\n",
        "valores_nulos=filtroeua.isnull().sum().sum()\n",
        "valores_nulos"
      ],
      "metadata": {
        "id": "vqifKK2zoY3O",
        "colab": {
          "base_uri": "https://localhost:8080/"
        },
        "outputId": "04b09281-a759-47c2-fe92-b8366e7bba9f"
      },
      "execution_count": 1032,
      "outputs": [
        {
          "output_type": "execute_result",
          "data": {
            "text/plain": [
              "0"
            ]
          },
          "metadata": {},
          "execution_count": 1032
        }
      ]
    },
    {
      "cell_type": "code",
      "source": [
        "#NUMERICO\n",
        "#Se eliminaron las columnas 'neighbourhood_group_cleansed', 'bathrooms', 'calendar_updated', 'license'\n",
        "#ya que son numericas pero no tienen ningun registro\n",
        "filtroeuanumerico = filtroeuanumerico.drop(['neighbourhood_group_cleansed', 'bathrooms', 'calendar_updated','license'], axis=1)\n",
        "\n",
        "#Checar si hay valores nulos por columna\n",
        "pd.set_option('display.max_rows', None)\n",
        "valores_nulos=filtroeuanumerico.isnull().sum().sum()\n",
        "valores_nulos"
      ],
      "metadata": {
        "id": "6nzbVeRHoY3P",
        "colab": {
          "base_uri": "https://localhost:8080/"
        },
        "outputId": "0ec4663b-4ad8-4d52-b040-22ebdadaea26"
      },
      "execution_count": 1033,
      "outputs": [
        {
          "output_type": "execute_result",
          "data": {
            "text/plain": [
              "0"
            ]
          },
          "metadata": {},
          "execution_count": 1033
        }
      ]
    },
    {
      "cell_type": "markdown",
      "source": [
        "### Outliers **MÉTODO DE IQR (RANGO INTER QUARTILICO)**"
      ],
      "metadata": {
        "id": "ruXj42AzoY3P"
      }
    },
    {
      "cell_type": "code",
      "source": [
        "#Método aplicando Cuartiles. Encuentro cuartiles 0.25 y 0.75\n",
        "y=filtroeuanumerico\n",
        "\n",
        "percentile25=y.quantile(0.25) #Q1\n",
        "percentile75=y.quantile(0.75) #Q3\n",
        "iqr= percentile75 - percentile25\n",
        "\n",
        "Limite_Superior_iqr= percentile75 + 1.5*iqr\n",
        "Limite_Inferior_iqr= percentile25 - 1.5*iqr\n",
        "#print(\"Limite superior permitido\", Limite_Superior_iqr)\n",
        "#print(\"Limite inferior permitido\", Limite_Inferior_iqr)"
      ],
      "metadata": {
        "id": "ekbxH3gWoY3P"
      },
      "execution_count": 1034,
      "outputs": []
    },
    {
      "cell_type": "code",
      "source": [
        "#Encontramos Ouliers\n",
        "outliers_iqr= filtroeuanumerico[(y>Limite_Superior_iqr)|(y<Limite_Inferior_iqr)]\n",
        "#outliers_iqr.head()"
      ],
      "metadata": {
        "id": "Wk8Vm8uOoY3P"
      },
      "execution_count": 1035,
      "outputs": []
    },
    {
      "cell_type": "code",
      "source": [
        "#Obtenemos datos limpios\n",
        "data_clean_iqr1= filtroeuanumerico[(y<=Limite_Superior_iqr)&(y>=Limite_Inferior_iqr)]\n",
        "#data_clean_iqr1.head()"
      ],
      "metadata": {
        "id": "klCy0duwoY3P"
      },
      "execution_count": 1036,
      "outputs": []
    },
    {
      "cell_type": "code",
      "source": [
        "#Checar si hay valores nulos por columna    NUMERICO\n",
        "pd.set_option('display.max_rows', None)\n",
        "valores_nulos=data_clean_iqr1.isnull().sum().sum()\n",
        "valores_nulos"
      ],
      "metadata": {
        "id": "_4-wDCh8oY3P",
        "colab": {
          "base_uri": "https://localhost:8080/"
        },
        "outputId": "6c937a5c-842a-4e0e-eff3-72cea094227e"
      },
      "execution_count": 1037,
      "outputs": [
        {
          "output_type": "execute_result",
          "data": {
            "text/plain": [
              "54132"
            ]
          },
          "metadata": {},
          "execution_count": 1037
        }
      ]
    },
    {
      "cell_type": "code",
      "source": [
        "#Reemplazamos valores atípicos (nulos) del dataframe con \"mean\"\n",
        "#Realizamos una copia del dataframe\n",
        "data5_iqr=filtroeuanumerico.copy()\n",
        "data5_iqr=data5_iqr.fillna(round(filtroeuanumerico.mean(),1))\n",
        "#data5_iqr"
      ],
      "metadata": {
        "id": "axTHDOimoY3P"
      },
      "execution_count": 1038,
      "outputs": []
    },
    {
      "cell_type": "code",
      "source": [
        "#Checar si hay valores nulos por columna    NUMERICO\n",
        "pd.set_option('display.max_rows', None)\n",
        "valores_nulos=data5_iqr.isnull().sum().sum()\n",
        "valores_nulos"
      ],
      "metadata": {
        "id": "pHv4xKTzoY3Q",
        "colab": {
          "base_uri": "https://localhost:8080/"
        },
        "outputId": "59770d9a-f65a-4487-990e-3bac821a3db4"
      },
      "execution_count": 1039,
      "outputs": [
        {
          "output_type": "execute_result",
          "data": {
            "text/plain": [
              "0"
            ]
          },
          "metadata": {},
          "execution_count": 1039
        }
      ]
    },
    {
      "cell_type": "markdown",
      "source": [
        "### Concatenar"
      ],
      "metadata": {
        "id": "1eqasY6GoY3Q"
      }
    },
    {
      "cell_type": "code",
      "source": [
        "concatenadoeua = pd.concat([data5_iqr, filtroeua], axis=1)\n",
        "concatenadoeua.head()"
      ],
      "metadata": {
        "id": "g3P27blmoY3Q",
        "colab": {
          "base_uri": "https://localhost:8080/",
          "height": 612
        },
        "outputId": "3b35d79a-fcce-425f-fdf6-019d5d7a9f9b"
      },
      "execution_count": 1040,
      "outputs": [
        {
          "output_type": "execute_result",
          "data": {
            "text/plain": [
              "          id     scrape_id   host_id  host_listings_count  \\\n",
              "0  2056638.0  2.023030e+13  10531228                    3   \n",
              "1  2072354.0  2.023030e+13  16840050                    3   \n",
              "2   696037.0  2.023030e+13   3531879                    4   \n",
              "3    35797.0  2.023030e+13    153786                    1   \n",
              "4    44616.0  2.023030e+13    196253                   16   \n",
              "\n",
              "   host_total_listings_count  latitude  longitude  accommodates  bedrooms  \\\n",
              "0                          7  19.35353  -99.16299             3       1.0   \n",
              "1                          3  19.35358  -99.16948             2       1.0   \n",
              "2                          4  19.44180  -99.18402             6       3.0   \n",
              "3                          1  19.38283  -99.27178             2       1.0   \n",
              "4                         16  19.41162  -99.17794            14       5.0   \n",
              "\n",
              "   beds  ...       property_type        room_type  bathrooms_text  \\\n",
              "0   1.0  ...         Entire loft  Entire home/apt       1.5 baths   \n",
              "1   1.0  ...  Entire guest suite  Entire home/apt          1 bath   \n",
              "2   3.0  ...  Entire rental unit  Entire home/apt         2 baths   \n",
              "3   1.0  ...        Entire villa  Entire home/apt          1 bath   \n",
              "4   8.0  ...         Entire home  Entire home/apt       5.5 baths   \n",
              "\n",
              "                                           amenities       price  \\\n",
              "0  [\"Wifi\", \"Hangers\", \"Fire extinguisher\", \"Sham...   $1,434.00   \n",
              "1  [\"Free street parking\", \"Cleaning products\", \"...     $830.00   \n",
              "2  [\"Wifi \\u2013 38 Mbps\", \"Central air condition...   $1,469.00   \n",
              "3  [\"Wifi\", \"Washer\", \"BBQ grill\", \"Indoor firepl...   $3,658.00   \n",
              "4  [\"Free street parking\", \"Security cameras on p...  $18,000.00   \n",
              "\n",
              "   has_availability  calendar_last_scraped  first_review   last_review  \\\n",
              "0                 t               30/03/23      03/01/14      24/06/18   \n",
              "1                 t               30/03/23      01/01/14      04/11/22   \n",
              "2                 t               29/03/23      31/10/12      21/12/22   \n",
              "3                 t               29/03/23  sin registro  sin registro   \n",
              "4                 t               30/03/23      09/11/11      26/03/23   \n",
              "\n",
              "   instant_bookable  \n",
              "0                 f  \n",
              "1                 f  \n",
              "2                 f  \n",
              "3                 f  \n",
              "4                 f  \n",
              "\n",
              "[5 rows x 71 columns]"
            ],
            "text/html": [
              "\n",
              "  <div id=\"df-16fe8b03-5f79-4552-9856-bb3fabc66973\">\n",
              "    <div class=\"colab-df-container\">\n",
              "      <div>\n",
              "<style scoped>\n",
              "    .dataframe tbody tr th:only-of-type {\n",
              "        vertical-align: middle;\n",
              "    }\n",
              "\n",
              "    .dataframe tbody tr th {\n",
              "        vertical-align: top;\n",
              "    }\n",
              "\n",
              "    .dataframe thead th {\n",
              "        text-align: right;\n",
              "    }\n",
              "</style>\n",
              "<table border=\"1\" class=\"dataframe\">\n",
              "  <thead>\n",
              "    <tr style=\"text-align: right;\">\n",
              "      <th></th>\n",
              "      <th>id</th>\n",
              "      <th>scrape_id</th>\n",
              "      <th>host_id</th>\n",
              "      <th>host_listings_count</th>\n",
              "      <th>host_total_listings_count</th>\n",
              "      <th>latitude</th>\n",
              "      <th>longitude</th>\n",
              "      <th>accommodates</th>\n",
              "      <th>bedrooms</th>\n",
              "      <th>beds</th>\n",
              "      <th>...</th>\n",
              "      <th>property_type</th>\n",
              "      <th>room_type</th>\n",
              "      <th>bathrooms_text</th>\n",
              "      <th>amenities</th>\n",
              "      <th>price</th>\n",
              "      <th>has_availability</th>\n",
              "      <th>calendar_last_scraped</th>\n",
              "      <th>first_review</th>\n",
              "      <th>last_review</th>\n",
              "      <th>instant_bookable</th>\n",
              "    </tr>\n",
              "  </thead>\n",
              "  <tbody>\n",
              "    <tr>\n",
              "      <th>0</th>\n",
              "      <td>2056638.0</td>\n",
              "      <td>2.023030e+13</td>\n",
              "      <td>10531228</td>\n",
              "      <td>3</td>\n",
              "      <td>7</td>\n",
              "      <td>19.35353</td>\n",
              "      <td>-99.16299</td>\n",
              "      <td>3</td>\n",
              "      <td>1.0</td>\n",
              "      <td>1.0</td>\n",
              "      <td>...</td>\n",
              "      <td>Entire loft</td>\n",
              "      <td>Entire home/apt</td>\n",
              "      <td>1.5 baths</td>\n",
              "      <td>[\"Wifi\", \"Hangers\", \"Fire extinguisher\", \"Sham...</td>\n",
              "      <td>$1,434.00</td>\n",
              "      <td>t</td>\n",
              "      <td>30/03/23</td>\n",
              "      <td>03/01/14</td>\n",
              "      <td>24/06/18</td>\n",
              "      <td>f</td>\n",
              "    </tr>\n",
              "    <tr>\n",
              "      <th>1</th>\n",
              "      <td>2072354.0</td>\n",
              "      <td>2.023030e+13</td>\n",
              "      <td>16840050</td>\n",
              "      <td>3</td>\n",
              "      <td>3</td>\n",
              "      <td>19.35358</td>\n",
              "      <td>-99.16948</td>\n",
              "      <td>2</td>\n",
              "      <td>1.0</td>\n",
              "      <td>1.0</td>\n",
              "      <td>...</td>\n",
              "      <td>Entire guest suite</td>\n",
              "      <td>Entire home/apt</td>\n",
              "      <td>1 bath</td>\n",
              "      <td>[\"Free street parking\", \"Cleaning products\", \"...</td>\n",
              "      <td>$830.00</td>\n",
              "      <td>t</td>\n",
              "      <td>30/03/23</td>\n",
              "      <td>01/01/14</td>\n",
              "      <td>04/11/22</td>\n",
              "      <td>f</td>\n",
              "    </tr>\n",
              "    <tr>\n",
              "      <th>2</th>\n",
              "      <td>696037.0</td>\n",
              "      <td>2.023030e+13</td>\n",
              "      <td>3531879</td>\n",
              "      <td>4</td>\n",
              "      <td>4</td>\n",
              "      <td>19.44180</td>\n",
              "      <td>-99.18402</td>\n",
              "      <td>6</td>\n",
              "      <td>3.0</td>\n",
              "      <td>3.0</td>\n",
              "      <td>...</td>\n",
              "      <td>Entire rental unit</td>\n",
              "      <td>Entire home/apt</td>\n",
              "      <td>2 baths</td>\n",
              "      <td>[\"Wifi \\u2013 38 Mbps\", \"Central air condition...</td>\n",
              "      <td>$1,469.00</td>\n",
              "      <td>t</td>\n",
              "      <td>29/03/23</td>\n",
              "      <td>31/10/12</td>\n",
              "      <td>21/12/22</td>\n",
              "      <td>f</td>\n",
              "    </tr>\n",
              "    <tr>\n",
              "      <th>3</th>\n",
              "      <td>35797.0</td>\n",
              "      <td>2.023030e+13</td>\n",
              "      <td>153786</td>\n",
              "      <td>1</td>\n",
              "      <td>1</td>\n",
              "      <td>19.38283</td>\n",
              "      <td>-99.27178</td>\n",
              "      <td>2</td>\n",
              "      <td>1.0</td>\n",
              "      <td>1.0</td>\n",
              "      <td>...</td>\n",
              "      <td>Entire villa</td>\n",
              "      <td>Entire home/apt</td>\n",
              "      <td>1 bath</td>\n",
              "      <td>[\"Wifi\", \"Washer\", \"BBQ grill\", \"Indoor firepl...</td>\n",
              "      <td>$3,658.00</td>\n",
              "      <td>t</td>\n",
              "      <td>29/03/23</td>\n",
              "      <td>sin registro</td>\n",
              "      <td>sin registro</td>\n",
              "      <td>f</td>\n",
              "    </tr>\n",
              "    <tr>\n",
              "      <th>4</th>\n",
              "      <td>44616.0</td>\n",
              "      <td>2.023030e+13</td>\n",
              "      <td>196253</td>\n",
              "      <td>16</td>\n",
              "      <td>16</td>\n",
              "      <td>19.41162</td>\n",
              "      <td>-99.17794</td>\n",
              "      <td>14</td>\n",
              "      <td>5.0</td>\n",
              "      <td>8.0</td>\n",
              "      <td>...</td>\n",
              "      <td>Entire home</td>\n",
              "      <td>Entire home/apt</td>\n",
              "      <td>5.5 baths</td>\n",
              "      <td>[\"Free street parking\", \"Security cameras on p...</td>\n",
              "      <td>$18,000.00</td>\n",
              "      <td>t</td>\n",
              "      <td>30/03/23</td>\n",
              "      <td>09/11/11</td>\n",
              "      <td>26/03/23</td>\n",
              "      <td>f</td>\n",
              "    </tr>\n",
              "  </tbody>\n",
              "</table>\n",
              "<p>5 rows × 71 columns</p>\n",
              "</div>\n",
              "      <button class=\"colab-df-convert\" onclick=\"convertToInteractive('df-16fe8b03-5f79-4552-9856-bb3fabc66973')\"\n",
              "              title=\"Convert this dataframe to an interactive table.\"\n",
              "              style=\"display:none;\">\n",
              "        \n",
              "  <svg xmlns=\"http://www.w3.org/2000/svg\" height=\"24px\"viewBox=\"0 0 24 24\"\n",
              "       width=\"24px\">\n",
              "    <path d=\"M0 0h24v24H0V0z\" fill=\"none\"/>\n",
              "    <path d=\"M18.56 5.44l.94 2.06.94-2.06 2.06-.94-2.06-.94-.94-2.06-.94 2.06-2.06.94zm-11 1L8.5 8.5l.94-2.06 2.06-.94-2.06-.94L8.5 2.5l-.94 2.06-2.06.94zm10 10l.94 2.06.94-2.06 2.06-.94-2.06-.94-.94-2.06-.94 2.06-2.06.94z\"/><path d=\"M17.41 7.96l-1.37-1.37c-.4-.4-.92-.59-1.43-.59-.52 0-1.04.2-1.43.59L10.3 9.45l-7.72 7.72c-.78.78-.78 2.05 0 2.83L4 21.41c.39.39.9.59 1.41.59.51 0 1.02-.2 1.41-.59l7.78-7.78 2.81-2.81c.8-.78.8-2.07 0-2.86zM5.41 20L4 18.59l7.72-7.72 1.47 1.35L5.41 20z\"/>\n",
              "  </svg>\n",
              "      </button>\n",
              "      \n",
              "  <style>\n",
              "    .colab-df-container {\n",
              "      display:flex;\n",
              "      flex-wrap:wrap;\n",
              "      gap: 12px;\n",
              "    }\n",
              "\n",
              "    .colab-df-convert {\n",
              "      background-color: #E8F0FE;\n",
              "      border: none;\n",
              "      border-radius: 50%;\n",
              "      cursor: pointer;\n",
              "      display: none;\n",
              "      fill: #1967D2;\n",
              "      height: 32px;\n",
              "      padding: 0 0 0 0;\n",
              "      width: 32px;\n",
              "    }\n",
              "\n",
              "    .colab-df-convert:hover {\n",
              "      background-color: #E2EBFA;\n",
              "      box-shadow: 0px 1px 2px rgba(60, 64, 67, 0.3), 0px 1px 3px 1px rgba(60, 64, 67, 0.15);\n",
              "      fill: #174EA6;\n",
              "    }\n",
              "\n",
              "    [theme=dark] .colab-df-convert {\n",
              "      background-color: #3B4455;\n",
              "      fill: #D2E3FC;\n",
              "    }\n",
              "\n",
              "    [theme=dark] .colab-df-convert:hover {\n",
              "      background-color: #434B5C;\n",
              "      box-shadow: 0px 1px 3px 1px rgba(0, 0, 0, 0.15);\n",
              "      filter: drop-shadow(0px 1px 2px rgba(0, 0, 0, 0.3));\n",
              "      fill: #FFFFFF;\n",
              "    }\n",
              "  </style>\n",
              "\n",
              "      <script>\n",
              "        const buttonEl =\n",
              "          document.querySelector('#df-16fe8b03-5f79-4552-9856-bb3fabc66973 button.colab-df-convert');\n",
              "        buttonEl.style.display =\n",
              "          google.colab.kernel.accessAllowed ? 'block' : 'none';\n",
              "\n",
              "        async function convertToInteractive(key) {\n",
              "          const element = document.querySelector('#df-16fe8b03-5f79-4552-9856-bb3fabc66973');\n",
              "          const dataTable =\n",
              "            await google.colab.kernel.invokeFunction('convertToInteractive',\n",
              "                                                     [key], {});\n",
              "          if (!dataTable) return;\n",
              "\n",
              "          const docLinkHtml = 'Like what you see? Visit the ' +\n",
              "            '<a target=\"_blank\" href=https://colab.research.google.com/notebooks/data_table.ipynb>data table notebook</a>'\n",
              "            + ' to learn more about interactive tables.';\n",
              "          element.innerHTML = '';\n",
              "          dataTable['output_type'] = 'display_data';\n",
              "          await google.colab.output.renderOutput(dataTable, element);\n",
              "          const docLink = document.createElement('div');\n",
              "          docLink.innerHTML = docLinkHtml;\n",
              "          element.appendChild(docLink);\n",
              "        }\n",
              "      </script>\n",
              "    </div>\n",
              "  </div>\n",
              "  "
            ]
          },
          "metadata": {},
          "execution_count": 1040
        }
      ]
    },
    {
      "cell_type": "markdown",
      "source": [
        "### Guardar a CSV"
      ],
      "metadata": {
        "id": "jFrtT6asoY3Q"
      }
    },
    {
      "cell_type": "code",
      "source": [
        "#Convertir archivo filtrado a CSV\n",
        "concatenadoeua.to_csv(\"MEX_limpio.csv\")"
      ],
      "metadata": {
        "id": "wp3N_J19oY3Q"
      },
      "execution_count": 1041,
      "outputs": []
    },
    {
      "cell_type": "code",
      "source": [
        "#descargar archivo filtrado en csv\n",
        "from google.colab import files  \n",
        "files.download(\"MEX_limpio.csv\")"
      ],
      "metadata": {
        "id": "7JhNgmvdoY3R",
        "colab": {
          "base_uri": "https://localhost:8080/",
          "height": 17
        },
        "outputId": "b635d229-0567-4b30-ed86-524202d1f1d1"
      },
      "execution_count": 1042,
      "outputs": [
        {
          "output_type": "display_data",
          "data": {
            "text/plain": [
              "<IPython.core.display.Javascript object>"
            ],
            "application/javascript": [
              "\n",
              "    async function download(id, filename, size) {\n",
              "      if (!google.colab.kernel.accessAllowed) {\n",
              "        return;\n",
              "      }\n",
              "      const div = document.createElement('div');\n",
              "      const label = document.createElement('label');\n",
              "      label.textContent = `Downloading \"${filename}\": `;\n",
              "      div.appendChild(label);\n",
              "      const progress = document.createElement('progress');\n",
              "      progress.max = size;\n",
              "      div.appendChild(progress);\n",
              "      document.body.appendChild(div);\n",
              "\n",
              "      const buffers = [];\n",
              "      let downloaded = 0;\n",
              "\n",
              "      const channel = await google.colab.kernel.comms.open(id);\n",
              "      // Send a message to notify the kernel that we're ready.\n",
              "      channel.send({})\n",
              "\n",
              "      for await (const message of channel.messages) {\n",
              "        // Send a message to notify the kernel that we're ready.\n",
              "        channel.send({})\n",
              "        if (message.buffers) {\n",
              "          for (const buffer of message.buffers) {\n",
              "            buffers.push(buffer);\n",
              "            downloaded += buffer.byteLength;\n",
              "            progress.value = downloaded;\n",
              "          }\n",
              "        }\n",
              "      }\n",
              "      const blob = new Blob(buffers, {type: 'application/binary'});\n",
              "      const a = document.createElement('a');\n",
              "      a.href = window.URL.createObjectURL(blob);\n",
              "      a.download = filename;\n",
              "      div.appendChild(a);\n",
              "      a.click();\n",
              "      div.remove();\n",
              "    }\n",
              "  "
            ]
          },
          "metadata": {}
        },
        {
          "output_type": "display_data",
          "data": {
            "text/plain": [
              "<IPython.core.display.Javascript object>"
            ],
            "application/javascript": [
              "download(\"download_4935ea3c-27f4-4ae4-b47d-91775ee89e10\", \"MEX_limpio.csv\", 62032894)"
            ]
          },
          "metadata": {}
        }
      ]
    },
    {
      "cell_type": "markdown",
      "source": [
        "## **ETAPA 2**"
      ],
      "metadata": {
        "id": "ZWRXJG57oY3R"
      }
    },
    {
      "cell_type": "code",
      "source": [
        "#filtroa\n",
        "#se cambiaron los valores \"sin registro\" por \"5%\" para poder identificarlos\n",
        "concatenadoeua[\"host_acceptance_rate\"] = concatenadoeua[\"host_acceptance_rate\"].replace(\"sin registro\", \"5%\")\n",
        "#se elimino el \"%\"\n",
        "concatenadoeua['host_acceptance_rate'] = pd.to_numeric(concatenadoeua['host_acceptance_rate'].str.replace('%', ''))\n",
        "\n"
      ],
      "metadata": {
        "id": "rTgIVA8woY3R"
      },
      "execution_count": 1043,
      "outputs": []
    },
    {
      "cell_type": "code",
      "source": [
        "#filtroe\n",
        "#cambiar Half-bath, Shared half-bath, Private half-bath, sin registro\n",
        "concatenadoeua[\"bathrooms_text\"] = concatenadoeua[\"bathrooms_text\"].str.replace('Half-bath', '0.5').str.replace('Shared half-bath', '0.5').str.replace('Private half-bath', '0.5').str.replace('sin registro', '0')\n",
        "\n",
        "#se extraen los numeros y se guardan como string en la misma columna\n",
        "concatenadoeua[\"bathrooms_text\"] = concatenadoeua[\"bathrooms_text\"].str.extract('(\\d+\\.?\\d*)', expand=False)\n",
        "\n",
        "#cambiar columna a float\n",
        "concatenadoeua[\"bathrooms_text\"] = concatenadoeua[\"bathrooms_text\"].astype(float)"
      ],
      "metadata": {
        "id": "5hM09GAIoY3R"
      },
      "execution_count": 1044,
      "outputs": []
    },
    {
      "cell_type": "code",
      "source": [
        "#filtrof\n",
        "#se elimino el \"$\" y \",\"\n",
        "#se cambia la columna \"price\" a float para poder compararla\n",
        "concatenadoeua[\"price\"] = concatenadoeua[\"price\"].str.replace(',', '').str.replace('$', '').astype(float)\n"
      ],
      "metadata": {
        "id": "1kRIPGSEoY3R",
        "colab": {
          "base_uri": "https://localhost:8080/"
        },
        "outputId": "c6356d49-d730-44b7-f067-bb8ada910e85"
      },
      "execution_count": 1045,
      "outputs": [
        {
          "output_type": "stream",
          "name": "stderr",
          "text": [
            "<ipython-input-1045-af53cb0f8d5c>:4: FutureWarning: The default value of regex will change from True to False in a future version. In addition, single character regular expressions will *not* be treated as literal strings when regex=True.\n",
            "  concatenadoeua[\"price\"] = concatenadoeua[\"price\"].str.replace(',', '').str.replace('$', '').astype(float)\n"
          ]
        }
      ]
    },
    {
      "cell_type": "code",
      "source": [
        "filtroa = concatenadoeua[concatenadoeua[\"host_acceptance_rate\"] > 50]\n",
        "filtrob = concatenadoeua[concatenadoeua[\"host_is_superhost\"] == \"t\"]\n",
        "filtroc = concatenadoeua[concatenadoeua[\"host_identity_verified\"] == \"f\"]\n",
        "filtrod = concatenadoeua[concatenadoeua[\"property_type\"].isin([\"Private room\", \"Hotel room\"])]\n",
        "filtroe = concatenadoeua[concatenadoeua[\"bathrooms_text\"] > 1]\n",
        "filtrof = concatenadoeua.loc[(concatenadoeua['price'] > 10000) & (concatenadoeua['room_type'] == 'Entire home/apt')]\n",
        "filtrog = concatenadoeua[concatenadoeua[\"review_scores_cleanliness\"] > 4.5]\n",
        "filtroh = concatenadoeua[concatenadoeua[\"review_scores_value\"] > 4.9]\n",
        "filtroi = concatenadoeua[concatenadoeua[\"availability_365\"] < 100]\n",
        "filtroj = concatenadoeua[concatenadoeua[\"host_response_time\"] == \"within an hour\"]"
      ],
      "metadata": {
        "id": "iYwq4hYsoY3R"
      },
      "execution_count": 1046,
      "outputs": []
    },
    {
      "cell_type": "markdown",
      "source": [
        "### Guardar a CSV"
      ],
      "metadata": {
        "id": "kdOfYqLcoY3R"
      }
    },
    {
      "cell_type": "code",
      "source": [
        "#Convertir archivo filtrado a CSV\n",
        "filtroa.to_csv(\"filtroa_mex.csv\")\n",
        "filtrob.to_csv(\"filtrob_mex.csv\")\n",
        "filtroc.to_csv(\"filtroc_mex.csv\")\n",
        "filtrod.to_csv(\"filtrod_mex.csv\")\n",
        "filtroe.to_csv(\"filtroe_mex.csv\")\n",
        "filtrof.to_csv(\"filtrof_mex.csv\")\n",
        "filtrog.to_csv(\"filtrog_mex.csv\")\n",
        "filtroh.to_csv(\"filtroh_mex.csv\")\n",
        "filtroi.to_csv(\"filtroi_mex.csv\")\n",
        "filtroj.to_csv(\"filtroj_mex.csv\")"
      ],
      "metadata": {
        "id": "tJFp0oU7oY3R"
      },
      "execution_count": 1047,
      "outputs": []
    },
    {
      "cell_type": "code",
      "source": [
        "#descargar archivo filtrado en csv\n",
        "from google.colab import files  \n",
        "files.download(\"filtroa_mex.csv\")\n",
        "files.download(\"filtrob_mex.csv\")\n",
        "files.download(\"filtroc_mex.csv\")\n",
        "files.download(\"filtrod_mex.csv\")\n",
        "files.download(\"filtroe_mex.csv\")\n",
        "files.download(\"filtrof_mex.csv\")\n",
        "files.download(\"filtrog_mex.csv\")\n",
        "files.download(\"filtroh_mex.csv\")\n",
        "files.download(\"filtroi_mex.csv\")\n",
        "files.download(\"filtroj_mex.csv\")"
      ],
      "metadata": {
        "id": "7iU0u6C5oY3S",
        "colab": {
          "base_uri": "https://localhost:8080/",
          "height": 17
        },
        "outputId": "f1a7f86d-67d1-4865-ad03-cb6f74601643"
      },
      "execution_count": 1048,
      "outputs": [
        {
          "output_type": "display_data",
          "data": {
            "text/plain": [
              "<IPython.core.display.Javascript object>"
            ],
            "application/javascript": [
              "\n",
              "    async function download(id, filename, size) {\n",
              "      if (!google.colab.kernel.accessAllowed) {\n",
              "        return;\n",
              "      }\n",
              "      const div = document.createElement('div');\n",
              "      const label = document.createElement('label');\n",
              "      label.textContent = `Downloading \"${filename}\": `;\n",
              "      div.appendChild(label);\n",
              "      const progress = document.createElement('progress');\n",
              "      progress.max = size;\n",
              "      div.appendChild(progress);\n",
              "      document.body.appendChild(div);\n",
              "\n",
              "      const buffers = [];\n",
              "      let downloaded = 0;\n",
              "\n",
              "      const channel = await google.colab.kernel.comms.open(id);\n",
              "      // Send a message to notify the kernel that we're ready.\n",
              "      channel.send({})\n",
              "\n",
              "      for await (const message of channel.messages) {\n",
              "        // Send a message to notify the kernel that we're ready.\n",
              "        channel.send({})\n",
              "        if (message.buffers) {\n",
              "          for (const buffer of message.buffers) {\n",
              "            buffers.push(buffer);\n",
              "            downloaded += buffer.byteLength;\n",
              "            progress.value = downloaded;\n",
              "          }\n",
              "        }\n",
              "      }\n",
              "      const blob = new Blob(buffers, {type: 'application/binary'});\n",
              "      const a = document.createElement('a');\n",
              "      a.href = window.URL.createObjectURL(blob);\n",
              "      a.download = filename;\n",
              "      div.appendChild(a);\n",
              "      a.click();\n",
              "      div.remove();\n",
              "    }\n",
              "  "
            ]
          },
          "metadata": {}
        },
        {
          "output_type": "display_data",
          "data": {
            "text/plain": [
              "<IPython.core.display.Javascript object>"
            ],
            "application/javascript": [
              "download(\"download_85f983f6-d9d0-4aba-b24a-35795a8f0b2e\", \"filtroa_mex.csv\", 54652315)"
            ]
          },
          "metadata": {}
        },
        {
          "output_type": "display_data",
          "data": {
            "text/plain": [
              "<IPython.core.display.Javascript object>"
            ],
            "application/javascript": [
              "\n",
              "    async function download(id, filename, size) {\n",
              "      if (!google.colab.kernel.accessAllowed) {\n",
              "        return;\n",
              "      }\n",
              "      const div = document.createElement('div');\n",
              "      const label = document.createElement('label');\n",
              "      label.textContent = `Downloading \"${filename}\": `;\n",
              "      div.appendChild(label);\n",
              "      const progress = document.createElement('progress');\n",
              "      progress.max = size;\n",
              "      div.appendChild(progress);\n",
              "      document.body.appendChild(div);\n",
              "\n",
              "      const buffers = [];\n",
              "      let downloaded = 0;\n",
              "\n",
              "      const channel = await google.colab.kernel.comms.open(id);\n",
              "      // Send a message to notify the kernel that we're ready.\n",
              "      channel.send({})\n",
              "\n",
              "      for await (const message of channel.messages) {\n",
              "        // Send a message to notify the kernel that we're ready.\n",
              "        channel.send({})\n",
              "        if (message.buffers) {\n",
              "          for (const buffer of message.buffers) {\n",
              "            buffers.push(buffer);\n",
              "            downloaded += buffer.byteLength;\n",
              "            progress.value = downloaded;\n",
              "          }\n",
              "        }\n",
              "      }\n",
              "      const blob = new Blob(buffers, {type: 'application/binary'});\n",
              "      const a = document.createElement('a');\n",
              "      a.href = window.URL.createObjectURL(blob);\n",
              "      a.download = filename;\n",
              "      div.appendChild(a);\n",
              "      a.click();\n",
              "      div.remove();\n",
              "    }\n",
              "  "
            ]
          },
          "metadata": {}
        },
        {
          "output_type": "display_data",
          "data": {
            "text/plain": [
              "<IPython.core.display.Javascript object>"
            ],
            "application/javascript": [
              "download(\"download_7d28f6ad-3935-46b4-b158-5c533b8f8744\", \"filtrob_mex.csv\", 25224753)"
            ]
          },
          "metadata": {}
        },
        {
          "output_type": "display_data",
          "data": {
            "text/plain": [
              "<IPython.core.display.Javascript object>"
            ],
            "application/javascript": [
              "\n",
              "    async function download(id, filename, size) {\n",
              "      if (!google.colab.kernel.accessAllowed) {\n",
              "        return;\n",
              "      }\n",
              "      const div = document.createElement('div');\n",
              "      const label = document.createElement('label');\n",
              "      label.textContent = `Downloading \"${filename}\": `;\n",
              "      div.appendChild(label);\n",
              "      const progress = document.createElement('progress');\n",
              "      progress.max = size;\n",
              "      div.appendChild(progress);\n",
              "      document.body.appendChild(div);\n",
              "\n",
              "      const buffers = [];\n",
              "      let downloaded = 0;\n",
              "\n",
              "      const channel = await google.colab.kernel.comms.open(id);\n",
              "      // Send a message to notify the kernel that we're ready.\n",
              "      channel.send({})\n",
              "\n",
              "      for await (const message of channel.messages) {\n",
              "        // Send a message to notify the kernel that we're ready.\n",
              "        channel.send({})\n",
              "        if (message.buffers) {\n",
              "          for (const buffer of message.buffers) {\n",
              "            buffers.push(buffer);\n",
              "            downloaded += buffer.byteLength;\n",
              "            progress.value = downloaded;\n",
              "          }\n",
              "        }\n",
              "      }\n",
              "      const blob = new Blob(buffers, {type: 'application/binary'});\n",
              "      const a = document.createElement('a');\n",
              "      a.href = window.URL.createObjectURL(blob);\n",
              "      a.download = filename;\n",
              "      div.appendChild(a);\n",
              "      a.click();\n",
              "      div.remove();\n",
              "    }\n",
              "  "
            ]
          },
          "metadata": {}
        },
        {
          "output_type": "display_data",
          "data": {
            "text/plain": [
              "<IPython.core.display.Javascript object>"
            ],
            "application/javascript": [
              "download(\"download_d1f12979-5e1a-42e5-b43b-d1059e21fd5e\", \"filtroc_mex.csv\", 3879486)"
            ]
          },
          "metadata": {}
        },
        {
          "output_type": "display_data",
          "data": {
            "text/plain": [
              "<IPython.core.display.Javascript object>"
            ],
            "application/javascript": [
              "\n",
              "    async function download(id, filename, size) {\n",
              "      if (!google.colab.kernel.accessAllowed) {\n",
              "        return;\n",
              "      }\n",
              "      const div = document.createElement('div');\n",
              "      const label = document.createElement('label');\n",
              "      label.textContent = `Downloading \"${filename}\": `;\n",
              "      div.appendChild(label);\n",
              "      const progress = document.createElement('progress');\n",
              "      progress.max = size;\n",
              "      div.appendChild(progress);\n",
              "      document.body.appendChild(div);\n",
              "\n",
              "      const buffers = [];\n",
              "      let downloaded = 0;\n",
              "\n",
              "      const channel = await google.colab.kernel.comms.open(id);\n",
              "      // Send a message to notify the kernel that we're ready.\n",
              "      channel.send({})\n",
              "\n",
              "      for await (const message of channel.messages) {\n",
              "        // Send a message to notify the kernel that we're ready.\n",
              "        channel.send({})\n",
              "        if (message.buffers) {\n",
              "          for (const buffer of message.buffers) {\n",
              "            buffers.push(buffer);\n",
              "            downloaded += buffer.byteLength;\n",
              "            progress.value = downloaded;\n",
              "          }\n",
              "        }\n",
              "      }\n",
              "      const blob = new Blob(buffers, {type: 'application/binary'});\n",
              "      const a = document.createElement('a');\n",
              "      a.href = window.URL.createObjectURL(blob);\n",
              "      a.download = filename;\n",
              "      div.appendChild(a);\n",
              "      a.click();\n",
              "      div.remove();\n",
              "    }\n",
              "  "
            ]
          },
          "metadata": {}
        },
        {
          "output_type": "display_data",
          "data": {
            "text/plain": [
              "<IPython.core.display.Javascript object>"
            ],
            "application/javascript": [
              "download(\"download_0ae142f5-1cd4-4d41-8fc7-9134afa0dccd\", \"filtrod_mex.csv\", 104324)"
            ]
          },
          "metadata": {}
        },
        {
          "output_type": "display_data",
          "data": {
            "text/plain": [
              "<IPython.core.display.Javascript object>"
            ],
            "application/javascript": [
              "\n",
              "    async function download(id, filename, size) {\n",
              "      if (!google.colab.kernel.accessAllowed) {\n",
              "        return;\n",
              "      }\n",
              "      const div = document.createElement('div');\n",
              "      const label = document.createElement('label');\n",
              "      label.textContent = `Downloading \"${filename}\": `;\n",
              "      div.appendChild(label);\n",
              "      const progress = document.createElement('progress');\n",
              "      progress.max = size;\n",
              "      div.appendChild(progress);\n",
              "      document.body.appendChild(div);\n",
              "\n",
              "      const buffers = [];\n",
              "      let downloaded = 0;\n",
              "\n",
              "      const channel = await google.colab.kernel.comms.open(id);\n",
              "      // Send a message to notify the kernel that we're ready.\n",
              "      channel.send({})\n",
              "\n",
              "      for await (const message of channel.messages) {\n",
              "        // Send a message to notify the kernel that we're ready.\n",
              "        channel.send({})\n",
              "        if (message.buffers) {\n",
              "          for (const buffer of message.buffers) {\n",
              "            buffers.push(buffer);\n",
              "            downloaded += buffer.byteLength;\n",
              "            progress.value = downloaded;\n",
              "          }\n",
              "        }\n",
              "      }\n",
              "      const blob = new Blob(buffers, {type: 'application/binary'});\n",
              "      const a = document.createElement('a');\n",
              "      a.href = window.URL.createObjectURL(blob);\n",
              "      a.download = filename;\n",
              "      div.appendChild(a);\n",
              "      a.click();\n",
              "      div.remove();\n",
              "    }\n",
              "  "
            ]
          },
          "metadata": {}
        },
        {
          "output_type": "display_data",
          "data": {
            "text/plain": [
              "<IPython.core.display.Javascript object>"
            ],
            "application/javascript": [
              "download(\"download_29f5a669-416a-4800-a33a-37cf8d1c28d4\", \"filtroe_mex.csv\", 24217697)"
            ]
          },
          "metadata": {}
        },
        {
          "output_type": "display_data",
          "data": {
            "text/plain": [
              "<IPython.core.display.Javascript object>"
            ],
            "application/javascript": [
              "\n",
              "    async function download(id, filename, size) {\n",
              "      if (!google.colab.kernel.accessAllowed) {\n",
              "        return;\n",
              "      }\n",
              "      const div = document.createElement('div');\n",
              "      const label = document.createElement('label');\n",
              "      label.textContent = `Downloading \"${filename}\": `;\n",
              "      div.appendChild(label);\n",
              "      const progress = document.createElement('progress');\n",
              "      progress.max = size;\n",
              "      div.appendChild(progress);\n",
              "      document.body.appendChild(div);\n",
              "\n",
              "      const buffers = [];\n",
              "      let downloaded = 0;\n",
              "\n",
              "      const channel = await google.colab.kernel.comms.open(id);\n",
              "      // Send a message to notify the kernel that we're ready.\n",
              "      channel.send({})\n",
              "\n",
              "      for await (const message of channel.messages) {\n",
              "        // Send a message to notify the kernel that we're ready.\n",
              "        channel.send({})\n",
              "        if (message.buffers) {\n",
              "          for (const buffer of message.buffers) {\n",
              "            buffers.push(buffer);\n",
              "            downloaded += buffer.byteLength;\n",
              "            progress.value = downloaded;\n",
              "          }\n",
              "        }\n",
              "      }\n",
              "      const blob = new Blob(buffers, {type: 'application/binary'});\n",
              "      const a = document.createElement('a');\n",
              "      a.href = window.URL.createObjectURL(blob);\n",
              "      a.download = filename;\n",
              "      div.appendChild(a);\n",
              "      a.click();\n",
              "      div.remove();\n",
              "    }\n",
              "  "
            ]
          },
          "metadata": {}
        },
        {
          "output_type": "display_data",
          "data": {
            "text/plain": [
              "<IPython.core.display.Javascript object>"
            ],
            "application/javascript": [
              "download(\"download_8ef1cafd-1b97-4609-a4b0-a21c810ba27f\", \"filtrof_mex.csv\", 474905)"
            ]
          },
          "metadata": {}
        },
        {
          "output_type": "display_data",
          "data": {
            "text/plain": [
              "<IPython.core.display.Javascript object>"
            ],
            "application/javascript": [
              "\n",
              "    async function download(id, filename, size) {\n",
              "      if (!google.colab.kernel.accessAllowed) {\n",
              "        return;\n",
              "      }\n",
              "      const div = document.createElement('div');\n",
              "      const label = document.createElement('label');\n",
              "      label.textContent = `Downloading \"${filename}\": `;\n",
              "      div.appendChild(label);\n",
              "      const progress = document.createElement('progress');\n",
              "      progress.max = size;\n",
              "      div.appendChild(progress);\n",
              "      document.body.appendChild(div);\n",
              "\n",
              "      const buffers = [];\n",
              "      let downloaded = 0;\n",
              "\n",
              "      const channel = await google.colab.kernel.comms.open(id);\n",
              "      // Send a message to notify the kernel that we're ready.\n",
              "      channel.send({})\n",
              "\n",
              "      for await (const message of channel.messages) {\n",
              "        // Send a message to notify the kernel that we're ready.\n",
              "        channel.send({})\n",
              "        if (message.buffers) {\n",
              "          for (const buffer of message.buffers) {\n",
              "            buffers.push(buffer);\n",
              "            downloaded += buffer.byteLength;\n",
              "            progress.value = downloaded;\n",
              "          }\n",
              "        }\n",
              "      }\n",
              "      const blob = new Blob(buffers, {type: 'application/binary'});\n",
              "      const a = document.createElement('a');\n",
              "      a.href = window.URL.createObjectURL(blob);\n",
              "      a.download = filename;\n",
              "      div.appendChild(a);\n",
              "      a.click();\n",
              "      div.remove();\n",
              "    }\n",
              "  "
            ]
          },
          "metadata": {}
        },
        {
          "output_type": "display_data",
          "data": {
            "text/plain": [
              "<IPython.core.display.Javascript object>"
            ],
            "application/javascript": [
              "download(\"download_d379ac3a-fa0d-4178-b450-1d1700ec8363\", \"filtrog_mex.csv\", 55343699)"
            ]
          },
          "metadata": {}
        },
        {
          "output_type": "display_data",
          "data": {
            "text/plain": [
              "<IPython.core.display.Javascript object>"
            ],
            "application/javascript": [
              "\n",
              "    async function download(id, filename, size) {\n",
              "      if (!google.colab.kernel.accessAllowed) {\n",
              "        return;\n",
              "      }\n",
              "      const div = document.createElement('div');\n",
              "      const label = document.createElement('label');\n",
              "      label.textContent = `Downloading \"${filename}\": `;\n",
              "      div.appendChild(label);\n",
              "      const progress = document.createElement('progress');\n",
              "      progress.max = size;\n",
              "      div.appendChild(progress);\n",
              "      document.body.appendChild(div);\n",
              "\n",
              "      const buffers = [];\n",
              "      let downloaded = 0;\n",
              "\n",
              "      const channel = await google.colab.kernel.comms.open(id);\n",
              "      // Send a message to notify the kernel that we're ready.\n",
              "      channel.send({})\n",
              "\n",
              "      for await (const message of channel.messages) {\n",
              "        // Send a message to notify the kernel that we're ready.\n",
              "        channel.send({})\n",
              "        if (message.buffers) {\n",
              "          for (const buffer of message.buffers) {\n",
              "            buffers.push(buffer);\n",
              "            downloaded += buffer.byteLength;\n",
              "            progress.value = downloaded;\n",
              "          }\n",
              "        }\n",
              "      }\n",
              "      const blob = new Blob(buffers, {type: 'application/binary'});\n",
              "      const a = document.createElement('a');\n",
              "      a.href = window.URL.createObjectURL(blob);\n",
              "      a.download = filename;\n",
              "      div.appendChild(a);\n",
              "      a.click();\n",
              "      div.remove();\n",
              "    }\n",
              "  "
            ]
          },
          "metadata": {}
        },
        {
          "output_type": "display_data",
          "data": {
            "text/plain": [
              "<IPython.core.display.Javascript object>"
            ],
            "application/javascript": [
              "download(\"download_e20bc05c-77cf-4422-840c-24813eedb55a\", \"filtroh_mex.csv\", 16697452)"
            ]
          },
          "metadata": {}
        },
        {
          "output_type": "display_data",
          "data": {
            "text/plain": [
              "<IPython.core.display.Javascript object>"
            ],
            "application/javascript": [
              "\n",
              "    async function download(id, filename, size) {\n",
              "      if (!google.colab.kernel.accessAllowed) {\n",
              "        return;\n",
              "      }\n",
              "      const div = document.createElement('div');\n",
              "      const label = document.createElement('label');\n",
              "      label.textContent = `Downloading \"${filename}\": `;\n",
              "      div.appendChild(label);\n",
              "      const progress = document.createElement('progress');\n",
              "      progress.max = size;\n",
              "      div.appendChild(progress);\n",
              "      document.body.appendChild(div);\n",
              "\n",
              "      const buffers = [];\n",
              "      let downloaded = 0;\n",
              "\n",
              "      const channel = await google.colab.kernel.comms.open(id);\n",
              "      // Send a message to notify the kernel that we're ready.\n",
              "      channel.send({})\n",
              "\n",
              "      for await (const message of channel.messages) {\n",
              "        // Send a message to notify the kernel that we're ready.\n",
              "        channel.send({})\n",
              "        if (message.buffers) {\n",
              "          for (const buffer of message.buffers) {\n",
              "            buffers.push(buffer);\n",
              "            downloaded += buffer.byteLength;\n",
              "            progress.value = downloaded;\n",
              "          }\n",
              "        }\n",
              "      }\n",
              "      const blob = new Blob(buffers, {type: 'application/binary'});\n",
              "      const a = document.createElement('a');\n",
              "      a.href = window.URL.createObjectURL(blob);\n",
              "      a.download = filename;\n",
              "      div.appendChild(a);\n",
              "      a.click();\n",
              "      div.remove();\n",
              "    }\n",
              "  "
            ]
          },
          "metadata": {}
        },
        {
          "output_type": "display_data",
          "data": {
            "text/plain": [
              "<IPython.core.display.Javascript object>"
            ],
            "application/javascript": [
              "download(\"download_b5d893f5-3812-4113-ad9d-634e1704e352\", \"filtroi_mex.csv\", 12883081)"
            ]
          },
          "metadata": {}
        },
        {
          "output_type": "display_data",
          "data": {
            "text/plain": [
              "<IPython.core.display.Javascript object>"
            ],
            "application/javascript": [
              "\n",
              "    async function download(id, filename, size) {\n",
              "      if (!google.colab.kernel.accessAllowed) {\n",
              "        return;\n",
              "      }\n",
              "      const div = document.createElement('div');\n",
              "      const label = document.createElement('label');\n",
              "      label.textContent = `Downloading \"${filename}\": `;\n",
              "      div.appendChild(label);\n",
              "      const progress = document.createElement('progress');\n",
              "      progress.max = size;\n",
              "      div.appendChild(progress);\n",
              "      document.body.appendChild(div);\n",
              "\n",
              "      const buffers = [];\n",
              "      let downloaded = 0;\n",
              "\n",
              "      const channel = await google.colab.kernel.comms.open(id);\n",
              "      // Send a message to notify the kernel that we're ready.\n",
              "      channel.send({})\n",
              "\n",
              "      for await (const message of channel.messages) {\n",
              "        // Send a message to notify the kernel that we're ready.\n",
              "        channel.send({})\n",
              "        if (message.buffers) {\n",
              "          for (const buffer of message.buffers) {\n",
              "            buffers.push(buffer);\n",
              "            downloaded += buffer.byteLength;\n",
              "            progress.value = downloaded;\n",
              "          }\n",
              "        }\n",
              "      }\n",
              "      const blob = new Blob(buffers, {type: 'application/binary'});\n",
              "      const a = document.createElement('a');\n",
              "      a.href = window.URL.createObjectURL(blob);\n",
              "      a.download = filename;\n",
              "      div.appendChild(a);\n",
              "      a.click();\n",
              "      div.remove();\n",
              "    }\n",
              "  "
            ]
          },
          "metadata": {}
        },
        {
          "output_type": "display_data",
          "data": {
            "text/plain": [
              "<IPython.core.display.Javascript object>"
            ],
            "application/javascript": [
              "download(\"download_4c840e70-a590-43d3-a871-2c53a93b565e\", \"filtroj_mex.csv\", 45461346)"
            ]
          },
          "metadata": {}
        }
      ]
    }
  ]
}